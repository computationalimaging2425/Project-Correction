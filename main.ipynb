{
 "cells": [
  {
   "cell_type": "markdown",
   "id": "7e6b7f9f",
   "metadata": {},
   "source": [
    "# Model and Training"
   ]
  },
  {
   "cell_type": "markdown",
   "id": "0b5a3da1",
   "metadata": {},
   "source": [
    "## Load the model"
   ]
  },
  {
   "cell_type": "code",
   "execution_count": 1,
   "id": "fc529bf9",
   "metadata": {},
   "outputs": [
    {
     "name": "stderr",
     "output_type": "stream",
     "text": [
      "/home/enrico/Desktop/Project-Correction/.venv/lib/python3.12/site-packages/tqdm/auto.py:21: TqdmWarning: IProgress not found. Please update jupyter and ipywidgets. See https://ipywidgets.readthedocs.io/en/stable/user_install.html\n",
      "  from .autonotebook import tqdm as notebook_tqdm\n"
     ]
    },
    {
     "name": "stdout",
     "output_type": "stream",
     "text": [
      "Model Summary:\n",
      "Model Type: UNet2DModel\n",
      "Number of Parameters: 15722625\n",
      "Device: cuda:0\n",
      "Loaded optimizer state from checkpoint 'checkpoints/ddim_unet_epoch20.pth'\n",
      "Loaded checkpoint 'checkpoints/ddim_unet_epoch20.pth' (epoch 20)\n",
      "Model ddim_unet_epoch20.pth loaded and moved to cuda, starting from epoch 20.\n"
     ]
    }
   ],
   "source": [
    "import os\n",
    "import torch\n",
    "import torch.nn.functional as F\n",
    "from torch.utils.data import DataLoader\n",
    "from torchvision import transforms, datasets\n",
    "from diffusers import UNet2DModel, DDPMScheduler, DDIMScheduler\n",
    "ON_COLAB = False  # Set to True if running on Google Colab\n",
    "if ON_COLAB:\n",
    "    !pip install dotenv\n",
    "    \n",
    "from dotenv import load_dotenv\n",
    "\n",
    "# Load environment variables from .env file\n",
    "load_dotenv()\n",
    "\n",
    "\n",
    "# Configuration\n",
    "target_size_for_training = (128, 128)\n",
    "data_root = f\"./raw_data\"  # root directory containing 'train' and 'test' subfolders\n",
    "if ON_COLAB:\n",
    "    from google.colab import drive\n",
    "\n",
    "    drive.mount(os.getenv(\"GOOGLE_DRIVE_CONTENT_PATH\", \"/content/drive\"))\n",
    "    data_root = os.getenv(\"GOOGLE_DRIVE_PATH_RESIZED\", data_root)\n",
    "\n",
    "train_dir = os.path.join(data_root, \"train\")\n",
    "test_dir = os.path.join(data_root, \"test\")\n",
    "model_save_dir = os.getenv(\"MODEL_SAVE_DIR\", \"./checkpoints\")\n",
    "os.makedirs(model_save_dir, exist_ok=True)\n",
    "DEVICE = torch.device(\"cuda\" if torch.cuda.is_available() else \"cpu\")\n",
    "LEARNING_RATE = 1e-4\n",
    "IMAGE_SIZE = target_size_for_training[0]\n",
    "\n",
    "# 2. Define the UNet diffusion model\n",
    "from model import get_unet_model\n",
    "\n",
    "model = get_unet_model(\n",
    "    sample_size=IMAGE_SIZE,\n",
    "    in_channels=1,\n",
    "    out_channels=1,\n",
    "    layers_per_block=2,\n",
    "    block_out_channels=(64, 128, 256),\n",
    "    down_block_types=(\"DownBlock2D\", \"DownBlock2D\", \"AttnDownBlock2D\"),\n",
    "    up_block_types=(\"AttnUpBlock2D\", \"UpBlock2D\", \"UpBlock2D\"),\n",
    "    dropout=0.1,\n",
    ").to(DEVICE)\n",
    "\n",
    "# Print model summary\n",
    "def print_model_summary(model):\n",
    "    print(\"Model Summary:\")\n",
    "    print(f\"Model Type: {type(model).__name__}\")\n",
    "    print(f\"Number of Parameters: {sum(p.numel() for p in model.parameters())}\")\n",
    "    print(f\"Device: {next(model.parameters()).device}\")\n",
    "\n",
    "print_model_summary(model)\n",
    "\n",
    "\n",
    "# 5. Load the model checkpoint if available\n",
    "def load_checkpoint(ckpt_path, model, optimizer=None, device=torch.device(\"cpu\")):\n",
    "    loaded = False\n",
    "    if not os.path.exists(ckpt_path):\n",
    "        print(f\"No checkpoint found at {ckpt_path}, starting fresh.\")\n",
    "        return loaded, model, optimizer, 0\n",
    "\n",
    "    checkpoint = torch.load(ckpt_path, map_location=device)\n",
    "    \n",
    "    # Rimuovi il prefisso \"_orig_mod.\" dalle chiavi se presente\n",
    "    new_state_dict = {}\n",
    "    for k, v in checkpoint[\"model\"].items():\n",
    "        if k.startswith(\"_orig_mod.\"):\n",
    "            new_k = k.replace(\"_orig_mod.\", \"\")\n",
    "            new_state_dict[new_k] = v\n",
    "        else:\n",
    "            new_state_dict[k] = v\n",
    "    \n",
    "    model.load_state_dict(new_state_dict)\n",
    "    model.to(device)\n",
    "    loaded = True\n",
    "    start_epoch = checkpoint.get(\"epoch\", 0)\n",
    "    \n",
    "    if optimizer is not None and \"optimizer\" in checkpoint:\n",
    "        optimizer.load_state_dict(checkpoint[\"optimizer\"])\n",
    "        print(f\"Loaded optimizer state from checkpoint '{ckpt_path}'\")\n",
    "    else:\n",
    "        print(\"Optimizer state not found in checkpoint, starting with a new optimizer.\")\n",
    "    \n",
    "    print(f\"Loaded checkpoint '{ckpt_path}' (epoch {start_epoch})\")\n",
    "    return loaded, model, optimizer, start_epoch\n",
    "\n",
    "\n",
    "WEIGHT_DECAY = 1e-5  # weight decay for regularization\n",
    "optimizer = torch.optim.Adam(\n",
    "    model.parameters(), lr=LEARNING_RATE, weight_decay=WEIGHT_DECAY\n",
    ")\n",
    "\n",
    "# Load the model checkpoint\n",
    "ckpt = \"checkpoints/ddim_unet_epoch20.pth\"\n",
    "isModelLoadedFromCheckpoint, model, optimizer, start_epoch = load_checkpoint(\n",
    "    ckpt, model, optimizer, device=DEVICE\n",
    ")\n",
    "model.eval()\n",
    "if isModelLoadedFromCheckpoint:\n",
    "    print(f\"Model {ckpt.split('/')[-1]} loaded and moved to {DEVICE}, starting from epoch {start_epoch}.\")\n",
    "else:\n",
    "    print(f\"Model {ckpt.split('/')[-1]} not found. Starting from scratch, loaded on {DEVICE}, starting from epoch {start_epoch}.\")\n",
    "\n",
    "train_losses, val_losses = [], []"
   ]
  },
  {
   "cell_type": "markdown",
   "id": "7803fcc0",
   "metadata": {},
   "source": [
    "## Training and validation"
   ]
  },
  {
   "cell_type": "code",
   "execution_count": 2,
   "id": "4efcde23",
   "metadata": {},
   "outputs": [
    {
     "name": "stdout",
     "output_type": "stream",
     "text": [
      "Training images before augmentation: 3306\n",
      "Validation images before augmentation: 327\n",
      "Training samples: 13224\n",
      "Validation samples: 1308\n",
      "Training on cuda | Batch Size: 16 | Epochs: 20 | Starting at epoch 20\n",
      "[Epoch 1/20 | Step 50/827] Train Loss: 0.003687\n",
      "[Epoch 1/20 | Step 100/827] Train Loss: 0.006230\n",
      "[Epoch 1/20 | Step 150/827] Train Loss: 0.006234\n",
      "[Epoch 1/20 | Step 200/827] Train Loss: 0.003620\n",
      "[Epoch 1/20 | Step 250/827] Train Loss: 0.004187\n",
      "[Epoch 1/20 | Step 300/827] Train Loss: 0.005167\n",
      "[Epoch 1/20 | Step 350/827] Train Loss: 0.009289\n",
      "[Epoch 1/20 | Step 400/827] Train Loss: 0.009819\n",
      "[Epoch 1/20 | Step 450/827] Train Loss: 0.009065\n",
      "[Epoch 1/20 | Step 500/827] Train Loss: 0.011442\n",
      "[Epoch 1/20 | Step 550/827] Train Loss: 0.004098\n",
      "[Epoch 1/20 | Step 600/827] Train Loss: 0.003452\n",
      "[Epoch 1/20 | Step 650/827] Train Loss: 0.009868\n",
      "[Epoch 1/20 | Step 700/827] Train Loss: 0.009282\n",
      "[Epoch 1/20 | Step 750/827] Train Loss: 0.008340\n",
      "[Epoch 1/20 | Step 800/827] Train Loss: 0.006633\n",
      "[Epoch 1/20 | Step 827/827] Train Loss: 0.003613\n"
     ]
    },
    {
     "name": "stderr",
     "output_type": "stream",
     "text": [
      "Sampling DDIM: 100%|██████████| 1000/1000 [00:25<00:00, 39.96it/s]"
     ]
    },
    {
     "name": "stdout",
     "output_type": "stream",
     "text": [
      "Sample saved to ./checkpoints/epoch_21.png\n",
      "Epoch 1 complete. Avg Train Loss: 0.009194\n"
     ]
    },
    {
     "name": "stderr",
     "output_type": "stream",
     "text": [
      "\n"
     ]
    },
    {
     "name": "stdout",
     "output_type": "stream",
     "text": [
      "Epoch 1 complete. Avg Validation Loss: 0.008917\n",
      "Checkpoint salvato in: ./checkpoints/ddim_unet_epoch21.pth\n",
      "[Epoch 2/20 | Step 50/827] Train Loss: 0.012009\n",
      "[Epoch 2/20 | Step 100/827] Train Loss: 0.007240\n",
      "[Epoch 2/20 | Step 150/827] Train Loss: 0.005496\n",
      "[Epoch 2/20 | Step 200/827] Train Loss: 0.024238\n",
      "[Epoch 2/20 | Step 250/827] Train Loss: 0.002915\n",
      "[Epoch 2/20 | Step 300/827] Train Loss: 0.013295\n",
      "[Epoch 2/20 | Step 350/827] Train Loss: 0.006332\n",
      "[Epoch 2/20 | Step 400/827] Train Loss: 0.012111\n",
      "[Epoch 2/20 | Step 450/827] Train Loss: 0.009298\n",
      "[Epoch 2/20 | Step 500/827] Train Loss: 0.003065\n",
      "[Epoch 2/20 | Step 550/827] Train Loss: 0.006169\n",
      "[Epoch 2/20 | Step 600/827] Train Loss: 0.008176\n",
      "[Epoch 2/20 | Step 650/827] Train Loss: 0.033971\n",
      "[Epoch 2/20 | Step 700/827] Train Loss: 0.003534\n",
      "[Epoch 2/20 | Step 750/827] Train Loss: 0.003800\n",
      "[Epoch 2/20 | Step 800/827] Train Loss: 0.013596\n",
      "[Epoch 2/20 | Step 827/827] Train Loss: 0.002589\n"
     ]
    },
    {
     "name": "stderr",
     "output_type": "stream",
     "text": [
      "Sampling DDIM: 100%|██████████| 1000/1000 [00:22<00:00, 44.79it/s]"
     ]
    },
    {
     "name": "stdout",
     "output_type": "stream",
     "text": [
      "Sample saved to ./checkpoints/epoch_22.png\n",
      "Epoch 2 complete. Avg Train Loss: 0.009984\n"
     ]
    },
    {
     "name": "stderr",
     "output_type": "stream",
     "text": [
      "\n"
     ]
    },
    {
     "name": "stdout",
     "output_type": "stream",
     "text": [
      "Epoch 2 complete. Avg Validation Loss: 0.009683\n",
      "Checkpoint salvato in: ./checkpoints/ddim_unet_epoch22.pth\n",
      "[Epoch 3/20 | Step 50/827] Train Loss: 0.007964\n",
      "[Epoch 3/20 | Step 100/827] Train Loss: 0.006499\n",
      "[Epoch 3/20 | Step 150/827] Train Loss: 0.007390\n",
      "[Epoch 3/20 | Step 200/827] Train Loss: 0.003921\n",
      "[Epoch 3/20 | Step 250/827] Train Loss: 0.004722\n",
      "[Epoch 3/20 | Step 300/827] Train Loss: 0.019422\n",
      "[Epoch 3/20 | Step 350/827] Train Loss: 0.009451\n",
      "[Epoch 3/20 | Step 400/827] Train Loss: 0.003078\n",
      "[Epoch 3/20 | Step 450/827] Train Loss: 0.006598\n",
      "[Epoch 3/20 | Step 500/827] Train Loss: 0.003109\n",
      "[Epoch 3/20 | Step 550/827] Train Loss: 0.006525\n",
      "[Epoch 3/20 | Step 600/827] Train Loss: 0.005738\n",
      "[Epoch 3/20 | Step 650/827] Train Loss: 0.005089\n",
      "[Epoch 3/20 | Step 700/827] Train Loss: 0.006717\n",
      "[Epoch 3/20 | Step 750/827] Train Loss: 0.024873\n",
      "[Epoch 3/20 | Step 800/827] Train Loss: 0.001097\n",
      "[Epoch 3/20 | Step 827/827] Train Loss: 0.015523\n"
     ]
    },
    {
     "name": "stderr",
     "output_type": "stream",
     "text": [
      "Sampling DDIM: 100%|██████████| 1000/1000 [00:22<00:00, 44.77it/s]\n"
     ]
    },
    {
     "name": "stdout",
     "output_type": "stream",
     "text": [
      "Sample saved to ./checkpoints/epoch_23.png\n",
      "Epoch 3 complete. Avg Train Loss: 0.008652\n",
      "Epoch 3 complete. Avg Validation Loss: 0.009023\n",
      "Checkpoint salvato in: ./checkpoints/ddim_unet_epoch23.pth\n",
      "[Epoch 4/20 | Step 50/827] Train Loss: 0.003578\n",
      "[Epoch 4/20 | Step 100/827] Train Loss: 0.020545\n",
      "[Epoch 4/20 | Step 150/827] Train Loss: 0.016119\n",
      "[Epoch 4/20 | Step 200/827] Train Loss: 0.010841\n",
      "[Epoch 4/20 | Step 250/827] Train Loss: 0.011483\n",
      "[Epoch 4/20 | Step 300/827] Train Loss: 0.020873\n",
      "[Epoch 4/20 | Step 350/827] Train Loss: 0.004966\n",
      "[Epoch 4/20 | Step 400/827] Train Loss: 0.004661\n",
      "[Epoch 4/20 | Step 450/827] Train Loss: 0.004237\n",
      "[Epoch 4/20 | Step 500/827] Train Loss: 0.002232\n",
      "[Epoch 4/20 | Step 550/827] Train Loss: 0.008762\n",
      "[Epoch 4/20 | Step 600/827] Train Loss: 0.003157\n",
      "[Epoch 4/20 | Step 650/827] Train Loss: 0.016887\n",
      "[Epoch 4/20 | Step 700/827] Train Loss: 0.007494\n",
      "[Epoch 4/20 | Step 750/827] Train Loss: 0.003453\n",
      "[Epoch 4/20 | Step 800/827] Train Loss: 0.007948\n",
      "[Epoch 4/20 | Step 827/827] Train Loss: 0.002947\n"
     ]
    },
    {
     "name": "stderr",
     "output_type": "stream",
     "text": [
      "Sampling DDIM: 100%|██████████| 1000/1000 [00:22<00:00, 45.03it/s]"
     ]
    },
    {
     "name": "stdout",
     "output_type": "stream",
     "text": [
      "Sample saved to ./checkpoints/epoch_24.png\n",
      "Epoch 4 complete. Avg Train Loss: 0.009097\n"
     ]
    },
    {
     "name": "stderr",
     "output_type": "stream",
     "text": [
      "\n"
     ]
    },
    {
     "name": "stdout",
     "output_type": "stream",
     "text": [
      "Epoch 4 complete. Avg Validation Loss: 0.009517\n",
      "Checkpoint salvato in: ./checkpoints/ddim_unet_epoch24.pth\n",
      "[Epoch 5/20 | Step 50/827] Train Loss: 0.015634\n",
      "[Epoch 5/20 | Step 100/827] Train Loss: 0.006626\n",
      "[Epoch 5/20 | Step 150/827] Train Loss: 0.007800\n",
      "[Epoch 5/20 | Step 200/827] Train Loss: 0.003259\n",
      "[Epoch 5/20 | Step 250/827] Train Loss: 0.002356\n",
      "[Epoch 5/20 | Step 300/827] Train Loss: 0.011223\n",
      "[Epoch 5/20 | Step 350/827] Train Loss: 0.003437\n",
      "[Epoch 5/20 | Step 400/827] Train Loss: 0.005437\n",
      "[Epoch 5/20 | Step 450/827] Train Loss: 0.006511\n",
      "[Epoch 5/20 | Step 500/827] Train Loss: 0.006228\n",
      "[Epoch 5/20 | Step 550/827] Train Loss: 0.029706\n",
      "[Epoch 5/20 | Step 600/827] Train Loss: 0.005183\n",
      "[Epoch 5/20 | Step 650/827] Train Loss: 0.005071\n",
      "[Epoch 5/20 | Step 700/827] Train Loss: 0.009462\n",
      "[Epoch 5/20 | Step 750/827] Train Loss: 0.014313\n",
      "[Epoch 5/20 | Step 800/827] Train Loss: 0.006366\n",
      "[Epoch 5/20 | Step 827/827] Train Loss: 0.005424\n"
     ]
    },
    {
     "name": "stderr",
     "output_type": "stream",
     "text": [
      "Sampling DDIM: 100%|██████████| 1000/1000 [00:22<00:00, 44.82it/s]"
     ]
    },
    {
     "name": "stdout",
     "output_type": "stream",
     "text": [
      "Sample saved to ./checkpoints/epoch_25.png\n",
      "Epoch 5 complete. Avg Train Loss: 0.008766\n"
     ]
    },
    {
     "name": "stderr",
     "output_type": "stream",
     "text": [
      "\n"
     ]
    },
    {
     "name": "stdout",
     "output_type": "stream",
     "text": [
      "Epoch 5 complete. Avg Validation Loss: 0.008398\n",
      "Checkpoint salvato in: ./checkpoints/ddim_unet_epoch25.pth\n",
      "[Epoch 6/20 | Step 50/827] Train Loss: 0.040857\n",
      "[Epoch 6/20 | Step 100/827] Train Loss: 0.006866\n",
      "[Epoch 6/20 | Step 150/827] Train Loss: 0.004300\n",
      "[Epoch 6/20 | Step 200/827] Train Loss: 0.003772\n",
      "[Epoch 6/20 | Step 250/827] Train Loss: 0.030223\n",
      "[Epoch 6/20 | Step 300/827] Train Loss: 0.002865\n",
      "[Epoch 6/20 | Step 350/827] Train Loss: 0.002816\n",
      "[Epoch 6/20 | Step 400/827] Train Loss: 0.006707\n",
      "[Epoch 6/20 | Step 450/827] Train Loss: 0.013902\n",
      "[Epoch 6/20 | Step 500/827] Train Loss: 0.012012\n",
      "[Epoch 6/20 | Step 550/827] Train Loss: 0.004970\n",
      "[Epoch 6/20 | Step 600/827] Train Loss: 0.006095\n",
      "[Epoch 6/20 | Step 650/827] Train Loss: 0.010206\n",
      "[Epoch 6/20 | Step 700/827] Train Loss: 0.004311\n",
      "[Epoch 6/20 | Step 750/827] Train Loss: 0.006685\n",
      "[Epoch 6/20 | Step 800/827] Train Loss: 0.007183\n",
      "[Epoch 6/20 | Step 827/827] Train Loss: 0.016273\n"
     ]
    },
    {
     "name": "stderr",
     "output_type": "stream",
     "text": [
      "Sampling DDIM: 100%|██████████| 1000/1000 [00:22<00:00, 44.79it/s]"
     ]
    },
    {
     "name": "stdout",
     "output_type": "stream",
     "text": [
      "Sample saved to ./checkpoints/epoch_26.png\n",
      "Epoch 6 complete. Avg Train Loss: 0.008836\n"
     ]
    },
    {
     "name": "stderr",
     "output_type": "stream",
     "text": [
      "\n"
     ]
    },
    {
     "name": "stdout",
     "output_type": "stream",
     "text": [
      "Epoch 6 complete. Avg Validation Loss: 0.009472\n",
      "Checkpoint salvato in: ./checkpoints/ddim_unet_epoch26.pth\n",
      "[Epoch 7/20 | Step 50/827] Train Loss: 0.007792\n",
      "[Epoch 7/20 | Step 100/827] Train Loss: 0.020427\n",
      "[Epoch 7/20 | Step 150/827] Train Loss: 0.003445\n",
      "[Epoch 7/20 | Step 200/827] Train Loss: 0.009145\n",
      "[Epoch 7/20 | Step 250/827] Train Loss: 0.004288\n",
      "[Epoch 7/20 | Step 300/827] Train Loss: 0.003501\n",
      "[Epoch 7/20 | Step 350/827] Train Loss: 0.003730\n",
      "[Epoch 7/20 | Step 400/827] Train Loss: 0.005214\n",
      "[Epoch 7/20 | Step 450/827] Train Loss: 0.003606\n",
      "[Epoch 7/20 | Step 500/827] Train Loss: 0.014354\n",
      "[Epoch 7/20 | Step 550/827] Train Loss: 0.014541\n",
      "[Epoch 7/20 | Step 600/827] Train Loss: 0.028890\n",
      "[Epoch 7/20 | Step 650/827] Train Loss: 0.005631\n",
      "[Epoch 7/20 | Step 700/827] Train Loss: 0.006094\n",
      "[Epoch 7/20 | Step 750/827] Train Loss: 0.012381\n",
      "[Epoch 7/20 | Step 800/827] Train Loss: 0.004534\n",
      "[Epoch 7/20 | Step 827/827] Train Loss: 0.016581\n"
     ]
    },
    {
     "name": "stderr",
     "output_type": "stream",
     "text": [
      "Sampling DDIM: 100%|██████████| 1000/1000 [00:22<00:00, 44.67it/s]"
     ]
    },
    {
     "name": "stdout",
     "output_type": "stream",
     "text": [
      "Sample saved to ./checkpoints/epoch_27.png\n",
      "Epoch 7 complete. Avg Train Loss: 0.009033\n"
     ]
    },
    {
     "name": "stderr",
     "output_type": "stream",
     "text": [
      "\n"
     ]
    },
    {
     "name": "stdout",
     "output_type": "stream",
     "text": [
      "Epoch 7 complete. Avg Validation Loss: 0.008695\n",
      "Checkpoint salvato in: ./checkpoints/ddim_unet_epoch27.pth\n",
      "[Epoch 8/20 | Step 50/827] Train Loss: 0.012328\n",
      "[Epoch 8/20 | Step 100/827] Train Loss: 0.005319\n",
      "[Epoch 8/20 | Step 150/827] Train Loss: 0.004622\n",
      "[Epoch 8/20 | Step 200/827] Train Loss: 0.006271\n",
      "[Epoch 8/20 | Step 250/827] Train Loss: 0.014532\n",
      "[Epoch 8/20 | Step 300/827] Train Loss: 0.004224\n",
      "[Epoch 8/20 | Step 350/827] Train Loss: 0.010048\n",
      "[Epoch 8/20 | Step 400/827] Train Loss: 0.008349\n",
      "[Epoch 8/20 | Step 450/827] Train Loss: 0.003845\n",
      "[Epoch 8/20 | Step 500/827] Train Loss: 0.006880\n",
      "[Epoch 8/20 | Step 550/827] Train Loss: 0.004121\n",
      "[Epoch 8/20 | Step 600/827] Train Loss: 0.010699\n",
      "[Epoch 8/20 | Step 650/827] Train Loss: 0.016606\n",
      "[Epoch 8/20 | Step 700/827] Train Loss: 0.005210\n",
      "[Epoch 8/20 | Step 750/827] Train Loss: 0.008167\n",
      "[Epoch 8/20 | Step 800/827] Train Loss: 0.007391\n",
      "[Epoch 8/20 | Step 827/827] Train Loss: 0.006222\n"
     ]
    },
    {
     "name": "stderr",
     "output_type": "stream",
     "text": [
      "Sampling DDIM: 100%|██████████| 1000/1000 [00:22<00:00, 44.85it/s]\n"
     ]
    },
    {
     "name": "stdout",
     "output_type": "stream",
     "text": [
      "Sample saved to ./checkpoints/epoch_28.png\n",
      "Epoch 8 complete. Avg Train Loss: 0.008897\n",
      "Epoch 8 complete. Avg Validation Loss: 0.011043\n",
      "Checkpoint salvato in: ./checkpoints/ddim_unet_epoch28.pth\n",
      "[Epoch 9/20 | Step 50/827] Train Loss: 0.004284\n",
      "[Epoch 9/20 | Step 100/827] Train Loss: 0.005514\n",
      "[Epoch 9/20 | Step 150/827] Train Loss: 0.024251\n",
      "[Epoch 9/20 | Step 200/827] Train Loss: 0.011049\n",
      "[Epoch 9/20 | Step 250/827] Train Loss: 0.005595\n",
      "[Epoch 9/20 | Step 300/827] Train Loss: 0.006084\n",
      "[Epoch 9/20 | Step 350/827] Train Loss: 0.007167\n",
      "[Epoch 9/20 | Step 400/827] Train Loss: 0.003122\n",
      "[Epoch 9/20 | Step 450/827] Train Loss: 0.009527\n",
      "[Epoch 9/20 | Step 500/827] Train Loss: 0.007738\n",
      "[Epoch 9/20 | Step 550/827] Train Loss: 0.020561\n",
      "[Epoch 9/20 | Step 600/827] Train Loss: 0.010288\n",
      "[Epoch 9/20 | Step 650/827] Train Loss: 0.009716\n",
      "[Epoch 9/20 | Step 700/827] Train Loss: 0.006816\n",
      "[Epoch 9/20 | Step 750/827] Train Loss: 0.011221\n",
      "[Epoch 9/20 | Step 800/827] Train Loss: 0.004969\n",
      "[Epoch 9/20 | Step 827/827] Train Loss: 0.003393\n"
     ]
    },
    {
     "name": "stderr",
     "output_type": "stream",
     "text": [
      "Sampling DDIM: 100%|██████████| 1000/1000 [00:22<00:00, 44.80it/s]\n"
     ]
    },
    {
     "name": "stdout",
     "output_type": "stream",
     "text": [
      "Sample saved to ./checkpoints/epoch_29.png\n",
      "Epoch 9 complete. Avg Train Loss: 0.008294\n",
      "Epoch 9 complete. Avg Validation Loss: 0.010479\n",
      "Checkpoint salvato in: ./checkpoints/ddim_unet_epoch29.pth\n",
      "[Epoch 10/20 | Step 50/827] Train Loss: 0.003162\n",
      "[Epoch 10/20 | Step 100/827] Train Loss: 0.009142\n",
      "[Epoch 10/20 | Step 150/827] Train Loss: 0.014416\n",
      "[Epoch 10/20 | Step 200/827] Train Loss: 0.005681\n",
      "[Epoch 10/20 | Step 250/827] Train Loss: 0.021462\n",
      "[Epoch 10/20 | Step 300/827] Train Loss: 0.002501\n",
      "[Epoch 10/20 | Step 350/827] Train Loss: 0.006007\n",
      "[Epoch 10/20 | Step 400/827] Train Loss: 0.005487\n",
      "[Epoch 10/20 | Step 450/827] Train Loss: 0.004347\n",
      "[Epoch 10/20 | Step 500/827] Train Loss: 0.006266\n",
      "[Epoch 10/20 | Step 550/827] Train Loss: 0.011630\n",
      "[Epoch 10/20 | Step 600/827] Train Loss: 0.009397\n",
      "[Epoch 10/20 | Step 650/827] Train Loss: 0.004012\n",
      "[Epoch 10/20 | Step 700/827] Train Loss: 0.025543\n",
      "[Epoch 10/20 | Step 750/827] Train Loss: 0.016406\n",
      "[Epoch 10/20 | Step 800/827] Train Loss: 0.002833\n",
      "[Epoch 10/20 | Step 827/827] Train Loss: 0.065873\n"
     ]
    },
    {
     "name": "stderr",
     "output_type": "stream",
     "text": [
      "Sampling DDIM: 100%|██████████| 1000/1000 [00:22<00:00, 44.81it/s]"
     ]
    },
    {
     "name": "stdout",
     "output_type": "stream",
     "text": [
      "Sample saved to ./checkpoints/epoch_30.png\n",
      "Epoch 10 complete. Avg Train Loss: 0.008852\n"
     ]
    },
    {
     "name": "stderr",
     "output_type": "stream",
     "text": [
      "\n"
     ]
    },
    {
     "name": "stdout",
     "output_type": "stream",
     "text": [
      "Epoch 10 complete. Avg Validation Loss: 0.009399\n",
      "Checkpoint salvato in: ./checkpoints/ddim_unet_epoch30.pth\n",
      "[Epoch 11/20 | Step 50/827] Train Loss: 0.009306\n",
      "[Epoch 11/20 | Step 100/827] Train Loss: 0.012564\n",
      "[Epoch 11/20 | Step 150/827] Train Loss: 0.014124\n",
      "[Epoch 11/20 | Step 200/827] Train Loss: 0.005787\n",
      "[Epoch 11/20 | Step 250/827] Train Loss: 0.008607\n",
      "[Epoch 11/20 | Step 300/827] Train Loss: 0.012765\n",
      "[Epoch 11/20 | Step 350/827] Train Loss: 0.003011\n",
      "[Epoch 11/20 | Step 400/827] Train Loss: 0.002475\n",
      "[Epoch 11/20 | Step 450/827] Train Loss: 0.014518\n",
      "[Epoch 11/20 | Step 500/827] Train Loss: 0.004390\n",
      "[Epoch 11/20 | Step 550/827] Train Loss: 0.005318\n",
      "[Epoch 11/20 | Step 600/827] Train Loss: 0.003789\n",
      "[Epoch 11/20 | Step 650/827] Train Loss: 0.004689\n",
      "[Epoch 11/20 | Step 700/827] Train Loss: 0.002296\n",
      "[Epoch 11/20 | Step 750/827] Train Loss: 0.007385\n",
      "[Epoch 11/20 | Step 800/827] Train Loss: 0.006321\n",
      "[Epoch 11/20 | Step 827/827] Train Loss: 0.002975\n"
     ]
    },
    {
     "name": "stderr",
     "output_type": "stream",
     "text": [
      "Sampling DDIM: 100%|██████████| 1000/1000 [00:22<00:00, 44.80it/s]"
     ]
    },
    {
     "name": "stdout",
     "output_type": "stream",
     "text": [
      "Sample saved to ./checkpoints/epoch_31.png\n",
      "Epoch 11 complete. Avg Train Loss: 0.008844\n"
     ]
    },
    {
     "name": "stderr",
     "output_type": "stream",
     "text": [
      "\n"
     ]
    },
    {
     "name": "stdout",
     "output_type": "stream",
     "text": [
      "Epoch 11 complete. Avg Validation Loss: 0.009542\n",
      "Checkpoint salvato in: ./checkpoints/ddim_unet_epoch31.pth\n",
      "[Epoch 12/20 | Step 50/827] Train Loss: 0.004631\n",
      "[Epoch 12/20 | Step 100/827] Train Loss: 0.009918\n",
      "[Epoch 12/20 | Step 150/827] Train Loss: 0.009033\n",
      "[Epoch 12/20 | Step 200/827] Train Loss: 0.005825\n",
      "[Epoch 12/20 | Step 250/827] Train Loss: 0.035900\n",
      "[Epoch 12/20 | Step 300/827] Train Loss: 0.005854\n",
      "[Epoch 12/20 | Step 350/827] Train Loss: 0.009670\n",
      "[Epoch 12/20 | Step 400/827] Train Loss: 0.017878\n",
      "[Epoch 12/20 | Step 450/827] Train Loss: 0.003738\n",
      "[Epoch 12/20 | Step 500/827] Train Loss: 0.002845\n",
      "[Epoch 12/20 | Step 550/827] Train Loss: 0.010150\n",
      "[Epoch 12/20 | Step 600/827] Train Loss: 0.006643\n",
      "[Epoch 12/20 | Step 650/827] Train Loss: 0.003018\n",
      "[Epoch 12/20 | Step 700/827] Train Loss: 0.004331\n",
      "[Epoch 12/20 | Step 750/827] Train Loss: 0.015023\n",
      "[Epoch 12/20 | Step 800/827] Train Loss: 0.009760\n",
      "[Epoch 12/20 | Step 827/827] Train Loss: 0.004518\n"
     ]
    },
    {
     "name": "stderr",
     "output_type": "stream",
     "text": [
      "Sampling DDIM: 100%|██████████| 1000/1000 [00:22<00:00, 44.86it/s]"
     ]
    },
    {
     "name": "stdout",
     "output_type": "stream",
     "text": [
      "Sample saved to ./checkpoints/epoch_32.png\n",
      "Epoch 12 complete. Avg Train Loss: 0.008648\n"
     ]
    },
    {
     "name": "stderr",
     "output_type": "stream",
     "text": [
      "\n"
     ]
    },
    {
     "name": "stdout",
     "output_type": "stream",
     "text": [
      "Epoch 12 complete. Avg Validation Loss: 0.009392\n",
      "Checkpoint salvato in: ./checkpoints/ddim_unet_epoch32.pth\n",
      "[Epoch 13/20 | Step 50/827] Train Loss: 0.005590\n",
      "[Epoch 13/20 | Step 100/827] Train Loss: 0.001232\n",
      "[Epoch 13/20 | Step 150/827] Train Loss: 0.004243\n",
      "[Epoch 13/20 | Step 200/827] Train Loss: 0.007421\n",
      "[Epoch 13/20 | Step 250/827] Train Loss: 0.015763\n",
      "[Epoch 13/20 | Step 300/827] Train Loss: 0.004805\n",
      "[Epoch 13/20 | Step 350/827] Train Loss: 0.006592\n",
      "[Epoch 13/20 | Step 400/827] Train Loss: 0.004285\n",
      "[Epoch 13/20 | Step 450/827] Train Loss: 0.007003\n",
      "[Epoch 13/20 | Step 500/827] Train Loss: 0.005890\n",
      "[Epoch 13/20 | Step 550/827] Train Loss: 0.014571\n",
      "[Epoch 13/20 | Step 600/827] Train Loss: 0.021375\n",
      "[Epoch 13/20 | Step 650/827] Train Loss: 0.003644\n",
      "[Epoch 13/20 | Step 700/827] Train Loss: 0.002127\n",
      "[Epoch 13/20 | Step 750/827] Train Loss: 0.006399\n",
      "[Epoch 13/20 | Step 800/827] Train Loss: 0.012524\n",
      "[Epoch 13/20 | Step 827/827] Train Loss: 0.005000\n"
     ]
    },
    {
     "name": "stderr",
     "output_type": "stream",
     "text": [
      "Sampling DDIM: 100%|██████████| 1000/1000 [00:22<00:00, 44.83it/s]\n"
     ]
    },
    {
     "name": "stdout",
     "output_type": "stream",
     "text": [
      "Sample saved to ./checkpoints/epoch_33.png\n",
      "Epoch 13 complete. Avg Train Loss: 0.008745\n",
      "Epoch 13 complete. Avg Validation Loss: 0.011076\n",
      "Checkpoint salvato in: ./checkpoints/ddim_unet_epoch33.pth\n",
      "[Epoch 14/20 | Step 50/827] Train Loss: 0.005961\n",
      "[Epoch 14/20 | Step 100/827] Train Loss: 0.005171\n",
      "[Epoch 14/20 | Step 150/827] Train Loss: 0.002934\n",
      "[Epoch 14/20 | Step 200/827] Train Loss: 0.005164\n",
      "[Epoch 14/20 | Step 250/827] Train Loss: 0.004509\n",
      "[Epoch 14/20 | Step 300/827] Train Loss: 0.002889\n",
      "[Epoch 14/20 | Step 350/827] Train Loss: 0.003282\n",
      "[Epoch 14/20 | Step 400/827] Train Loss: 0.014006\n",
      "[Epoch 14/20 | Step 450/827] Train Loss: 0.002553\n",
      "[Epoch 14/20 | Step 500/827] Train Loss: 0.003869\n",
      "[Epoch 14/20 | Step 550/827] Train Loss: 0.017718\n",
      "[Epoch 14/20 | Step 600/827] Train Loss: 0.025147\n",
      "[Epoch 14/20 | Step 650/827] Train Loss: 0.009571\n",
      "[Epoch 14/20 | Step 700/827] Train Loss: 0.016310\n",
      "[Epoch 14/20 | Step 750/827] Train Loss: 0.017932\n",
      "[Epoch 14/20 | Step 800/827] Train Loss: 0.003545\n",
      "[Epoch 14/20 | Step 827/827] Train Loss: 0.002649\n"
     ]
    },
    {
     "name": "stderr",
     "output_type": "stream",
     "text": [
      "Sampling DDIM: 100%|██████████| 1000/1000 [00:22<00:00, 44.71it/s]\n"
     ]
    },
    {
     "name": "stdout",
     "output_type": "stream",
     "text": [
      "Sample saved to ./checkpoints/epoch_34.png\n",
      "Epoch 14 complete. Avg Train Loss: 0.009138\n",
      "Epoch 14 complete. Avg Validation Loss: 0.009544\n",
      "Checkpoint salvato in: ./checkpoints/ddim_unet_epoch34.pth\n",
      "[Epoch 15/20 | Step 50/827] Train Loss: 0.006387\n",
      "[Epoch 15/20 | Step 100/827] Train Loss: 0.014474\n",
      "[Epoch 15/20 | Step 150/827] Train Loss: 0.003616\n",
      "[Epoch 15/20 | Step 200/827] Train Loss: 0.002859\n",
      "[Epoch 15/20 | Step 250/827] Train Loss: 0.002658\n",
      "[Epoch 15/20 | Step 300/827] Train Loss: 0.004124\n",
      "[Epoch 15/20 | Step 350/827] Train Loss: 0.003209\n",
      "[Epoch 15/20 | Step 400/827] Train Loss: 0.006569\n",
      "[Epoch 15/20 | Step 450/827] Train Loss: 0.032421\n",
      "[Epoch 15/20 | Step 500/827] Train Loss: 0.006824\n",
      "[Epoch 15/20 | Step 550/827] Train Loss: 0.005741\n",
      "[Epoch 15/20 | Step 600/827] Train Loss: 0.018373\n",
      "[Epoch 15/20 | Step 650/827] Train Loss: 0.006751\n",
      "[Epoch 15/20 | Step 700/827] Train Loss: 0.006156\n",
      "[Epoch 15/20 | Step 750/827] Train Loss: 0.007373\n",
      "[Epoch 15/20 | Step 800/827] Train Loss: 0.003249\n",
      "[Epoch 15/20 | Step 827/827] Train Loss: 0.001048\n"
     ]
    },
    {
     "name": "stderr",
     "output_type": "stream",
     "text": [
      "Sampling DDIM: 100%|██████████| 1000/1000 [00:22<00:00, 44.80it/s]"
     ]
    },
    {
     "name": "stdout",
     "output_type": "stream",
     "text": [
      "Sample saved to ./checkpoints/epoch_35.png\n",
      "Epoch 15 complete. Avg Train Loss: 0.008014\n"
     ]
    },
    {
     "name": "stderr",
     "output_type": "stream",
     "text": [
      "\n"
     ]
    },
    {
     "name": "stdout",
     "output_type": "stream",
     "text": [
      "Epoch 15 complete. Avg Validation Loss: 0.009854\n",
      "Checkpoint salvato in: ./checkpoints/ddim_unet_epoch35.pth\n",
      "[Epoch 16/20 | Step 50/827] Train Loss: 0.011060\n",
      "[Epoch 16/20 | Step 100/827] Train Loss: 0.015321\n",
      "[Epoch 16/20 | Step 150/827] Train Loss: 0.011455\n",
      "[Epoch 16/20 | Step 200/827] Train Loss: 0.014498\n",
      "[Epoch 16/20 | Step 250/827] Train Loss: 0.014998\n",
      "[Epoch 16/20 | Step 300/827] Train Loss: 0.007102\n",
      "[Epoch 16/20 | Step 350/827] Train Loss: 0.003588\n",
      "[Epoch 16/20 | Step 400/827] Train Loss: 0.004838\n",
      "[Epoch 16/20 | Step 450/827] Train Loss: 0.004842\n",
      "[Epoch 16/20 | Step 500/827] Train Loss: 0.011940\n",
      "[Epoch 16/20 | Step 550/827] Train Loss: 0.009891\n",
      "[Epoch 16/20 | Step 600/827] Train Loss: 0.009558\n",
      "[Epoch 16/20 | Step 650/827] Train Loss: 0.008321\n",
      "[Epoch 16/20 | Step 700/827] Train Loss: 0.002924\n",
      "[Epoch 16/20 | Step 750/827] Train Loss: 0.004224\n",
      "[Epoch 16/20 | Step 800/827] Train Loss: 0.018485\n",
      "[Epoch 16/20 | Step 827/827] Train Loss: 0.003314\n"
     ]
    },
    {
     "name": "stderr",
     "output_type": "stream",
     "text": [
      "Sampling DDIM: 100%|██████████| 1000/1000 [00:22<00:00, 44.86it/s]"
     ]
    },
    {
     "name": "stdout",
     "output_type": "stream",
     "text": [
      "Sample saved to ./checkpoints/epoch_36.png\n",
      "Epoch 16 complete. Avg Train Loss: 0.008402\n"
     ]
    },
    {
     "name": "stderr",
     "output_type": "stream",
     "text": [
      "\n"
     ]
    },
    {
     "name": "stdout",
     "output_type": "stream",
     "text": [
      "Epoch 16 complete. Avg Validation Loss: 0.010802\n",
      "Checkpoint salvato in: ./checkpoints/ddim_unet_epoch36.pth\n",
      "[Epoch 17/20 | Step 50/827] Train Loss: 0.003164\n",
      "[Epoch 17/20 | Step 100/827] Train Loss: 0.003275\n",
      "[Epoch 17/20 | Step 150/827] Train Loss: 0.004333\n",
      "[Epoch 17/20 | Step 200/827] Train Loss: 0.008495\n",
      "[Epoch 17/20 | Step 250/827] Train Loss: 0.006917\n",
      "[Epoch 17/20 | Step 300/827] Train Loss: 0.005214\n",
      "[Epoch 17/20 | Step 350/827] Train Loss: 0.008247\n",
      "[Epoch 17/20 | Step 400/827] Train Loss: 0.004814\n",
      "[Epoch 17/20 | Step 450/827] Train Loss: 0.013148\n",
      "[Epoch 17/20 | Step 500/827] Train Loss: 0.012594\n",
      "[Epoch 17/20 | Step 550/827] Train Loss: 0.008232\n",
      "[Epoch 17/20 | Step 600/827] Train Loss: 0.001243\n",
      "[Epoch 17/20 | Step 650/827] Train Loss: 0.003271\n",
      "[Epoch 17/20 | Step 700/827] Train Loss: 0.006328\n",
      "[Epoch 17/20 | Step 750/827] Train Loss: 0.015729\n",
      "[Epoch 17/20 | Step 800/827] Train Loss: 0.009582\n",
      "[Epoch 17/20 | Step 827/827] Train Loss: 0.002091\n"
     ]
    },
    {
     "name": "stderr",
     "output_type": "stream",
     "text": [
      "Sampling DDIM: 100%|██████████| 1000/1000 [00:22<00:00, 43.85it/s]"
     ]
    },
    {
     "name": "stdout",
     "output_type": "stream",
     "text": [
      "Sample saved to ./checkpoints/epoch_37.png\n",
      "Epoch 17 complete. Avg Train Loss: 0.008693\n"
     ]
    },
    {
     "name": "stderr",
     "output_type": "stream",
     "text": [
      "\n"
     ]
    },
    {
     "name": "stdout",
     "output_type": "stream",
     "text": [
      "Epoch 17 complete. Avg Validation Loss: 0.010597\n",
      "Checkpoint salvato in: ./checkpoints/ddim_unet_epoch37.pth\n",
      "[Epoch 18/20 | Step 50/827] Train Loss: 0.010829\n",
      "[Epoch 18/20 | Step 100/827] Train Loss: 0.008971\n",
      "[Epoch 18/20 | Step 150/827] Train Loss: 0.013428\n",
      "[Epoch 18/20 | Step 200/827] Train Loss: 0.012429\n",
      "[Epoch 18/20 | Step 250/827] Train Loss: 0.006317\n",
      "[Epoch 18/20 | Step 300/827] Train Loss: 0.007482\n",
      "[Epoch 18/20 | Step 350/827] Train Loss: 0.005682\n",
      "[Epoch 18/20 | Step 400/827] Train Loss: 0.006270\n",
      "[Epoch 18/20 | Step 450/827] Train Loss: 0.006200\n",
      "[Epoch 18/20 | Step 500/827] Train Loss: 0.005763\n",
      "[Epoch 18/20 | Step 550/827] Train Loss: 0.003276\n",
      "[Epoch 18/20 | Step 600/827] Train Loss: 0.004138\n",
      "[Epoch 18/20 | Step 650/827] Train Loss: 0.013189\n",
      "[Epoch 18/20 | Step 700/827] Train Loss: 0.002411\n",
      "[Epoch 18/20 | Step 750/827] Train Loss: 0.010691\n",
      "[Epoch 18/20 | Step 800/827] Train Loss: 0.004148\n",
      "[Epoch 18/20 | Step 827/827] Train Loss: 0.002233\n"
     ]
    },
    {
     "name": "stderr",
     "output_type": "stream",
     "text": [
      "Sampling DDIM: 100%|██████████| 1000/1000 [00:22<00:00, 44.82it/s]\n"
     ]
    },
    {
     "name": "stdout",
     "output_type": "stream",
     "text": [
      "Sample saved to ./checkpoints/epoch_38.png\n",
      "Epoch 18 complete. Avg Train Loss: 0.008626\n",
      "Epoch 18 complete. Avg Validation Loss: 0.010111\n",
      "Checkpoint salvato in: ./checkpoints/ddim_unet_epoch38.pth\n",
      "[Epoch 19/20 | Step 50/827] Train Loss: 0.018043\n",
      "[Epoch 19/20 | Step 100/827] Train Loss: 0.010842\n",
      "[Epoch 19/20 | Step 150/827] Train Loss: 0.003204\n",
      "[Epoch 19/20 | Step 200/827] Train Loss: 0.028318\n",
      "[Epoch 19/20 | Step 250/827] Train Loss: 0.006175\n",
      "[Epoch 19/20 | Step 300/827] Train Loss: 0.005072\n",
      "[Epoch 19/20 | Step 350/827] Train Loss: 0.004148\n",
      "[Epoch 19/20 | Step 400/827] Train Loss: 0.017064\n",
      "[Epoch 19/20 | Step 450/827] Train Loss: 0.002978\n",
      "[Epoch 19/20 | Step 500/827] Train Loss: 0.015681\n",
      "[Epoch 19/20 | Step 550/827] Train Loss: 0.004097\n",
      "[Epoch 19/20 | Step 600/827] Train Loss: 0.004927\n",
      "[Epoch 19/20 | Step 650/827] Train Loss: 0.007425\n",
      "[Epoch 19/20 | Step 700/827] Train Loss: 0.033238\n",
      "[Epoch 19/20 | Step 750/827] Train Loss: 0.011830\n",
      "[Epoch 19/20 | Step 800/827] Train Loss: 0.005692\n",
      "[Epoch 19/20 | Step 827/827] Train Loss: 0.002130\n"
     ]
    },
    {
     "name": "stderr",
     "output_type": "stream",
     "text": [
      "Sampling DDIM: 100%|██████████| 1000/1000 [00:22<00:00, 44.94it/s]"
     ]
    },
    {
     "name": "stdout",
     "output_type": "stream",
     "text": [
      "Sample saved to ./checkpoints/epoch_39.png\n",
      "Epoch 19 complete. Avg Train Loss: 0.008568\n"
     ]
    },
    {
     "name": "stderr",
     "output_type": "stream",
     "text": [
      "\n"
     ]
    },
    {
     "name": "stdout",
     "output_type": "stream",
     "text": [
      "Epoch 19 complete. Avg Validation Loss: 0.008104\n",
      "Checkpoint salvato in: ./checkpoints/ddim_unet_epoch39.pth\n",
      "[Epoch 20/20 | Step 50/827] Train Loss: 0.002443\n",
      "[Epoch 20/20 | Step 100/827] Train Loss: 0.004955\n",
      "[Epoch 20/20 | Step 150/827] Train Loss: 0.018973\n",
      "[Epoch 20/20 | Step 200/827] Train Loss: 0.001872\n",
      "[Epoch 20/20 | Step 250/827] Train Loss: 0.010384\n",
      "[Epoch 20/20 | Step 300/827] Train Loss: 0.006005\n",
      "[Epoch 20/20 | Step 350/827] Train Loss: 0.004264\n",
      "[Epoch 20/20 | Step 400/827] Train Loss: 0.010633\n",
      "[Epoch 20/20 | Step 450/827] Train Loss: 0.003837\n",
      "[Epoch 20/20 | Step 500/827] Train Loss: 0.006814\n",
      "[Epoch 20/20 | Step 550/827] Train Loss: 0.014814\n",
      "[Epoch 20/20 | Step 600/827] Train Loss: 0.001609\n",
      "[Epoch 20/20 | Step 650/827] Train Loss: 0.005802\n",
      "[Epoch 20/20 | Step 700/827] Train Loss: 0.003556\n",
      "[Epoch 20/20 | Step 750/827] Train Loss: 0.015540\n",
      "[Epoch 20/20 | Step 800/827] Train Loss: 0.005531\n",
      "[Epoch 20/20 | Step 827/827] Train Loss: 0.005017\n"
     ]
    },
    {
     "name": "stderr",
     "output_type": "stream",
     "text": [
      "Sampling DDIM: 100%|██████████| 1000/1000 [00:22<00:00, 45.14it/s]"
     ]
    },
    {
     "name": "stdout",
     "output_type": "stream",
     "text": [
      "Sample saved to ./checkpoints/epoch_40.png\n",
      "Epoch 20 complete. Avg Train Loss: 0.008056\n"
     ]
    },
    {
     "name": "stderr",
     "output_type": "stream",
     "text": [
      "\n"
     ]
    },
    {
     "name": "stdout",
     "output_type": "stream",
     "text": [
      "Epoch 20 complete. Avg Validation Loss: 0.009016\n",
      "Checkpoint salvato in: ./checkpoints/ddim_unet_epoch40.pth\n"
     ]
    }
   ],
   "source": [
    "import os\n",
    "import torch\n",
    "import torch.nn.functional as F\n",
    "from torch.utils.data import DataLoader\n",
    "from torch.optim.lr_scheduler import CosineAnnealingLR\n",
    "from torch.amp import autocast, GradScaler\n",
    "from matplotlib import pyplot as plt\n",
    "from utils import NUM_TRAIN_TIMESTEPS, sample_images, AugmentedDataset, save_checkpoint\n",
    "\n",
    "# Config\n",
    "BATCH_SIZE = 16\n",
    "NUM_EPOCHS = 20\n",
    "IMAGE_EXTENSIONS = (\".png\", \".jpg\", \".jpeg\")\n",
    "\n",
    "\n",
    "# Dataset Preparation\n",
    "def count_images(root_dir, extensions=IMAGE_EXTENSIONS):\n",
    "    return sum(\n",
    "        fname.lower().endswith(extensions)\n",
    "        for _, _, filenames in os.walk(root_dir)\n",
    "        for fname in filenames\n",
    "    )\n",
    "\n",
    "\n",
    "print(f\"Training images before augmentation: {count_images(train_dir)}\")\n",
    "print(f\"Validation images before augmentation: {count_images(test_dir)}\")\n",
    "\n",
    "train_dataset = AugmentedDataset(root_dir=train_dir, image_size=IMAGE_SIZE)\n",
    "test_dataset = AugmentedDataset(root_dir=test_dir, image_size=IMAGE_SIZE)\n",
    "\n",
    "train_loader = DataLoader(\n",
    "    train_dataset, batch_size=BATCH_SIZE, shuffle=True, num_workers=4, pin_memory=True\n",
    ")\n",
    "test_loader = DataLoader(\n",
    "    test_dataset, batch_size=BATCH_SIZE, shuffle=False, num_workers=4, pin_memory=True\n",
    ")\n",
    "\n",
    "print(f\"Training samples: {len(train_loader.dataset)}\")\n",
    "print(f\"Validation samples: {len(test_loader.dataset)}\")\n",
    "\n",
    "# Scheduler and Model Setup\n",
    "noise_scheduler = DDPMScheduler(num_train_timesteps=NUM_TRAIN_TIMESTEPS)\n",
    "ddim_scheduler = DDIMScheduler(\n",
    "    beta_start=noise_scheduler.config.beta_start,\n",
    "    beta_end=noise_scheduler.config.beta_end,\n",
    "    beta_schedule=noise_scheduler.config.beta_schedule,\n",
    "    clip_sample=True,\n",
    ")\n",
    "ddim_scheduler.set_timesteps(NUM_TRAIN_TIMESTEPS)\n",
    "\n",
    "model = torch.compile(model)\n",
    "scaler = GradScaler(device=DEVICE)\n",
    "scheduler = CosineAnnealingLR(optimizer, T_max=NUM_EPOCHS, eta_min=1e-6)\n",
    "\n",
    "# Training Loop\n",
    "train_losses, val_losses = [], []\n",
    "\n",
    "print(\n",
    "    f\"Training on {DEVICE} | Batch Size: {BATCH_SIZE} | Epochs: {NUM_EPOCHS} | Starting at epoch {start_epoch}\"\n",
    ")\n",
    "\n",
    "for epoch in range(1, NUM_EPOCHS + 1):\n",
    "    model.train()\n",
    "    total_train_loss = 0.0\n",
    "\n",
    "    for step, (images, _) in enumerate(train_loader, 1):\n",
    "        images = images.to(DEVICE)\n",
    "        noise = torch.randn_like(images)\n",
    "        timesteps = torch.randint(\n",
    "            0, NUM_TRAIN_TIMESTEPS, (images.size(0),), device=DEVICE\n",
    "        )\n",
    "\n",
    "        optimizer.zero_grad()\n",
    "        with autocast(device_type=DEVICE.type, enabled=True):\n",
    "            noisy_images = noise_scheduler.add_noise(images, noise, timesteps)\n",
    "            noise_pred = model(noisy_images, timesteps).sample\n",
    "            loss = F.mse_loss(noise_pred, noise)\n",
    "\n",
    "        scaler.scale(loss).backward()\n",
    "        scaler.step(optimizer)\n",
    "        scaler.update()\n",
    "        scheduler.step()\n",
    "\n",
    "        total_train_loss += loss.item()\n",
    "\n",
    "        if step % 50 == 0 or step == len(train_loader):\n",
    "            print(\n",
    "                f\"[Epoch {epoch}/{NUM_EPOCHS} | Step {step}/{len(train_loader)}] Train Loss: {loss.item():.6f}\"\n",
    "            )\n",
    "\n",
    "        # if step % (len(train_loader) // 3) == 0:\n",
    "        #     print(f\"Reached step {step} of epoch {epoch}. Saving sample image and weights.\")\n",
    "        #     sample_images(\n",
    "        #         output_path=f\"{model_save_dir}/epoch_{epoch + start_epoch}_step_{step}.png\",\n",
    "        #         num_steps=NUM_TRAIN_TIMESTEPS,\n",
    "        #         DEVICE=DEVICE,\n",
    "        #         IMAGE_SIZE=IMAGE_SIZE,\n",
    "        #         model=model,\n",
    "        #         ddim_scheduler=ddim_scheduler,\n",
    "        #     )\n",
    "        #     ckpt_path = os.path.join(\n",
    "        #         model_save_dir, f\"ddim_unet_epoch{epoch + start_epoch}_step{step}.pth\"\n",
    "        #     )\n",
    "        #     save_checkpoint(\n",
    "        #         model=model,\n",
    "        #         optimizer=optimizer,\n",
    "        #         epoch=epoch + start_epoch,\n",
    "        #         path=ckpt_path,\n",
    "        #     )\n",
    "\n",
    "    sample_images(\n",
    "        output_path=f\"{model_save_dir}/epoch_{epoch + start_epoch}.png\",\n",
    "        num_steps=NUM_TRAIN_TIMESTEPS,\n",
    "        DEVICE=DEVICE,\n",
    "        IMAGE_SIZE=IMAGE_SIZE,\n",
    "        model=model,\n",
    "        ddim_scheduler=ddim_scheduler,\n",
    "    )\n",
    "\n",
    "    avg_train_loss = total_train_loss / len(train_loader)\n",
    "    train_losses.append(avg_train_loss)\n",
    "    print(f\"Epoch {epoch} complete. Avg Train Loss: {avg_train_loss:.6f}\")\n",
    "\n",
    "    # Validation\n",
    "    model.eval()\n",
    "    total_val_loss = 0.0\n",
    "\n",
    "    with torch.no_grad():\n",
    "        for images, _ in test_loader:\n",
    "            images = images.to(DEVICE)\n",
    "            noise = torch.randn_like(images)\n",
    "            timesteps = torch.randint(\n",
    "                0, NUM_TRAIN_TIMESTEPS, (images.size(0),), device=DEVICE\n",
    "            )\n",
    "\n",
    "            with autocast(device_type=DEVICE.type, enabled=True):\n",
    "                noisy_images = noise_scheduler.add_noise(images, noise, timesteps)\n",
    "                noise_pred = model(noisy_images, timesteps).sample\n",
    "                total_val_loss += F.mse_loss(noise_pred, noise).item()\n",
    "\n",
    "    avg_val_loss = total_val_loss / len(test_loader)\n",
    "    val_losses.append(avg_val_loss)\n",
    "    print(f\"Epoch {epoch} complete. Avg Validation Loss: {avg_val_loss:.6f}\")\n",
    "\n",
    "    ckpt_path = os.path.join(\n",
    "        model_save_dir, f\"ddim_unet_epoch{epoch + start_epoch}.pth\"\n",
    "    )\n",
    "    save_checkpoint(\n",
    "        model=model,\n",
    "        optimizer=optimizer,\n",
    "        epoch=epoch + start_epoch,\n",
    "        path=ckpt_path,\n",
    "    )"
   ]
  },
  {
   "cell_type": "code",
   "execution_count": 3,
   "id": "f3cb12c0",
   "metadata": {},
   "outputs": [
    {
     "data": {
      "image/png": "[encoded data removed]",
      "text/plain": [
       "<Figure size 800x500 with 1 Axes>"
      ]
     },
     "metadata": {},
     "output_type": "display_data"
    }
   ],
   "source": [
    "import os\n",
    "import numpy as np\n",
    "import matplotlib.pyplot as plt\n",
    "\n",
    "# Path to the loss history file\n",
    "history_file = os.path.join(model_save_dir, \"loss_history.txt\")\n",
    "\n",
    "# Load existing history if it exists\n",
    "all_train_losses = []\n",
    "all_val_losses = []\n",
    "\n",
    "if os.path.exists(history_file):\n",
    "    with open(history_file, \"r\") as f:\n",
    "        lines = f.readlines()[1:]  # Skip header\n",
    "        for line in lines:\n",
    "            _, train_loss, val_loss = line.strip().split(\"\\t\")\n",
    "            all_train_losses.append(float(train_loss))\n",
    "            all_val_losses.append(float(val_loss))\n",
    "\n",
    "# Append current session's losses\n",
    "all_train_losses.extend(train_losses)\n",
    "all_val_losses.extend(val_losses)\n",
    "\n",
    "# Save updated history\n",
    "with open(history_file, \"w\") as f:\n",
    "    f.write(\"Epoch\\tTrain Loss\\tValidation Loss\\n\")\n",
    "    for i, (tr, vl) in enumerate(zip(all_train_losses, all_val_losses), 1):\n",
    "        f.write(f\"{i}\\t{tr:.6f}\\t{vl:.6f}\\n\")\n",
    "\n",
    "# Plot full loss history\n",
    "plt.figure(figsize=(8, 5))\n",
    "plt.plot(range(1, len(all_train_losses) + 1), all_train_losses, label=\"Train Loss\")\n",
    "plt.plot(range(1, len(all_val_losses) + 1), all_val_losses, label=\"Validation Loss\")\n",
    "plt.xlabel(\"Epoch\")\n",
    "plt.ylabel(\"MSE Loss\")\n",
    "plt.title(\"Train vs Validation Loss Over Time\")\n",
    "plt.legend()\n",
    "plt.grid(True)\n",
    "plt.tight_layout()\n",
    "plt.show()"
   ]
  },
  {
   "cell_type": "code",
   "execution_count": 4,
   "id": "c7758062",
   "metadata": {},
   "outputs": [
    {
     "name": "stderr",
     "output_type": "stream",
     "text": [
      "Sampling DDIM: 100%|██████████| 1000/1000 [00:22<00:00, 45.03it/s]\n"
     ]
    },
    {
     "name": "stdout",
     "output_type": "stream",
     "text": [
      "Sample saved to result/ddim_sample_epoch40_0.png\n"
     ]
    },
    {
     "name": "stderr",
     "output_type": "stream",
     "text": [
      "Sampling DDIM: 100%|██████████| 1000/1000 [00:22<00:00, 45.16it/s]\n"
     ]
    },
    {
     "name": "stdout",
     "output_type": "stream",
     "text": [
      "Sample saved to result/ddim_sample_epoch40_1.png\n"
     ]
    },
    {
     "name": "stderr",
     "output_type": "stream",
     "text": [
      "Sampling DDIM: 100%|██████████| 1000/1000 [00:22<00:00, 45.10it/s]\n"
     ]
    },
    {
     "name": "stdout",
     "output_type": "stream",
     "text": [
      "Sample saved to result/ddim_sample_epoch40_2.png\n"
     ]
    },
    {
     "name": "stderr",
     "output_type": "stream",
     "text": [
      "Sampling DDIM: 100%|██████████| 1000/1000 [00:22<00:00, 45.20it/s]\n"
     ]
    },
    {
     "name": "stdout",
     "output_type": "stream",
     "text": [
      "Sample saved to result/ddim_sample_epoch40_3.png\n"
     ]
    },
    {
     "name": "stderr",
     "output_type": "stream",
     "text": [
      "Sampling DDIM: 100%|██████████| 1000/1000 [00:22<00:00, 45.17it/s]\n"
     ]
    },
    {
     "name": "stdout",
     "output_type": "stream",
     "text": [
      "Sample saved to result/ddim_sample_epoch40_4.png\n"
     ]
    },
    {
     "name": "stderr",
     "output_type": "stream",
     "text": [
      "Sampling DDIM: 100%|██████████| 1000/1000 [00:22<00:00, 45.09it/s]\n"
     ]
    },
    {
     "name": "stdout",
     "output_type": "stream",
     "text": [
      "Sample saved to result/ddim_sample_epoch40_5.png\n"
     ]
    },
    {
     "name": "stderr",
     "output_type": "stream",
     "text": [
      "Sampling DDIM: 100%|██████████| 1000/1000 [00:22<00:00, 45.11it/s]\n"
     ]
    },
    {
     "name": "stdout",
     "output_type": "stream",
     "text": [
      "Sample saved to result/ddim_sample_epoch40_6.png\n"
     ]
    },
    {
     "name": "stderr",
     "output_type": "stream",
     "text": [
      "Sampling DDIM: 100%|██████████| 1000/1000 [00:22<00:00, 45.10it/s]\n"
     ]
    },
    {
     "name": "stdout",
     "output_type": "stream",
     "text": [
      "Sample saved to result/ddim_sample_epoch40_7.png\n"
     ]
    },
    {
     "name": "stderr",
     "output_type": "stream",
     "text": [
      "Sampling DDIM: 100%|██████████| 1000/1000 [00:22<00:00, 45.13it/s]\n"
     ]
    },
    {
     "name": "stdout",
     "output_type": "stream",
     "text": [
      "Sample saved to result/ddim_sample_epoch40_8.png\n"
     ]
    },
    {
     "name": "stderr",
     "output_type": "stream",
     "text": [
      "Sampling DDIM: 100%|██████████| 1000/1000 [00:22<00:00, 45.04it/s]"
     ]
    },
    {
     "name": "stdout",
     "output_type": "stream",
     "text": [
      "Sample saved to result/ddim_sample_epoch40_9.png\n"
     ]
    },
    {
     "name": "stderr",
     "output_type": "stream",
     "text": [
      "\n"
     ]
    }
   ],
   "source": [
    "from diffusers import DDPMScheduler, DDIMScheduler\n",
    "from tqdm import tqdm\n",
    "from utils import sample_images\n",
    "\n",
    "# Imposta il numero di step di inferenza per DDIM (uguale a NUM_TRAIN_TIMESTEPS di default)\n",
    "# 6. Sampling example with DDIM\n",
    "noise_scheduler = DDPMScheduler(num_train_timesteps=NUM_TRAIN_TIMESTEPS)\n",
    "\n",
    "ddim_scheduler = DDIMScheduler(\n",
    "    beta_start=noise_scheduler.config.beta_start,\n",
    "    beta_end=noise_scheduler.config.beta_end,\n",
    "    beta_schedule=noise_scheduler.config.beta_schedule,\n",
    "    clip_sample=True,\n",
    ")\n",
    "\n",
    "ddim_scheduler.set_timesteps(NUM_TRAIN_TIMESTEPS)\n",
    "\n",
    "\n",
    "# Sample images\n",
    "for i in range(10):\n",
    "    sample_images(\n",
    "        output_path=f\"result/ddim_sample_epoch{epoch + start_epoch}_{i}.png\",\n",
    "        num_steps=NUM_TRAIN_TIMESTEPS,\n",
    "        DEVICE=DEVICE,\n",
    "        IMAGE_SIZE=IMAGE_SIZE,\n",
    "        model=model,\n",
    "        ddim_scheduler=ddim_scheduler,\n",
    "    )"
   ]
  }
 ],
 "metadata": {
  "kernelspec": {
   "display_name": ".venv",
   "language": "python",
   "name": "python3"
  },
  "language_info": {
   "codemirror_mode": {
    "name": "ipython",
    "version": 3
   },
   "file_extension": ".py",
   "mimetype": "text/x-python",
   "name": "python",
   "nbconvert_exporter": "python",
   "pygments_lexer": "ipython3",
   "version": "3.12.3"
  }
 },
 "nbformat": 4,
 "nbformat_minor": 5
}
