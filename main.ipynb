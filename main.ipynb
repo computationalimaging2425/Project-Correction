{
 "cells": [
  {
   "cell_type": "markdown",
   "id": "7e6b7f9f",
   "metadata": {},
   "source": [
    "# Model and Training"
   ]
  },
  {
   "cell_type": "markdown",
   "id": "0b5a3da1",
   "metadata": {},
   "source": [
    "## Load the model"
   ]
  },
  {
   "cell_type": "code",
   "execution_count": 1,
   "id": "fc529bf9",
   "metadata": {},
   "outputs": [
    {
     "name": "stderr",
     "output_type": "stream",
     "text": [
      "/home/enrico/Desktop/Project-Correction/.venv/lib/python3.12/site-packages/tqdm/auto.py:21: TqdmWarning: IProgress not found. Please update jupyter and ipywidgets. See https://ipywidgets.readthedocs.io/en/stable/user_install.html\n",
      "  from .autonotebook import tqdm as notebook_tqdm\n"
     ]
    },
    {
     "name": "stdout",
     "output_type": "stream",
     "text": [
      "Model Summary:\n",
      "Model Type: UNet2DModel\n",
      "Number of Parameters: 15722625\n",
      "Device: cuda:0\n",
      "No checkpoint found at checkpoints/ddim_unet_epoch25.pth, starting fresh.\n",
      "Model ddim_unet_epoch25.pth not found. Starting from scratch, loaded on cuda, starting from epoch 0.\n"
     ]
    }
   ],
   "source": [
    "import os\n",
    "import torch\n",
    "import torch.nn.functional as F\n",
    "from torch.utils.data import DataLoader\n",
    "from torchvision import transforms, datasets\n",
    "from diffusers import UNet2DModel, DDPMScheduler, DDIMScheduler\n",
    "ON_COLAB = False  # Set to True if running on Google Colab\n",
    "if ON_COLAB:\n",
    "    !pip install dotenv\n",
    "    \n",
    "from dotenv import load_dotenv\n",
    "\n",
    "# Load environment variables from .env file\n",
    "load_dotenv()\n",
    "\n",
    "\n",
    "# Configuration\n",
    "target_size_for_training = (128, 128)\n",
    "data_root = f\"./raw_data\"  # root directory containing 'train' and 'test' subfolders\n",
    "if ON_COLAB:\n",
    "    from google.colab import drive\n",
    "\n",
    "    drive.mount(os.getenv(\"GOOGLE_DRIVE_CONTENT_PATH\", \"/content/drive\"))\n",
    "    data_root = os.getenv(\"GOOGLE_DRIVE_PATH_RESIZED\", data_root)\n",
    "\n",
    "train_dir = os.path.join(data_root, \"train\")\n",
    "test_dir = os.path.join(data_root, \"test\")\n",
    "model_save_dir = os.getenv(\"MODEL_SAVE_DIR\", \"./checkpoints\")\n",
    "os.makedirs(model_save_dir, exist_ok=True)\n",
    "DEVICE = torch.device(\"cuda\" if torch.cuda.is_available() else \"cpu\")\n",
    "LEARNING_RATE = 1e-4\n",
    "IMAGE_SIZE = target_size_for_training[0]\n",
    "\n",
    "# 2. Define the UNet diffusion model\n",
    "from model_enrico import get_unet_model\n",
    "\n",
    "model = get_unet_model(\n",
    "    sample_size=IMAGE_SIZE,\n",
    "    in_channels=1,\n",
    "    out_channels=1,\n",
    "    layers_per_block=2,\n",
    "    block_out_channels=(64, 128, 256),\n",
    "    down_block_types=(\"DownBlock2D\", \"DownBlock2D\", \"AttnDownBlock2D\"),\n",
    "    up_block_types=(\"AttnUpBlock2D\", \"UpBlock2D\", \"UpBlock2D\"),\n",
    "    dropout=0.1,\n",
    ").to(DEVICE)\n",
    "\n",
    "# Print model summary\n",
    "def print_model_summary(model):\n",
    "    print(\"Model Summary:\")\n",
    "    print(f\"Model Type: {type(model).__name__}\")\n",
    "    print(f\"Number of Parameters: {sum(p.numel() for p in model.parameters())}\")\n",
    "    print(f\"Device: {next(model.parameters()).device}\")\n",
    "\n",
    "print_model_summary(model)\n",
    "\n",
    "\n",
    "# 5. Load the model checkpoint if available\n",
    "def load_checkpoint(ckpt_path, model, optimizer=None, device=torch.device(\"cpu\")):\n",
    "    loaded = False\n",
    "    if not os.path.exists(ckpt_path):\n",
    "        print(f\"No checkpoint found at {ckpt_path}, starting fresh.\")\n",
    "        return loaded, model, optimizer, 0\n",
    "\n",
    "    checkpoint = torch.load(ckpt_path, map_location=device)\n",
    "    model.load_state_dict(checkpoint[\"model\"])\n",
    "    model.to(device)\n",
    "    loaded = True\n",
    "    start_epoch = checkpoint.get(\"epoch\", 0)\n",
    "    if optimizer is not None and \"optimizer\" in checkpoint:\n",
    "        optimizer.load_state_dict(checkpoint[\"optimizer\"])\n",
    "        print(f\"Loaded optimizer state from checkpoint '{ckpt_path}'\")\n",
    "    else:\n",
    "        print(\"Optimizer state not found in checkpoint, starting with a new optimizer.\")\n",
    "    print(f\"Loaded checkpoint '{ckpt_path}' (epoch {start_epoch})\")\n",
    "    return loaded, model, optimizer, start_epoch\n",
    "\n",
    "WEIGHT_DECAY = 1e-5  # weight decay for regularization\n",
    "optimizer = torch.optim.Adam(\n",
    "    model.parameters(), lr=LEARNING_RATE, weight_decay=WEIGHT_DECAY\n",
    ")\n",
    "\n",
    "# Load the model checkpoint\n",
    "ckpt = \"checkpoints/ddim_unet_epoch25.pth\"\n",
    "isModelLoadedFromCheckpoint, model, optimizer, start_epoch = load_checkpoint(\n",
    "    ckpt, model, optimizer, device=DEVICE\n",
    ")\n",
    "model.eval()\n",
    "if isModelLoadedFromCheckpoint:\n",
    "    print(f\"Model {ckpt.split('/')[-1]} loaded and moved to {DEVICE}, starting from epoch {start_epoch}.\")\n",
    "else:\n",
    "    print(f\"Model {ckpt.split('/')[-1]} not found. Starting from scratch, loaded on {DEVICE}, starting from epoch {start_epoch}.\")"
   ]
  },
  {
   "cell_type": "markdown",
   "id": "7803fcc0",
   "metadata": {},
   "source": [
    "## Training and validation"
   ]
  },
  {
   "cell_type": "code",
   "execution_count": null,
   "id": "4efcde23",
   "metadata": {},
   "outputs": [
    {
     "name": "stdout",
     "output_type": "stream",
     "text": [
      "Training images before augmentation: 3306\n",
      "Validation images before augmentation: 327\n",
      "Training samples: 13224\n",
      "Validation samples: 1308\n",
      "Training on cuda | Batch Size: 16 | Epochs: 15 | Starting at epoch 0\n",
      "[Epoch 1/15 | Step 50/827] Train Loss: 0.054032\n",
      "[Epoch 1/15 | Step 100/827] Train Loss: 0.065097\n",
      "[Epoch 1/15 | Step 150/827] Train Loss: 0.029885\n",
      "[Epoch 1/15 | Step 200/827] Train Loss: 0.023501\n",
      "[Epoch 1/15 | Step 250/827] Train Loss: 0.038272\n",
      "[Epoch 1/15 | Step 300/827] Train Loss: 0.022445\n",
      "[Epoch 1/15 | Step 350/827] Train Loss: 0.015688\n",
      "[Epoch 1/15 | Step 400/827] Train Loss: 0.015691\n",
      "[Epoch 1/15 | Step 450/827] Train Loss: 0.018529\n",
      "[Epoch 1/15 | Step 500/827] Train Loss: 0.023079\n",
      "[Epoch 1/15 | Step 550/827] Train Loss: 0.031810\n",
      "[Epoch 1/15 | Step 600/827] Train Loss: 0.008452\n",
      "[Epoch 1/15 | Step 650/827] Train Loss: 0.012981\n",
      "[Epoch 1/15 | Step 700/827] Train Loss: 0.037972\n",
      "[Epoch 1/15 | Step 750/827] Train Loss: 0.021870\n",
      "[Epoch 1/15 | Step 800/827] Train Loss: 0.011344\n"
     ]
    },
    {
     "name": "stderr",
     "output_type": "stream",
     "text": [
      "W0514 12:30:00.521000 19815 torch/_inductor/utils.py:1250] [0/1] Not enough SMs to use max_autotune_gemm mode\n"
     ]
    },
    {
     "name": "stdout",
     "output_type": "stream",
     "text": [
      "[Epoch 1/15 | Step 827/827] Train Loss: 0.009999\n"
     ]
    },
    {
     "name": "stderr",
     "output_type": "stream",
     "text": [
      "Sampling DDIM: 100%|██████████| 1000/1000 [00:25<00:00, 39.56it/s]\n"
     ]
    },
    {
     "name": "stdout",
     "output_type": "stream",
     "text": [
      "Sample saved to ./checkpoints/epoch_1.png\n",
      "Epoch 1 complete. Avg Train Loss: 0.039931\n",
      "Epoch 1 complete. Avg Validation Loss: 0.016541\n",
      "Checkpoint salvato in: ./checkpoints/ddim_unet_epoch1.pth\n",
      "[Epoch 2/15 | Step 50/827] Train Loss: 0.006287\n",
      "[Epoch 2/15 | Step 100/827] Train Loss: 0.030320\n",
      "[Epoch 2/15 | Step 150/827] Train Loss: 0.012031\n",
      "[Epoch 2/15 | Step 200/827] Train Loss: 0.008084\n",
      "[Epoch 2/15 | Step 250/827] Train Loss: 0.012162\n",
      "[Epoch 2/15 | Step 300/827] Train Loss: 0.034821\n",
      "[Epoch 2/15 | Step 350/827] Train Loss: 0.006094\n",
      "[Epoch 2/15 | Step 400/827] Train Loss: 0.008369\n",
      "[Epoch 2/15 | Step 450/827] Train Loss: 0.041663\n",
      "[Epoch 2/15 | Step 500/827] Train Loss: 0.033581\n",
      "[Epoch 2/15 | Step 550/827] Train Loss: 0.015212\n",
      "[Epoch 2/15 | Step 600/827] Train Loss: 0.016571\n",
      "[Epoch 2/15 | Step 650/827] Train Loss: 0.008693\n",
      "[Epoch 2/15 | Step 700/827] Train Loss: 0.022322\n",
      "[Epoch 2/15 | Step 750/827] Train Loss: 0.006750\n",
      "[Epoch 2/15 | Step 800/827] Train Loss: 0.008858\n",
      "[Epoch 2/15 | Step 827/827] Train Loss: 0.007246\n"
     ]
    },
    {
     "name": "stderr",
     "output_type": "stream",
     "text": [
      "Sampling DDIM: 100%|██████████| 1000/1000 [00:22<00:00, 44.97it/s]"
     ]
    },
    {
     "name": "stdout",
     "output_type": "stream",
     "text": [
      "Sample saved to ./checkpoints/epoch_2.png\n",
      "Epoch 2 complete. Avg Train Loss: 0.017938\n"
     ]
    },
    {
     "name": "stderr",
     "output_type": "stream",
     "text": [
      "\n"
     ]
    },
    {
     "name": "stdout",
     "output_type": "stream",
     "text": [
      "Epoch 2 complete. Avg Validation Loss: 0.012840\n",
      "Checkpoint salvato in: ./checkpoints/ddim_unet_epoch2.pth\n",
      "[Epoch 3/15 | Step 50/827] Train Loss: 0.014477\n",
      "[Epoch 3/15 | Step 100/827] Train Loss: 0.012741\n",
      "[Epoch 3/15 | Step 150/827] Train Loss: 0.011284\n",
      "[Epoch 3/15 | Step 200/827] Train Loss: 0.014469\n",
      "[Epoch 3/15 | Step 250/827] Train Loss: 0.009557\n",
      "[Epoch 3/15 | Step 300/827] Train Loss: 0.011946\n",
      "[Epoch 3/15 | Step 350/827] Train Loss: 0.008086\n",
      "[Epoch 3/15 | Step 400/827] Train Loss: 0.021514\n",
      "[Epoch 3/15 | Step 450/827] Train Loss: 0.024894\n",
      "[Epoch 3/15 | Step 500/827] Train Loss: 0.018682\n",
      "[Epoch 3/15 | Step 550/827] Train Loss: 0.015363\n",
      "[Epoch 3/15 | Step 600/827] Train Loss: 0.013943\n",
      "[Epoch 3/15 | Step 650/827] Train Loss: 0.018198\n",
      "[Epoch 3/15 | Step 700/827] Train Loss: 0.006364\n",
      "[Epoch 3/15 | Step 750/827] Train Loss: 0.005361\n",
      "[Epoch 3/15 | Step 800/827] Train Loss: 0.010595\n",
      "[Epoch 3/15 | Step 827/827] Train Loss: 0.013088\n"
     ]
    },
    {
     "name": "stderr",
     "output_type": "stream",
     "text": [
      "Sampling DDIM: 100%|██████████| 1000/1000 [00:22<00:00, 44.54it/s]\n"
     ]
    },
    {
     "name": "stdout",
     "output_type": "stream",
     "text": [
      "Sample saved to ./checkpoints/epoch_3.png\n",
      "Epoch 3 complete. Avg Train Loss: 0.013744\n",
      "Epoch 3 complete. Avg Validation Loss: 0.013067\n",
      "Checkpoint salvato in: ./checkpoints/ddim_unet_epoch3.pth\n",
      "[Epoch 4/15 | Step 50/827] Train Loss: 0.012127\n",
      "[Epoch 4/15 | Step 100/827] Train Loss: 0.006749\n",
      "[Epoch 4/15 | Step 150/827] Train Loss: 0.007610\n",
      "[Epoch 4/15 | Step 200/827] Train Loss: 0.010820\n",
      "[Epoch 4/15 | Step 250/827] Train Loss: 0.041116\n",
      "[Epoch 4/15 | Step 300/827] Train Loss: 0.003922\n",
      "[Epoch 4/15 | Step 350/827] Train Loss: 0.009387\n",
      "[Epoch 4/15 | Step 400/827] Train Loss: 0.014817\n",
      "[Epoch 4/15 | Step 450/827] Train Loss: 0.007862\n",
      "[Epoch 4/15 | Step 500/827] Train Loss: 0.017666\n",
      "[Epoch 4/15 | Step 550/827] Train Loss: 0.003212\n",
      "[Epoch 4/15 | Step 600/827] Train Loss: 0.009746\n",
      "[Epoch 4/15 | Step 650/827] Train Loss: 0.035188\n",
      "[Epoch 4/15 | Step 700/827] Train Loss: 0.007276\n",
      "[Epoch 4/15 | Step 750/827] Train Loss: 0.005009\n",
      "[Epoch 4/15 | Step 800/827] Train Loss: 0.025210\n",
      "[Epoch 4/15 | Step 827/827] Train Loss: 0.009004\n"
     ]
    },
    {
     "name": "stderr",
     "output_type": "stream",
     "text": [
      "Sampling DDIM: 100%|██████████| 1000/1000 [00:22<00:00, 44.96it/s]"
     ]
    },
    {
     "name": "stdout",
     "output_type": "stream",
     "text": [
      "Sample saved to ./checkpoints/epoch_4.png\n",
      "Epoch 4 complete. Avg Train Loss: 0.013314\n"
     ]
    },
    {
     "name": "stderr",
     "output_type": "stream",
     "text": [
      "\n"
     ]
    },
    {
     "name": "stdout",
     "output_type": "stream",
     "text": [
      "Epoch 4 complete. Avg Validation Loss: 0.011394\n",
      "Checkpoint salvato in: ./checkpoints/ddim_unet_epoch4.pth\n",
      "[Epoch 5/15 | Step 50/827] Train Loss: 0.007369\n",
      "[Epoch 5/15 | Step 100/827] Train Loss: 0.008377\n",
      "[Epoch 5/15 | Step 150/827] Train Loss: 0.012327\n",
      "[Epoch 5/15 | Step 200/827] Train Loss: 0.009108\n",
      "[Epoch 5/15 | Step 250/827] Train Loss: 0.013591\n",
      "[Epoch 5/15 | Step 300/827] Train Loss: 0.007769\n",
      "[Epoch 5/15 | Step 350/827] Train Loss: 0.007507\n",
      "[Epoch 5/15 | Step 400/827] Train Loss: 0.003254\n",
      "[Epoch 5/15 | Step 450/827] Train Loss: 0.008928\n",
      "[Epoch 5/15 | Step 500/827] Train Loss: 0.005596\n",
      "[Epoch 5/15 | Step 550/827] Train Loss: 0.012515\n",
      "[Epoch 5/15 | Step 600/827] Train Loss: 0.016254\n",
      "[Epoch 5/15 | Step 650/827] Train Loss: 0.011950\n",
      "[Epoch 5/15 | Step 700/827] Train Loss: 0.007994\n",
      "[Epoch 5/15 | Step 750/827] Train Loss: 0.019388\n",
      "[Epoch 5/15 | Step 800/827] Train Loss: 0.032779\n",
      "[Epoch 5/15 | Step 827/827] Train Loss: 0.018504\n"
     ]
    },
    {
     "name": "stderr",
     "output_type": "stream",
     "text": [
      "Sampling DDIM: 100%|██████████| 1000/1000 [00:22<00:00, 44.61it/s]"
     ]
    },
    {
     "name": "stdout",
     "output_type": "stream",
     "text": [
      "Sample saved to ./checkpoints/epoch_5.png\n",
      "Epoch 5 complete. Avg Train Loss: 0.012265\n"
     ]
    },
    {
     "name": "stderr",
     "output_type": "stream",
     "text": [
      "\n"
     ]
    },
    {
     "name": "stdout",
     "output_type": "stream",
     "text": [
      "Epoch 5 complete. Avg Validation Loss: 0.011995\n",
      "Checkpoint salvato in: ./checkpoints/ddim_unet_epoch5.pth\n",
      "[Epoch 6/15 | Step 50/827] Train Loss: 0.011524\n",
      "[Epoch 6/15 | Step 100/827] Train Loss: 0.006050\n",
      "[Epoch 6/15 | Step 150/827] Train Loss: 0.008545\n",
      "[Epoch 6/15 | Step 200/827] Train Loss: 0.005277\n",
      "[Epoch 6/15 | Step 250/827] Train Loss: 0.056650\n",
      "[Epoch 6/15 | Step 300/827] Train Loss: 0.006125\n",
      "[Epoch 6/15 | Step 350/827] Train Loss: 0.012062\n",
      "[Epoch 6/15 | Step 400/827] Train Loss: 0.004181\n",
      "[Epoch 6/15 | Step 450/827] Train Loss: 0.006355\n",
      "[Epoch 6/15 | Step 500/827] Train Loss: 0.012757\n",
      "[Epoch 6/15 | Step 550/827] Train Loss: 0.014984\n",
      "[Epoch 6/15 | Step 600/827] Train Loss: 0.010003\n",
      "[Epoch 6/15 | Step 650/827] Train Loss: 0.006890\n",
      "[Epoch 6/15 | Step 700/827] Train Loss: 0.006707\n",
      "[Epoch 6/15 | Step 750/827] Train Loss: 0.008098\n",
      "[Epoch 6/15 | Step 800/827] Train Loss: 0.004857\n",
      "[Epoch 6/15 | Step 827/827] Train Loss: 0.015781\n"
     ]
    },
    {
     "name": "stderr",
     "output_type": "stream",
     "text": [
      "Sampling DDIM: 100%|██████████| 1000/1000 [00:22<00:00, 44.56it/s]"
     ]
    },
    {
     "name": "stdout",
     "output_type": "stream",
     "text": [
      "Sample saved to ./checkpoints/epoch_6.png\n",
      "Epoch 6 complete. Avg Train Loss: 0.011591\n"
     ]
    },
    {
     "name": "stderr",
     "output_type": "stream",
     "text": [
      "\n"
     ]
    },
    {
     "name": "stdout",
     "output_type": "stream",
     "text": [
      "Epoch 6 complete. Avg Validation Loss: 0.011368\n",
      "Checkpoint salvato in: ./checkpoints/ddim_unet_epoch6.pth\n",
      "[Epoch 7/15 | Step 50/827] Train Loss: 0.008170\n",
      "[Epoch 7/15 | Step 100/827] Train Loss: 0.008445\n",
      "[Epoch 7/15 | Step 150/827] Train Loss: 0.003875\n",
      "[Epoch 7/15 | Step 200/827] Train Loss: 0.007996\n",
      "[Epoch 7/15 | Step 250/827] Train Loss: 0.005560\n",
      "[Epoch 7/15 | Step 300/827] Train Loss: 0.011195\n",
      "[Epoch 7/15 | Step 350/827] Train Loss: 0.028243\n",
      "[Epoch 7/15 | Step 400/827] Train Loss: 0.005704\n",
      "[Epoch 7/15 | Step 450/827] Train Loss: 0.009051\n",
      "[Epoch 7/15 | Step 500/827] Train Loss: 0.010957\n",
      "[Epoch 7/15 | Step 550/827] Train Loss: 0.041561\n",
      "[Epoch 7/15 | Step 600/827] Train Loss: 0.018372\n",
      "[Epoch 7/15 | Step 650/827] Train Loss: 0.016096\n",
      "[Epoch 7/15 | Step 700/827] Train Loss: 0.011021\n",
      "[Epoch 7/15 | Step 750/827] Train Loss: 0.008171\n",
      "[Epoch 7/15 | Step 800/827] Train Loss: 0.015642\n",
      "[Epoch 7/15 | Step 827/827] Train Loss: 0.007206\n"
     ]
    },
    {
     "name": "stderr",
     "output_type": "stream",
     "text": [
      "Sampling DDIM: 100%|██████████| 1000/1000 [00:22<00:00, 44.63it/s]"
     ]
    },
    {
     "name": "stdout",
     "output_type": "stream",
     "text": [
      "Sample saved to ./checkpoints/epoch_7.png\n",
      "Epoch 7 complete. Avg Train Loss: 0.010795\n"
     ]
    },
    {
     "name": "stderr",
     "output_type": "stream",
     "text": [
      "\n"
     ]
    },
    {
     "name": "stdout",
     "output_type": "stream",
     "text": [
      "Epoch 7 complete. Avg Validation Loss: 0.009956\n",
      "Checkpoint salvato in: ./checkpoints/ddim_unet_epoch7.pth\n",
      "[Epoch 8/15 | Step 50/827] Train Loss: 0.003389\n",
      "[Epoch 8/15 | Step 100/827] Train Loss: 0.016145\n",
      "[Epoch 8/15 | Step 150/827] Train Loss: 0.015745\n",
      "[Epoch 8/15 | Step 200/827] Train Loss: 0.007742\n",
      "[Epoch 8/15 | Step 250/827] Train Loss: 0.007235\n",
      "[Epoch 8/15 | Step 300/827] Train Loss: 0.005950\n",
      "[Epoch 8/15 | Step 350/827] Train Loss: 0.008960\n",
      "[Epoch 8/15 | Step 400/827] Train Loss: 0.016491\n",
      "[Epoch 8/15 | Step 450/827] Train Loss: 0.007957\n",
      "[Epoch 8/15 | Step 500/827] Train Loss: 0.015200\n",
      "[Epoch 8/15 | Step 550/827] Train Loss: 0.010809\n",
      "[Epoch 8/15 | Step 600/827] Train Loss: 0.016585\n",
      "[Epoch 8/15 | Step 650/827] Train Loss: 0.013448\n",
      "[Epoch 8/15 | Step 700/827] Train Loss: 0.005571\n",
      "[Epoch 8/15 | Step 750/827] Train Loss: 0.001794\n",
      "[Epoch 8/15 | Step 800/827] Train Loss: 0.025012\n",
      "[Epoch 8/15 | Step 827/827] Train Loss: 0.003049\n"
     ]
    },
    {
     "name": "stderr",
     "output_type": "stream",
     "text": [
      "Sampling DDIM: 100%|██████████| 1000/1000 [00:22<00:00, 44.56it/s]"
     ]
    },
    {
     "name": "stdout",
     "output_type": "stream",
     "text": [
      "Sample saved to ./checkpoints/epoch_8.png\n",
      "Epoch 8 complete. Avg Train Loss: 0.011133\n"
     ]
    },
    {
     "name": "stderr",
     "output_type": "stream",
     "text": [
      "\n"
     ]
    },
    {
     "name": "stdout",
     "output_type": "stream",
     "text": [
      "Epoch 8 complete. Avg Validation Loss: 0.009903\n",
      "Checkpoint salvato in: ./checkpoints/ddim_unet_epoch8.pth\n",
      "[Epoch 9/15 | Step 50/827] Train Loss: 0.005352\n",
      "[Epoch 9/15 | Step 100/827] Train Loss: 0.006181\n",
      "[Epoch 9/15 | Step 150/827] Train Loss: 0.009967\n",
      "[Epoch 9/15 | Step 200/827] Train Loss: 0.002737\n",
      "[Epoch 9/15 | Step 250/827] Train Loss: 0.017987\n",
      "[Epoch 9/15 | Step 300/827] Train Loss: 0.017297\n",
      "[Epoch 9/15 | Step 350/827] Train Loss: 0.003840\n",
      "[Epoch 9/15 | Step 400/827] Train Loss: 0.006828\n",
      "[Epoch 9/15 | Step 450/827] Train Loss: 0.012011\n",
      "[Epoch 9/15 | Step 500/827] Train Loss: 0.003434\n",
      "[Epoch 9/15 | Step 550/827] Train Loss: 0.005390\n",
      "[Epoch 9/15 | Step 600/827] Train Loss: 0.011589\n",
      "[Epoch 9/15 | Step 650/827] Train Loss: 0.013116\n",
      "[Epoch 9/15 | Step 700/827] Train Loss: 0.005663\n",
      "[Epoch 9/15 | Step 750/827] Train Loss: 0.018545\n",
      "[Epoch 9/15 | Step 800/827] Train Loss: 0.007269\n",
      "[Epoch 9/15 | Step 827/827] Train Loss: 0.002740\n"
     ]
    },
    {
     "name": "stderr",
     "output_type": "stream",
     "text": [
      "Sampling DDIM: 100%|██████████| 1000/1000 [00:22<00:00, 44.63it/s]"
     ]
    },
    {
     "name": "stdout",
     "output_type": "stream",
     "text": [
      "Sample saved to ./checkpoints/epoch_9.png\n",
      "Epoch 9 complete. Avg Train Loss: 0.010567\n"
     ]
    },
    {
     "name": "stderr",
     "output_type": "stream",
     "text": [
      "\n"
     ]
    },
    {
     "name": "stdout",
     "output_type": "stream",
     "text": [
      "Epoch 9 complete. Avg Validation Loss: 0.010738\n",
      "Checkpoint salvato in: ./checkpoints/ddim_unet_epoch9.pth\n",
      "[Epoch 10/15 | Step 50/827] Train Loss: 0.018501\n",
      "[Epoch 10/15 | Step 100/827] Train Loss: 0.005420\n",
      "[Epoch 10/15 | Step 150/827] Train Loss: 0.018013\n",
      "[Epoch 10/15 | Step 200/827] Train Loss: 0.007733\n",
      "[Epoch 10/15 | Step 250/827] Train Loss: 0.015341\n",
      "[Epoch 10/15 | Step 300/827] Train Loss: 0.005916\n",
      "[Epoch 10/15 | Step 350/827] Train Loss: 0.006474\n",
      "[Epoch 10/15 | Step 400/827] Train Loss: 0.008936\n",
      "[Epoch 10/15 | Step 450/827] Train Loss: 0.004651\n",
      "[Epoch 10/15 | Step 500/827] Train Loss: 0.001815\n",
      "[Epoch 10/15 | Step 550/827] Train Loss: 0.004114\n",
      "[Epoch 10/15 | Step 600/827] Train Loss: 0.008652\n",
      "[Epoch 10/15 | Step 650/827] Train Loss: 0.017456\n",
      "[Epoch 10/15 | Step 700/827] Train Loss: 0.006533\n",
      "[Epoch 10/15 | Step 750/827] Train Loss: 0.005943\n",
      "[Epoch 10/15 | Step 800/827] Train Loss: 0.008511\n",
      "[Epoch 10/15 | Step 827/827] Train Loss: 0.002817\n"
     ]
    },
    {
     "name": "stderr",
     "output_type": "stream",
     "text": [
      "Sampling DDIM: 100%|██████████| 1000/1000 [00:22<00:00, 44.84it/s]"
     ]
    },
    {
     "name": "stdout",
     "output_type": "stream",
     "text": [
      "Sample saved to ./checkpoints/epoch_10.png\n",
      "Epoch 10 complete. Avg Train Loss: 0.010450\n"
     ]
    },
    {
     "name": "stderr",
     "output_type": "stream",
     "text": [
      "\n"
     ]
    },
    {
     "name": "stdout",
     "output_type": "stream",
     "text": [
      "Epoch 10 complete. Avg Validation Loss: 0.010227\n",
      "Checkpoint salvato in: ./checkpoints/ddim_unet_epoch10.pth\n",
      "[Epoch 11/15 | Step 50/827] Train Loss: 0.019200\n",
      "[Epoch 11/15 | Step 100/827] Train Loss: 0.006004\n",
      "[Epoch 11/15 | Step 150/827] Train Loss: 0.003000\n",
      "[Epoch 11/15 | Step 200/827] Train Loss: 0.006947\n",
      "[Epoch 11/15 | Step 250/827] Train Loss: 0.004978\n",
      "[Epoch 11/15 | Step 300/827] Train Loss: 0.003668\n",
      "[Epoch 11/15 | Step 350/827] Train Loss: 0.012969\n",
      "[Epoch 11/15 | Step 400/827] Train Loss: 0.011022\n",
      "[Epoch 11/15 | Step 450/827] Train Loss: 0.008947\n",
      "[Epoch 11/15 | Step 500/827] Train Loss: 0.003972\n",
      "[Epoch 11/15 | Step 550/827] Train Loss: 0.016229\n",
      "[Epoch 11/15 | Step 600/827] Train Loss: 0.017574\n",
      "[Epoch 11/15 | Step 650/827] Train Loss: 0.022372\n",
      "[Epoch 11/15 | Step 700/827] Train Loss: 0.002861\n",
      "[Epoch 11/15 | Step 750/827] Train Loss: 0.006563\n",
      "[Epoch 11/15 | Step 800/827] Train Loss: 0.013716\n",
      "[Epoch 11/15 | Step 827/827] Train Loss: 0.005514\n"
     ]
    },
    {
     "name": "stderr",
     "output_type": "stream",
     "text": [
      "Sampling DDIM: 100%|██████████| 1000/1000 [00:22<00:00, 44.67it/s]"
     ]
    },
    {
     "name": "stdout",
     "output_type": "stream",
     "text": [
      "Sample saved to ./checkpoints/epoch_11.png\n",
      "Epoch 11 complete. Avg Train Loss: 0.010198\n"
     ]
    },
    {
     "name": "stderr",
     "output_type": "stream",
     "text": [
      "\n"
     ]
    },
    {
     "name": "stdout",
     "output_type": "stream",
     "text": [
      "Epoch 11 complete. Avg Validation Loss: 0.009896\n",
      "Checkpoint salvato in: ./checkpoints/ddim_unet_epoch11.pth\n",
      "[Epoch 12/15 | Step 50/827] Train Loss: 0.005195\n",
      "[Epoch 12/15 | Step 100/827] Train Loss: 0.012821\n",
      "[Epoch 12/15 | Step 150/827] Train Loss: 0.030709\n",
      "[Epoch 12/15 | Step 200/827] Train Loss: 0.026193\n",
      "[Epoch 12/15 | Step 250/827] Train Loss: 0.022150\n",
      "[Epoch 12/15 | Step 300/827] Train Loss: 0.006400\n",
      "[Epoch 12/15 | Step 350/827] Train Loss: 0.008179\n",
      "[Epoch 12/15 | Step 400/827] Train Loss: 0.010355\n",
      "[Epoch 12/15 | Step 450/827] Train Loss: 0.012031\n",
      "[Epoch 12/15 | Step 500/827] Train Loss: 0.008649\n",
      "[Epoch 12/15 | Step 550/827] Train Loss: 0.012827\n",
      "[Epoch 12/15 | Step 600/827] Train Loss: 0.004558\n",
      "[Epoch 12/15 | Step 650/827] Train Loss: 0.008373\n",
      "[Epoch 12/15 | Step 700/827] Train Loss: 0.009084\n",
      "[Epoch 12/15 | Step 750/827] Train Loss: 0.013328\n",
      "[Epoch 12/15 | Step 800/827] Train Loss: 0.020432\n",
      "[Epoch 12/15 | Step 827/827] Train Loss: 0.004978\n"
     ]
    },
    {
     "name": "stderr",
     "output_type": "stream",
     "text": [
      "Sampling DDIM: 100%|██████████| 1000/1000 [00:22<00:00, 44.85it/s]"
     ]
    },
    {
     "name": "stdout",
     "output_type": "stream",
     "text": [
      "Sample saved to ./checkpoints/epoch_12.png\n",
      "Epoch 12 complete. Avg Train Loss: 0.010160\n"
     ]
    },
    {
     "name": "stderr",
     "output_type": "stream",
     "text": [
      "\n"
     ]
    },
    {
     "name": "stdout",
     "output_type": "stream",
     "text": [
      "Epoch 12 complete. Avg Validation Loss: 0.009818\n",
      "Checkpoint salvato in: ./checkpoints/ddim_unet_epoch12.pth\n",
      "[Epoch 13/15 | Step 50/827] Train Loss: 0.007189\n",
      "[Epoch 13/15 | Step 100/827] Train Loss: 0.010248\n",
      "[Epoch 13/15 | Step 150/827] Train Loss: 0.018954\n",
      "[Epoch 13/15 | Step 200/827] Train Loss: 0.006676\n",
      "[Epoch 13/15 | Step 250/827] Train Loss: 0.007964\n",
      "[Epoch 13/15 | Step 300/827] Train Loss: 0.003709\n",
      "[Epoch 13/15 | Step 350/827] Train Loss: 0.006256\n",
      "[Epoch 13/15 | Step 400/827] Train Loss: 0.002418\n",
      "[Epoch 13/15 | Step 450/827] Train Loss: 0.007216\n",
      "[Epoch 13/15 | Step 500/827] Train Loss: 0.020918\n",
      "[Epoch 13/15 | Step 550/827] Train Loss: 0.036588\n",
      "[Epoch 13/15 | Step 600/827] Train Loss: 0.027982\n",
      "[Epoch 13/15 | Step 650/827] Train Loss: 0.004879\n",
      "[Epoch 13/15 | Step 700/827] Train Loss: 0.003763\n",
      "[Epoch 13/15 | Step 750/827] Train Loss: 0.004255\n",
      "[Epoch 13/15 | Step 800/827] Train Loss: 0.006385\n",
      "[Epoch 13/15 | Step 827/827] Train Loss: 0.001777\n"
     ]
    },
    {
     "name": "stderr",
     "output_type": "stream",
     "text": [
      "Sampling DDIM: 100%|██████████| 1000/1000 [00:22<00:00, 44.87it/s]"
     ]
    },
    {
     "name": "stdout",
     "output_type": "stream",
     "text": [
      "Sample saved to ./checkpoints/epoch_13.png\n",
      "Epoch 13 complete. Avg Train Loss: 0.010435\n"
     ]
    },
    {
     "name": "stderr",
     "output_type": "stream",
     "text": [
      "\n"
     ]
    },
    {
     "name": "stdout",
     "output_type": "stream",
     "text": [
      "Epoch 13 complete. Avg Validation Loss: 0.010163\n",
      "Checkpoint salvato in: ./checkpoints/ddim_unet_epoch13.pth\n",
      "[Epoch 14/15 | Step 50/827] Train Loss: 0.015206\n",
      "[Epoch 14/15 | Step 100/827] Train Loss: 0.010976\n",
      "[Epoch 14/15 | Step 150/827] Train Loss: 0.004099\n",
      "[Epoch 14/15 | Step 200/827] Train Loss: 0.005817\n",
      "[Epoch 14/15 | Step 250/827] Train Loss: 0.008539\n",
      "[Epoch 14/15 | Step 300/827] Train Loss: 0.014883\n",
      "[Epoch 14/15 | Step 350/827] Train Loss: 0.003341\n",
      "[Epoch 14/15 | Step 400/827] Train Loss: 0.013965\n",
      "[Epoch 14/15 | Step 450/827] Train Loss: 0.012586\n",
      "[Epoch 14/15 | Step 500/827] Train Loss: 0.005008\n",
      "[Epoch 14/15 | Step 550/827] Train Loss: 0.026810\n",
      "[Epoch 14/15 | Step 600/827] Train Loss: 0.004446\n",
      "[Epoch 14/15 | Step 650/827] Train Loss: 0.007310\n",
      "[Epoch 14/15 | Step 700/827] Train Loss: 0.005140\n",
      "[Epoch 14/15 | Step 750/827] Train Loss: 0.002369\n",
      "[Epoch 14/15 | Step 800/827] Train Loss: 0.023475\n",
      "[Epoch 14/15 | Step 827/827] Train Loss: 0.026807\n"
     ]
    },
    {
     "name": "stderr",
     "output_type": "stream",
     "text": [
      "Sampling DDIM: 100%|██████████| 1000/1000 [00:22<00:00, 44.69it/s]\n"
     ]
    },
    {
     "name": "stdout",
     "output_type": "stream",
     "text": [
      "Sample saved to ./checkpoints/epoch_14.png\n",
      "Epoch 14 complete. Avg Train Loss: 0.009514\n",
      "Epoch 14 complete. Avg Validation Loss: 0.009861\n",
      "Checkpoint salvato in: ./checkpoints/ddim_unet_epoch14.pth\n",
      "[Epoch 15/15 | Step 50/827] Train Loss: 0.010226\n",
      "[Epoch 15/15 | Step 100/827] Train Loss: 0.003213\n",
      "[Epoch 15/15 | Step 150/827] Train Loss: 0.002418\n",
      "[Epoch 15/15 | Step 200/827] Train Loss: 0.004852\n",
      "[Epoch 15/15 | Step 250/827] Train Loss: 0.007584\n",
      "[Epoch 15/15 | Step 300/827] Train Loss: 0.003933\n",
      "[Epoch 15/15 | Step 350/827] Train Loss: 0.011541\n",
      "[Epoch 15/15 | Step 400/827] Train Loss: 0.004358\n",
      "[Epoch 15/15 | Step 450/827] Train Loss: 0.005146\n",
      "[Epoch 15/15 | Step 500/827] Train Loss: 0.010655\n",
      "[Epoch 15/15 | Step 550/827] Train Loss: 0.006423\n",
      "[Epoch 15/15 | Step 600/827] Train Loss: 0.006804\n",
      "[Epoch 15/15 | Step 650/827] Train Loss: 0.010630\n",
      "[Epoch 15/15 | Step 700/827] Train Loss: 0.003445\n",
      "[Epoch 15/15 | Step 750/827] Train Loss: 0.016039\n",
      "[Epoch 15/15 | Step 800/827] Train Loss: 0.005641\n",
      "[Epoch 15/15 | Step 827/827] Train Loss: 0.004081\n"
     ]
    },
    {
     "name": "stderr",
     "output_type": "stream",
     "text": [
      "Sampling DDIM: 100%|██████████| 1000/1000 [00:22<00:00, 44.86it/s]"
     ]
    },
    {
     "name": "stdout",
     "output_type": "stream",
     "text": [
      "Sample saved to ./checkpoints/epoch_15.png\n",
      "Epoch 15 complete. Avg Train Loss: 0.009496\n"
     ]
    },
    {
     "name": "stderr",
     "output_type": "stream",
     "text": [
      "\n"
     ]
    },
    {
     "name": "stdout",
     "output_type": "stream",
     "text": [
      "Epoch 15 complete. Avg Validation Loss: 0.009733\n",
      "Checkpoint salvato in: ./checkpoints/ddim_unet_epoch15.pth\n"
     ]
    },
    {
     "data": {
      "image/png": "[encoded data removed]",
      "text/plain": [
       "<Figure size 800x500 with 1 Axes>"
      ]
     },
     "metadata": {},
     "output_type": "display_data"
    }
   ],
   "source": [
    "import os\n",
    "import torch\n",
    "import torch.nn.functional as F\n",
    "from torch.utils.data import DataLoader\n",
    "from torch.optim.lr_scheduler import CosineAnnealingLR\n",
    "from torch.amp import autocast, GradScaler\n",
    "from matplotlib import pyplot as plt\n",
    "from utils import NUM_TRAIN_TIMESTEPS, sample_images, AugmentedDataset, save_checkpoint\n",
    "\n",
    "# Config\n",
    "BATCH_SIZE = 16\n",
    "NUM_EPOCHS = 15\n",
    "IMAGE_EXTENSIONS = (\".png\", \".jpg\", \".jpeg\")\n",
    "\n",
    "\n",
    "# Dataset Preparation\n",
    "def count_images(root_dir, extensions=IMAGE_EXTENSIONS):\n",
    "    return sum(\n",
    "        fname.lower().endswith(extensions)\n",
    "        for _, _, filenames in os.walk(root_dir)\n",
    "        for fname in filenames\n",
    "    )\n",
    "\n",
    "\n",
    "print(f\"Training images before augmentation: {count_images(train_dir)}\")\n",
    "print(f\"Validation images before augmentation: {count_images(test_dir)}\")\n",
    "\n",
    "train_dataset = AugmentedDataset(root_dir=train_dir, image_size=IMAGE_SIZE)\n",
    "test_dataset = AugmentedDataset(root_dir=test_dir, image_size=IMAGE_SIZE)\n",
    "\n",
    "train_loader = DataLoader(\n",
    "    train_dataset, batch_size=BATCH_SIZE, shuffle=True, num_workers=4, pin_memory=True\n",
    ")\n",
    "test_loader = DataLoader(\n",
    "    test_dataset, batch_size=BATCH_SIZE, shuffle=False, num_workers=4, pin_memory=True\n",
    ")\n",
    "\n",
    "print(f\"Training samples: {len(train_loader.dataset)}\")\n",
    "print(f\"Validation samples: {len(test_loader.dataset)}\")\n",
    "\n",
    "# Scheduler and Model Setup\n",
    "noise_scheduler = DDPMScheduler(num_train_timesteps=NUM_TRAIN_TIMESTEPS)\n",
    "ddim_scheduler = DDIMScheduler(\n",
    "    beta_start=noise_scheduler.config.beta_start,\n",
    "    beta_end=noise_scheduler.config.beta_end,\n",
    "    beta_schedule=noise_scheduler.config.beta_schedule,\n",
    "    clip_sample=False,\n",
    ")\n",
    "ddim_scheduler.set_timesteps(NUM_TRAIN_TIMESTEPS)\n",
    "\n",
    "model = torch.compile(model)\n",
    "scaler = GradScaler(device=DEVICE)\n",
    "scheduler = CosineAnnealingLR(optimizer, T_max=NUM_EPOCHS, eta_min=1e-6)\n",
    "\n",
    "# Training Loop\n",
    "train_losses, val_losses = [], []\n",
    "\n",
    "print(\n",
    "    f\"Training on {DEVICE} | Batch Size: {BATCH_SIZE} | Epochs: {NUM_EPOCHS} | Starting at epoch {start_epoch}\"\n",
    ")\n",
    "\n",
    "for epoch in range(1, NUM_EPOCHS + 1):\n",
    "    model.train()\n",
    "    total_train_loss = 0.0\n",
    "\n",
    "    for step, (images, _) in enumerate(train_loader, 1):\n",
    "        images = images.to(DEVICE)\n",
    "        noise = torch.randn_like(images)\n",
    "        timesteps = torch.randint(\n",
    "            0, NUM_TRAIN_TIMESTEPS, (images.size(0),), device=DEVICE\n",
    "        )\n",
    "\n",
    "        optimizer.zero_grad()\n",
    "        with autocast(device_type=DEVICE.type, enabled=True):\n",
    "            noisy_images = noise_scheduler.add_noise(images, noise, timesteps)\n",
    "            noise_pred = model(noisy_images, timesteps).sample\n",
    "            loss = F.mse_loss(noise_pred, noise)\n",
    "\n",
    "        scaler.scale(loss).backward()\n",
    "        scaler.step(optimizer)\n",
    "        scaler.update()\n",
    "        scheduler.step()\n",
    "\n",
    "        total_train_loss += loss.item()\n",
    "\n",
    "        if step % 50 == 0 or step == len(train_loader):\n",
    "            print(\n",
    "                f\"[Epoch {epoch}/{NUM_EPOCHS} | Step {step}/{len(train_loader)}] Train Loss: {loss.item():.6f}\"\n",
    "            )\n",
    "\n",
    "        # if step % (len(train_loader) // 3) == 0:\n",
    "        #     print(f\"Reached step {step} of epoch {epoch}. Saving sample image and weights.\")\n",
    "        #     sample_images(\n",
    "        #         output_path=f\"{model_save_dir}/epoch_{epoch + start_epoch}_step_{step}.png\",\n",
    "        #         num_steps=NUM_TRAIN_TIMESTEPS,\n",
    "        #         DEVICE=DEVICE,\n",
    "        #         IMAGE_SIZE=IMAGE_SIZE,\n",
    "        #         model=model,\n",
    "        #         ddim_scheduler=ddim_scheduler,\n",
    "        #     )\n",
    "        #     ckpt_path = os.path.join(\n",
    "        #         model_save_dir, f\"ddim_unet_epoch{epoch + start_epoch}_step{step}.pth\"\n",
    "        #     )\n",
    "        #     save_checkpoint(\n",
    "        #         model=model,\n",
    "        #         optimizer=optimizer,\n",
    "        #         epoch=epoch + start_epoch,\n",
    "        #         path=ckpt_path,\n",
    "        #     )\n",
    "\n",
    "    sample_images(\n",
    "        output_path=f\"{model_save_dir}/epoch_{epoch + start_epoch}.png\",\n",
    "        num_steps=NUM_TRAIN_TIMESTEPS,\n",
    "        DEVICE=DEVICE,\n",
    "        IMAGE_SIZE=IMAGE_SIZE,\n",
    "        model=model,\n",
    "        ddim_scheduler=ddim_scheduler,\n",
    "    )\n",
    "\n",
    "    avg_train_loss = total_train_loss / len(train_loader)\n",
    "    train_losses.append(avg_train_loss)\n",
    "    print(f\"Epoch {epoch} complete. Avg Train Loss: {avg_train_loss:.6f}\")\n",
    "\n",
    "    # Validation\n",
    "    model.eval()\n",
    "    total_val_loss = 0.0\n",
    "\n",
    "    with torch.no_grad():\n",
    "        for images, _ in test_loader:\n",
    "            images = images.to(DEVICE)\n",
    "            noise = torch.randn_like(images)\n",
    "            timesteps = torch.randint(\n",
    "                0, NUM_TRAIN_TIMESTEPS, (images.size(0),), device=DEVICE\n",
    "            )\n",
    "\n",
    "            with autocast(device_type=DEVICE.type, enabled=True):\n",
    "                noisy_images = noise_scheduler.add_noise(images, noise, timesteps)\n",
    "                noise_pred = model(noisy_images, timesteps).sample\n",
    "                total_val_loss += F.mse_loss(noise_pred, noise).item()\n",
    "\n",
    "    avg_val_loss = total_val_loss / len(test_loader)\n",
    "    val_losses.append(avg_val_loss)\n",
    "    print(f\"Epoch {epoch} complete. Avg Validation Loss: {avg_val_loss:.6f}\")\n",
    "\n",
    "    ckpt_path = os.path.join(\n",
    "        model_save_dir, f\"ddim_unet_epoch{epoch + start_epoch}.pth\"\n",
    "    )\n",
    "    save_checkpoint(\n",
    "        model=model,\n",
    "        optimizer=optimizer,\n",
    "        epoch=epoch + start_epoch,\n",
    "        path=ckpt_path,\n",
    "    )"
   ]
  },
  {
   "cell_type": "code",
   "execution_count": null,
   "id": "f3cb12c0",
   "metadata": {},
   "outputs": [
    {
     "data": {
      "image/png": "[encoded data removed]",
      "text/plain": [
       "<Figure size 800x500 with 1 Axes>"
      ]
     },
     "metadata": {},
     "output_type": "display_data"
    }
   ],
   "source": [
    "import os\n",
    "import numpy as np\n",
    "\n",
    "# Path to the loss history file\n",
    "history_file = os.path.join(model_save_dir, \"loss_history.txt\")\n",
    "\n",
    "# Load existing history if it exists\n",
    "all_train_losses = []\n",
    "all_val_losses = []\n",
    "\n",
    "if os.path.exists(history_file):\n",
    "    with open(history_file, \"r\") as f:\n",
    "        lines = f.readlines()[1:]  # Skip header\n",
    "        for line in lines:\n",
    "            _, train_loss, val_loss = line.strip().split(\"\\t\")\n",
    "            all_train_losses.append(float(train_loss))\n",
    "            all_val_losses.append(float(val_loss))\n",
    "\n",
    "# Append current session's losses\n",
    "all_train_losses.extend(train_losses)\n",
    "all_val_losses.extend(val_losses)\n",
    "\n",
    "# Save updated history\n",
    "with open(history_file, \"w\") as f:\n",
    "    f.write(\"Epoch\\tTrain Loss\\tValidation Loss\\n\")\n",
    "    for i, (tr, vl) in enumerate(zip(all_train_losses, all_val_losses), 1):\n",
    "        f.write(f\"{i}\\t{tr:.6f}\\t{vl:.6f}\\n\")\n",
    "\n",
    "# Plot full loss history\n",
    "plt.figure(figsize=(8, 5))\n",
    "plt.plot(range(1, len(all_train_losses) + 1), all_train_losses, label=\"Train Loss\")\n",
    "plt.plot(range(1, len(all_val_losses) + 1), all_val_losses, label=\"Validation Loss\")\n",
    "plt.xlabel(\"Epoch\")\n",
    "plt.ylabel(\"MSE Loss\")\n",
    "plt.title(\"Train vs Validation Loss Over Time\")\n",
    "plt.legend()\n",
    "plt.grid(True)\n",
    "plt.tight_layout()\n",
    "plt.show()"
   ]
  },
  {
   "cell_type": "code",
   "execution_count": 11,
   "id": "c7758062",
   "metadata": {},
   "outputs": [
    {
     "name": "stderr",
     "output_type": "stream",
     "text": [
      "Sampling DDIM: 100%|██████████| 1000/1000 [00:22<00:00, 44.99it/s]\n"
     ]
    },
    {
     "name": "stdout",
     "output_type": "stream",
     "text": [
      "Sample saved to result/ddim_sample_epoch15_0.png\n"
     ]
    },
    {
     "name": "stderr",
     "output_type": "stream",
     "text": [
      "Sampling DDIM: 100%|██████████| 1000/1000 [00:22<00:00, 44.70it/s]\n"
     ]
    },
    {
     "name": "stdout",
     "output_type": "stream",
     "text": [
      "Sample saved to result/ddim_sample_epoch15_1.png\n"
     ]
    },
    {
     "name": "stderr",
     "output_type": "stream",
     "text": [
      "Sampling DDIM: 100%|██████████| 1000/1000 [00:22<00:00, 44.68it/s]\n"
     ]
    },
    {
     "name": "stdout",
     "output_type": "stream",
     "text": [
      "Sample saved to result/ddim_sample_epoch15_2.png\n"
     ]
    },
    {
     "name": "stderr",
     "output_type": "stream",
     "text": [
      "Sampling DDIM: 100%|██████████| 1000/1000 [00:22<00:00, 44.87it/s]\n"
     ]
    },
    {
     "name": "stdout",
     "output_type": "stream",
     "text": [
      "Sample saved to result/ddim_sample_epoch15_3.png\n"
     ]
    },
    {
     "name": "stderr",
     "output_type": "stream",
     "text": [
      "Sampling DDIM: 100%|██████████| 1000/1000 [00:22<00:00, 44.73it/s]\n"
     ]
    },
    {
     "name": "stdout",
     "output_type": "stream",
     "text": [
      "Sample saved to result/ddim_sample_epoch15_4.png\n"
     ]
    },
    {
     "name": "stderr",
     "output_type": "stream",
     "text": [
      "Sampling DDIM: 100%|██████████| 1000/1000 [00:22<00:00, 44.77it/s]\n"
     ]
    },
    {
     "name": "stdout",
     "output_type": "stream",
     "text": [
      "Sample saved to result/ddim_sample_epoch15_5.png\n"
     ]
    },
    {
     "name": "stderr",
     "output_type": "stream",
     "text": [
      "Sampling DDIM: 100%|██████████| 1000/1000 [00:22<00:00, 44.59it/s]\n"
     ]
    },
    {
     "name": "stdout",
     "output_type": "stream",
     "text": [
      "Sample saved to result/ddim_sample_epoch15_6.png\n"
     ]
    },
    {
     "name": "stderr",
     "output_type": "stream",
     "text": [
      "Sampling DDIM: 100%|██████████| 1000/1000 [00:22<00:00, 44.47it/s]\n"
     ]
    },
    {
     "name": "stdout",
     "output_type": "stream",
     "text": [
      "Sample saved to result/ddim_sample_epoch15_7.png\n"
     ]
    },
    {
     "name": "stderr",
     "output_type": "stream",
     "text": [
      "Sampling DDIM: 100%|██████████| 1000/1000 [00:22<00:00, 44.52it/s]\n"
     ]
    },
    {
     "name": "stdout",
     "output_type": "stream",
     "text": [
      "Sample saved to result/ddim_sample_epoch15_8.png\n"
     ]
    },
    {
     "name": "stderr",
     "output_type": "stream",
     "text": [
      "Sampling DDIM: 100%|██████████| 1000/1000 [00:22<00:00, 44.57it/s]"
     ]
    },
    {
     "name": "stdout",
     "output_type": "stream",
     "text": [
      "Sample saved to result/ddim_sample_epoch15_9.png\n"
     ]
    },
    {
     "name": "stderr",
     "output_type": "stream",
     "text": [
      "\n"
     ]
    }
   ],
   "source": [
    "from diffusers import DDPMScheduler, DDIMScheduler\n",
    "from tqdm import tqdm\n",
    "from utils import sample_images\n",
    "\n",
    "# Imposta il numero di step di inferenza per DDIM (uguale a NUM_TRAIN_TIMESTEPS di default)\n",
    "# 6. Sampling example with DDIM\n",
    "noise_scheduler = DDPMScheduler(num_train_timesteps=NUM_TRAIN_TIMESTEPS)\n",
    "\n",
    "ddim_scheduler = DDIMScheduler(\n",
    "    beta_start=noise_scheduler.config.beta_start,\n",
    "    beta_end=noise_scheduler.config.beta_end,\n",
    "    beta_schedule=noise_scheduler.config.beta_schedule,\n",
    "    clip_sample=False,\n",
    ")\n",
    "\n",
    "ddim_scheduler.set_timesteps(NUM_TRAIN_TIMESTEPS)\n",
    "\n",
    "\n",
    "# Sample images\n",
    "for i in range(10):\n",
    "    sample_images(\n",
    "        output_path=f\"result/ddim_sample_epoch{epoch + start_epoch}_{i}.png\",\n",
    "        num_steps=NUM_TRAIN_TIMESTEPS,\n",
    "        DEVICE=DEVICE,\n",
    "        IMAGE_SIZE=IMAGE_SIZE,\n",
    "        model=model,\n",
    "        ddim_scheduler=ddim_scheduler,\n",
    "    )"
   ]
  }
 ],
 "metadata": {
  "kernelspec": {
   "display_name": ".venv",
   "language": "python",
   "name": "python3"
  },
  "language_info": {
   "codemirror_mode": {
    "name": "ipython",
    "version": 3
   },
   "file_extension": ".py",
   "mimetype": "text/x-python",
   "name": "python",
   "nbconvert_exporter": "python",
   "pygments_lexer": "ipython3",
   "version": "3.12.3"
  }
 },
 "nbformat": 4,
 "nbformat_minor": 5
}
