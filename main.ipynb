{
 "cells": [
  {
   "cell_type": "markdown",
   "id": "7e6b7f9f",
   "metadata": {},
   "source": [
    "# Model and Training"
   ]
  },
  {
   "cell_type": "markdown",
   "id": "0b5a3da1",
   "metadata": {},
   "source": [
    "## Load the model"
   ]
  },
  {
   "cell_type": "code",
   "execution_count": 1,
   "id": "fc529bf9",
   "metadata": {},
   "outputs": [
    {
     "name": "stderr",
     "output_type": "stream",
     "text": [
      "/home/enrico/Desktop/Project-Correction/.venv/lib/python3.12/site-packages/tqdm/auto.py:21: TqdmWarning: IProgress not found. Please update jupyter and ipywidgets. See https://ipywidgets.readthedocs.io/en/stable/user_install.html\n",
      "  from .autonotebook import tqdm as notebook_tqdm\n"
     ]
    },
    {
     "name": "stdout",
     "output_type": "stream",
     "text": [
      "Model Summary:\n",
      "Model Type: UNet2DModel\n",
      "Number of Parameters: 15722625\n",
      "Device: cuda:0\n",
      "No checkpoint found at checkpoints/ddim_unet_epoch20.pth, starting fresh.\n",
      "Model ddim_unet_epoch20.pth not found. Starting from scratch, loaded on cuda, starting from epoch 0.\n"
     ]
    }
   ],
   "source": [
    "import os\n",
    "import torch\n",
    "import torch.nn.functional as F\n",
    "from torch.utils.data import DataLoader\n",
    "from torchvision import transforms, datasets\n",
    "from diffusers import UNet2DModel, DDPMScheduler, DDIMScheduler\n",
    "ON_COLAB = False  # Set to True if running on Google Colab\n",
    "if ON_COLAB:\n",
    "    !pip install dotenv\n",
    "    \n",
    "from dotenv import load_dotenv\n",
    "\n",
    "# Load environment variables from .env file\n",
    "load_dotenv()\n",
    "\n",
    "\n",
    "# Configuration\n",
    "target_size_for_training = (128, 128)\n",
    "data_root = f\"./raw_data\"  # root directory containing 'train' and 'test' subfolders\n",
    "if ON_COLAB:\n",
    "    from google.colab import drive\n",
    "\n",
    "    drive.mount(os.getenv(\"GOOGLE_DRIVE_CONTENT_PATH\", \"/content/drive\"))\n",
    "    data_root = os.getenv(\"GOOGLE_DRIVE_PATH_RESIZED\", data_root)\n",
    "\n",
    "train_dir = os.path.join(data_root, \"train\")\n",
    "test_dir = os.path.join(data_root, \"test\")\n",
    "model_save_dir = os.getenv(\"MODEL_SAVE_DIR\", \"./checkpoints\")\n",
    "os.makedirs(model_save_dir, exist_ok=True)\n",
    "DEVICE = torch.device(\"cuda\" if torch.cuda.is_available() else \"cpu\")\n",
    "LEARNING_RATE = 1e-4\n",
    "IMAGE_SIZE = target_size_for_training[0]\n",
    "\n",
    "# 2. Define the UNet diffusion model\n",
    "from model import get_unet_model\n",
    "\n",
    "model = get_unet_model(\n",
    "    sample_size=IMAGE_SIZE,\n",
    "    in_channels=1,\n",
    "    out_channels=1,\n",
    "    layers_per_block=2,\n",
    "    block_out_channels=(64, 128, 256),\n",
    "    down_block_types=(\"DownBlock2D\", \"DownBlock2D\", \"AttnDownBlock2D\"),\n",
    "    up_block_types=(\"AttnUpBlock2D\", \"UpBlock2D\", \"UpBlock2D\"),\n",
    "    dropout=0.1,\n",
    ").to(DEVICE)\n",
    "\n",
    "# Print model summary\n",
    "def print_model_summary(model):\n",
    "    print(\"Model Summary:\")\n",
    "    print(f\"Model Type: {type(model).__name__}\")\n",
    "    print(f\"Number of Parameters: {sum(p.numel() for p in model.parameters())}\")\n",
    "    print(f\"Device: {next(model.parameters()).device}\")\n",
    "\n",
    "print_model_summary(model)\n",
    "\n",
    "\n",
    "# 5. Load the model checkpoint if available\n",
    "def load_checkpoint(ckpt_path, model, optimizer=None, device=torch.device(\"cpu\")):\n",
    "    loaded = False\n",
    "    if not os.path.exists(ckpt_path):\n",
    "        print(f\"No checkpoint found at {ckpt_path}, starting fresh.\")\n",
    "        return loaded, model, optimizer, 0\n",
    "\n",
    "    checkpoint = torch.load(ckpt_path, map_location=device)\n",
    "    \n",
    "    # Rimuovi il prefisso \"_orig_mod.\" dalle chiavi se presente\n",
    "    new_state_dict = {}\n",
    "    for k, v in checkpoint[\"model\"].items():\n",
    "        if k.startswith(\"_orig_mod.\"):\n",
    "            new_k = k.replace(\"_orig_mod.\", \"\")\n",
    "            new_state_dict[new_k] = v\n",
    "        else:\n",
    "            new_state_dict[k] = v\n",
    "    \n",
    "    model.load_state_dict(new_state_dict)\n",
    "    model.to(device)\n",
    "    loaded = True\n",
    "    start_epoch = checkpoint.get(\"epoch\", 0)\n",
    "    \n",
    "    if optimizer is not None and \"optimizer\" in checkpoint:\n",
    "        optimizer.load_state_dict(checkpoint[\"optimizer\"])\n",
    "        print(f\"Loaded optimizer state from checkpoint '{ckpt_path}'\")\n",
    "    else:\n",
    "        print(\"Optimizer state not found in checkpoint, starting with a new optimizer.\")\n",
    "    \n",
    "    print(f\"Loaded checkpoint '{ckpt_path}' (epoch {start_epoch})\")\n",
    "    return loaded, model, optimizer, start_epoch\n",
    "\n",
    "\n",
    "WEIGHT_DECAY = 1e-5  # weight decay for regularization\n",
    "optimizer = torch.optim.Adam(\n",
    "    model.parameters(), lr=LEARNING_RATE, weight_decay=WEIGHT_DECAY\n",
    ")\n",
    "\n",
    "# Load the model checkpoint\n",
    "ckpt = \"checkpoints/ddim_unet_epoch20.pth\"\n",
    "isModelLoadedFromCheckpoint, model, optimizer, start_epoch = load_checkpoint(\n",
    "    ckpt, model, optimizer, device=DEVICE\n",
    ")\n",
    "model.eval()\n",
    "if isModelLoadedFromCheckpoint:\n",
    "    print(f\"Model {ckpt.split('/')[-1]} loaded and moved to {DEVICE}, starting from epoch {start_epoch}.\")\n",
    "else:\n",
    "    print(f\"Model {ckpt.split('/')[-1]} not found. Starting from scratch, loaded on {DEVICE}, starting from epoch {start_epoch}.\")\n",
    "\n",
    "train_losses, val_losses = [], []"
   ]
  },
  {
   "cell_type": "markdown",
   "id": "7803fcc0",
   "metadata": {},
   "source": [
    "## Training and validation"
   ]
  },
  {
   "cell_type": "code",
   "execution_count": 2,
   "id": "4efcde23",
   "metadata": {},
   "outputs": [
    {
     "name": "stdout",
     "output_type": "stream",
     "text": [
      "Training images before augmentation: 3306\n",
      "Validation images before augmentation: 327\n",
      "Training samples: 13224\n",
      "Validation samples: 1308\n",
      "Training on cuda | Batch Size: 16 | Epochs: 20 | Starting at epoch 0\n",
      "[Epoch 1/20 | Step 50/827] Train Loss: 0.082664\n",
      "[Epoch 1/20 | Step 100/827] Train Loss: 0.049215\n",
      "[Epoch 1/20 | Step 150/827] Train Loss: 0.036906\n",
      "[Epoch 1/20 | Step 200/827] Train Loss: 0.065360\n",
      "[Epoch 1/20 | Step 250/827] Train Loss: 0.020187\n",
      "[Epoch 1/20 | Step 300/827] Train Loss: 0.011440\n",
      "[Epoch 1/20 | Step 350/827] Train Loss: 0.026675\n",
      "[Epoch 1/20 | Step 400/827] Train Loss: 0.021608\n",
      "[Epoch 1/20 | Step 450/827] Train Loss: 0.019178\n",
      "[Epoch 1/20 | Step 500/827] Train Loss: 0.009964\n",
      "[Epoch 1/20 | Step 550/827] Train Loss: 0.009963\n",
      "[Epoch 1/20 | Step 600/827] Train Loss: 0.021405\n",
      "[Epoch 1/20 | Step 650/827] Train Loss: 0.014233\n",
      "[Epoch 1/20 | Step 700/827] Train Loss: 0.017499\n",
      "[Epoch 1/20 | Step 750/827] Train Loss: 0.015954\n",
      "[Epoch 1/20 | Step 800/827] Train Loss: 0.015614\n",
      "[Epoch 1/20 | Step 827/827] Train Loss: 0.011919\n"
     ]
    },
    {
     "name": "stderr",
     "output_type": "stream",
     "text": [
      "Sampling DDIM: 100%|██████████| 1000/1000 [00:25<00:00, 38.50it/s]\n"
     ]
    },
    {
     "name": "stdout",
     "output_type": "stream",
     "text": [
      "Sample saved to ./checkpoints/epoch_1.png\n",
      "Epoch 1 complete. Avg Train Loss: 0.042238\n",
      "Epoch 1 complete. Avg Validation Loss: 0.018958\n",
      "Checkpoint salvato in: ./checkpoints/ddim_unet_epoch1.pth\n",
      "[Epoch 2/20 | Step 50/827] Train Loss: 0.012894\n",
      "[Epoch 2/20 | Step 100/827] Train Loss: 0.026749\n",
      "[Epoch 2/20 | Step 150/827] Train Loss: 0.010029\n",
      "[Epoch 2/20 | Step 200/827] Train Loss: 0.037270\n",
      "[Epoch 2/20 | Step 250/827] Train Loss: 0.007820\n",
      "[Epoch 2/20 | Step 300/827] Train Loss: 0.025160\n",
      "[Epoch 2/20 | Step 350/827] Train Loss: 0.008646\n",
      "[Epoch 2/20 | Step 400/827] Train Loss: 0.014851\n",
      "[Epoch 2/20 | Step 450/827] Train Loss: 0.004761\n",
      "[Epoch 2/20 | Step 500/827] Train Loss: 0.005666\n",
      "[Epoch 2/20 | Step 550/827] Train Loss: 0.011725\n",
      "[Epoch 2/20 | Step 600/827] Train Loss: 0.009505\n",
      "[Epoch 2/20 | Step 650/827] Train Loss: 0.010013\n",
      "[Epoch 2/20 | Step 700/827] Train Loss: 0.006606\n",
      "[Epoch 2/20 | Step 750/827] Train Loss: 0.022124\n",
      "[Epoch 2/20 | Step 800/827] Train Loss: 0.013732\n",
      "[Epoch 2/20 | Step 827/827] Train Loss: 0.019423\n"
     ]
    },
    {
     "name": "stderr",
     "output_type": "stream",
     "text": [
      "Sampling DDIM: 100%|██████████| 1000/1000 [00:22<00:00, 44.79it/s]"
     ]
    },
    {
     "name": "stdout",
     "output_type": "stream",
     "text": [
      "Sample saved to ./checkpoints/epoch_2.png\n",
      "Epoch 2 complete. Avg Train Loss: 0.019018\n"
     ]
    },
    {
     "name": "stderr",
     "output_type": "stream",
     "text": [
      "\n"
     ]
    },
    {
     "name": "stdout",
     "output_type": "stream",
     "text": [
      "Epoch 2 complete. Avg Validation Loss: 0.013242\n",
      "Checkpoint salvato in: ./checkpoints/ddim_unet_epoch2.pth\n",
      "[Epoch 3/20 | Step 50/827] Train Loss: 0.009694\n",
      "[Epoch 3/20 | Step 100/827] Train Loss: 0.011990\n",
      "[Epoch 3/20 | Step 150/827] Train Loss: 0.007437\n",
      "[Epoch 3/20 | Step 200/827] Train Loss: 0.008426\n",
      "[Epoch 3/20 | Step 250/827] Train Loss: 0.032388\n",
      "[Epoch 3/20 | Step 300/827] Train Loss: 0.013029\n",
      "[Epoch 3/20 | Step 350/827] Train Loss: 0.020675\n",
      "[Epoch 3/20 | Step 400/827] Train Loss: 0.019848\n",
      "[Epoch 3/20 | Step 450/827] Train Loss: 0.010014\n",
      "[Epoch 3/20 | Step 500/827] Train Loss: 0.011051\n",
      "[Epoch 3/20 | Step 550/827] Train Loss: 0.009351\n",
      "[Epoch 3/20 | Step 600/827] Train Loss: 0.013578\n",
      "[Epoch 3/20 | Step 650/827] Train Loss: 0.016015\n",
      "[Epoch 3/20 | Step 700/827] Train Loss: 0.024027\n",
      "[Epoch 3/20 | Step 750/827] Train Loss: 0.003643\n",
      "[Epoch 3/20 | Step 800/827] Train Loss: 0.030405\n",
      "[Epoch 3/20 | Step 827/827] Train Loss: 0.038935\n"
     ]
    },
    {
     "name": "stderr",
     "output_type": "stream",
     "text": [
      "Sampling DDIM: 100%|██████████| 1000/1000 [00:22<00:00, 44.80it/s]"
     ]
    },
    {
     "name": "stdout",
     "output_type": "stream",
     "text": [
      "Sample saved to ./checkpoints/epoch_3.png\n",
      "Epoch 3 complete. Avg Train Loss: 0.015564\n"
     ]
    },
    {
     "name": "stderr",
     "output_type": "stream",
     "text": [
      "\n"
     ]
    },
    {
     "name": "stdout",
     "output_type": "stream",
     "text": [
      "Epoch 3 complete. Avg Validation Loss: 0.012445\n",
      "Checkpoint salvato in: ./checkpoints/ddim_unet_epoch3.pth\n",
      "[Epoch 4/20 | Step 50/827] Train Loss: 0.021104\n",
      "[Epoch 4/20 | Step 100/827] Train Loss: 0.007211\n",
      "[Epoch 4/20 | Step 150/827] Train Loss: 0.006402\n",
      "[Epoch 4/20 | Step 200/827] Train Loss: 0.024770\n",
      "[Epoch 4/20 | Step 250/827] Train Loss: 0.008316\n",
      "[Epoch 4/20 | Step 300/827] Train Loss: 0.014429\n",
      "[Epoch 4/20 | Step 350/827] Train Loss: 0.011292\n",
      "[Epoch 4/20 | Step 400/827] Train Loss: 0.013928\n",
      "[Epoch 4/20 | Step 450/827] Train Loss: 0.034566\n",
      "[Epoch 4/20 | Step 500/827] Train Loss: 0.004549\n",
      "[Epoch 4/20 | Step 550/827] Train Loss: 0.017933\n",
      "[Epoch 4/20 | Step 600/827] Train Loss: 0.006646\n",
      "[Epoch 4/20 | Step 650/827] Train Loss: 0.014995\n",
      "[Epoch 4/20 | Step 700/827] Train Loss: 0.015620\n",
      "[Epoch 4/20 | Step 750/827] Train Loss: 0.015866\n",
      "[Epoch 4/20 | Step 800/827] Train Loss: 0.019877\n",
      "[Epoch 4/20 | Step 827/827] Train Loss: 0.005848\n"
     ]
    },
    {
     "name": "stderr",
     "output_type": "stream",
     "text": [
      "Sampling DDIM: 100%|██████████| 1000/1000 [00:22<00:00, 44.87it/s]"
     ]
    },
    {
     "name": "stdout",
     "output_type": "stream",
     "text": [
      "Sample saved to ./checkpoints/epoch_4.png\n",
      "Epoch 4 complete. Avg Train Loss: 0.013285\n"
     ]
    },
    {
     "name": "stderr",
     "output_type": "stream",
     "text": [
      "\n"
     ]
    },
    {
     "name": "stdout",
     "output_type": "stream",
     "text": [
      "Epoch 4 complete. Avg Validation Loss: 0.011155\n",
      "Checkpoint salvato in: ./checkpoints/ddim_unet_epoch4.pth\n",
      "[Epoch 5/20 | Step 50/827] Train Loss: 0.005402\n",
      "[Epoch 5/20 | Step 100/827] Train Loss: 0.009042\n",
      "[Epoch 5/20 | Step 150/827] Train Loss: 0.006908\n",
      "[Epoch 5/20 | Step 200/827] Train Loss: 0.008107\n",
      "[Epoch 5/20 | Step 250/827] Train Loss: 0.013071\n",
      "[Epoch 5/20 | Step 300/827] Train Loss: 0.025280\n",
      "[Epoch 5/20 | Step 350/827] Train Loss: 0.004452\n",
      "[Epoch 5/20 | Step 400/827] Train Loss: 0.018216\n",
      "[Epoch 5/20 | Step 450/827] Train Loss: 0.008324\n",
      "[Epoch 5/20 | Step 500/827] Train Loss: 0.004161\n",
      "[Epoch 5/20 | Step 550/827] Train Loss: 0.010816\n",
      "[Epoch 5/20 | Step 600/827] Train Loss: 0.008892\n",
      "[Epoch 5/20 | Step 650/827] Train Loss: 0.007633\n",
      "[Epoch 5/20 | Step 700/827] Train Loss: 0.009009\n",
      "[Epoch 5/20 | Step 750/827] Train Loss: 0.014665\n",
      "[Epoch 5/20 | Step 800/827] Train Loss: 0.003885\n",
      "[Epoch 5/20 | Step 827/827] Train Loss: 0.001757\n"
     ]
    },
    {
     "name": "stderr",
     "output_type": "stream",
     "text": [
      "Sampling DDIM: 100%|██████████| 1000/1000 [00:22<00:00, 44.81it/s]"
     ]
    },
    {
     "name": "stdout",
     "output_type": "stream",
     "text": [
      "Sample saved to ./checkpoints/epoch_5.png\n",
      "Epoch 5 complete. Avg Train Loss: 0.012207\n"
     ]
    },
    {
     "name": "stderr",
     "output_type": "stream",
     "text": [
      "\n"
     ]
    },
    {
     "name": "stdout",
     "output_type": "stream",
     "text": [
      "Epoch 5 complete. Avg Validation Loss: 0.010253\n",
      "Checkpoint salvato in: ./checkpoints/ddim_unet_epoch5.pth\n",
      "[Epoch 6/20 | Step 50/827] Train Loss: 0.004069\n",
      "[Epoch 6/20 | Step 100/827] Train Loss: 0.005937\n",
      "[Epoch 6/20 | Step 150/827] Train Loss: 0.004314\n",
      "[Epoch 6/20 | Step 200/827] Train Loss: 0.013580\n",
      "[Epoch 6/20 | Step 250/827] Train Loss: 0.007517\n",
      "[Epoch 6/20 | Step 300/827] Train Loss: 0.010287\n",
      "[Epoch 6/20 | Step 350/827] Train Loss: 0.013958\n",
      "[Epoch 6/20 | Step 400/827] Train Loss: 0.020994\n",
      "[Epoch 6/20 | Step 450/827] Train Loss: 0.007265\n",
      "[Epoch 6/20 | Step 500/827] Train Loss: 0.039884\n",
      "[Epoch 6/20 | Step 550/827] Train Loss: 0.024341\n",
      "[Epoch 6/20 | Step 600/827] Train Loss: 0.003701\n",
      "[Epoch 6/20 | Step 650/827] Train Loss: 0.003603\n",
      "[Epoch 6/20 | Step 700/827] Train Loss: 0.005286\n",
      "[Epoch 6/20 | Step 750/827] Train Loss: 0.005011\n",
      "[Epoch 6/20 | Step 800/827] Train Loss: 0.020650\n",
      "[Epoch 6/20 | Step 827/827] Train Loss: 0.004474\n"
     ]
    },
    {
     "name": "stderr",
     "output_type": "stream",
     "text": [
      "Sampling DDIM: 100%|██████████| 1000/1000 [00:22<00:00, 44.72it/s]"
     ]
    },
    {
     "name": "stdout",
     "output_type": "stream",
     "text": [
      "Sample saved to ./checkpoints/epoch_6.png\n",
      "Epoch 6 complete. Avg Train Loss: 0.011824\n"
     ]
    },
    {
     "name": "stderr",
     "output_type": "stream",
     "text": [
      "\n"
     ]
    },
    {
     "name": "stdout",
     "output_type": "stream",
     "text": [
      "Epoch 6 complete. Avg Validation Loss: 0.011132\n",
      "Checkpoint salvato in: ./checkpoints/ddim_unet_epoch6.pth\n",
      "[Epoch 7/20 | Step 50/827] Train Loss: 0.008719\n",
      "[Epoch 7/20 | Step 100/827] Train Loss: 0.010646\n",
      "[Epoch 7/20 | Step 150/827] Train Loss: 0.010648\n",
      "[Epoch 7/20 | Step 200/827] Train Loss: 0.016879\n",
      "[Epoch 7/20 | Step 250/827] Train Loss: 0.016308\n",
      "[Epoch 7/20 | Step 300/827] Train Loss: 0.008307\n",
      "[Epoch 7/20 | Step 350/827] Train Loss: 0.009800\n",
      "[Epoch 7/20 | Step 400/827] Train Loss: 0.004266\n",
      "[Epoch 7/20 | Step 450/827] Train Loss: 0.026203\n",
      "[Epoch 7/20 | Step 500/827] Train Loss: 0.003668\n",
      "[Epoch 7/20 | Step 550/827] Train Loss: 0.008995\n",
      "[Epoch 7/20 | Step 600/827] Train Loss: 0.003437\n",
      "[Epoch 7/20 | Step 650/827] Train Loss: 0.016330\n",
      "[Epoch 7/20 | Step 700/827] Train Loss: 0.015423\n",
      "[Epoch 7/20 | Step 750/827] Train Loss: 0.012176\n",
      "[Epoch 7/20 | Step 800/827] Train Loss: 0.019837\n",
      "[Epoch 7/20 | Step 827/827] Train Loss: 0.019243\n"
     ]
    },
    {
     "name": "stderr",
     "output_type": "stream",
     "text": [
      "Sampling DDIM: 100%|██████████| 1000/1000 [00:22<00:00, 45.22it/s]"
     ]
    },
    {
     "name": "stdout",
     "output_type": "stream",
     "text": [
      "Sample saved to ./checkpoints/epoch_7.png\n",
      "Epoch 7 complete. Avg Train Loss: 0.011484\n"
     ]
    },
    {
     "name": "stderr",
     "output_type": "stream",
     "text": [
      "\n"
     ]
    },
    {
     "name": "stdout",
     "output_type": "stream",
     "text": [
      "Epoch 7 complete. Avg Validation Loss: 0.009429\n",
      "Checkpoint salvato in: ./checkpoints/ddim_unet_epoch7.pth\n",
      "[Epoch 8/20 | Step 50/827] Train Loss: 0.006897\n",
      "[Epoch 8/20 | Step 100/827] Train Loss: 0.011356\n",
      "[Epoch 8/20 | Step 150/827] Train Loss: 0.006537\n",
      "[Epoch 8/20 | Step 200/827] Train Loss: 0.005877\n",
      "[Epoch 8/20 | Step 250/827] Train Loss: 0.010937\n",
      "[Epoch 8/20 | Step 300/827] Train Loss: 0.009622\n",
      "[Epoch 8/20 | Step 350/827] Train Loss: 0.019017\n",
      "[Epoch 8/20 | Step 400/827] Train Loss: 0.032326\n",
      "[Epoch 8/20 | Step 450/827] Train Loss: 0.006636\n",
      "[Epoch 8/20 | Step 500/827] Train Loss: 0.020075\n",
      "[Epoch 8/20 | Step 550/827] Train Loss: 0.007270\n",
      "[Epoch 8/20 | Step 600/827] Train Loss: 0.004242\n",
      "[Epoch 8/20 | Step 650/827] Train Loss: 0.009397\n",
      "[Epoch 8/20 | Step 700/827] Train Loss: 0.025200\n",
      "[Epoch 8/20 | Step 750/827] Train Loss: 0.009285\n",
      "[Epoch 8/20 | Step 800/827] Train Loss: 0.006006\n",
      "[Epoch 8/20 | Step 827/827] Train Loss: 0.003308\n"
     ]
    },
    {
     "name": "stderr",
     "output_type": "stream",
     "text": [
      "Sampling DDIM: 100%|██████████| 1000/1000 [00:22<00:00, 44.95it/s]"
     ]
    },
    {
     "name": "stdout",
     "output_type": "stream",
     "text": [
      "Sample saved to ./checkpoints/epoch_8.png\n",
      "Epoch 8 complete. Avg Train Loss: 0.011097\n"
     ]
    },
    {
     "name": "stderr",
     "output_type": "stream",
     "text": [
      "\n"
     ]
    },
    {
     "name": "stdout",
     "output_type": "stream",
     "text": [
      "Epoch 8 complete. Avg Validation Loss: 0.009107\n",
      "Checkpoint salvato in: ./checkpoints/ddim_unet_epoch8.pth\n",
      "[Epoch 9/20 | Step 50/827] Train Loss: 0.007341\n",
      "[Epoch 9/20 | Step 100/827] Train Loss: 0.009637\n",
      "[Epoch 9/20 | Step 150/827] Train Loss: 0.008482\n",
      "[Epoch 9/20 | Step 200/827] Train Loss: 0.004111\n",
      "[Epoch 9/20 | Step 250/827] Train Loss: 0.011934\n",
      "[Epoch 9/20 | Step 300/827] Train Loss: 0.029828\n",
      "[Epoch 9/20 | Step 350/827] Train Loss: 0.007899\n",
      "[Epoch 9/20 | Step 400/827] Train Loss: 0.029553\n",
      "[Epoch 9/20 | Step 450/827] Train Loss: 0.011289\n",
      "[Epoch 9/20 | Step 500/827] Train Loss: 0.012659\n",
      "[Epoch 9/20 | Step 550/827] Train Loss: 0.012132\n",
      "[Epoch 9/20 | Step 600/827] Train Loss: 0.003687\n",
      "[Epoch 9/20 | Step 650/827] Train Loss: 0.004290\n",
      "[Epoch 9/20 | Step 700/827] Train Loss: 0.006856\n",
      "[Epoch 9/20 | Step 750/827] Train Loss: 0.013387\n",
      "[Epoch 9/20 | Step 800/827] Train Loss: 0.010420\n",
      "[Epoch 9/20 | Step 827/827] Train Loss: 0.005057\n"
     ]
    },
    {
     "name": "stderr",
     "output_type": "stream",
     "text": [
      "Sampling DDIM: 100%|██████████| 1000/1000 [00:22<00:00, 44.92it/s]"
     ]
    },
    {
     "name": "stdout",
     "output_type": "stream",
     "text": [
      "Sample saved to ./checkpoints/epoch_9.png\n",
      "Epoch 9 complete. Avg Train Loss: 0.010691\n"
     ]
    },
    {
     "name": "stderr",
     "output_type": "stream",
     "text": [
      "\n"
     ]
    },
    {
     "name": "stdout",
     "output_type": "stream",
     "text": [
      "Epoch 9 complete. Avg Validation Loss: 0.010188\n",
      "Checkpoint salvato in: ./checkpoints/ddim_unet_epoch9.pth\n",
      "[Epoch 10/20 | Step 50/827] Train Loss: 0.006246\n",
      "[Epoch 10/20 | Step 100/827] Train Loss: 0.009287\n",
      "[Epoch 10/20 | Step 150/827] Train Loss: 0.012432\n",
      "[Epoch 10/20 | Step 200/827] Train Loss: 0.013507\n",
      "[Epoch 10/20 | Step 250/827] Train Loss: 0.005701\n",
      "[Epoch 10/20 | Step 300/827] Train Loss: 0.017988\n",
      "[Epoch 10/20 | Step 350/827] Train Loss: 0.008355\n",
      "[Epoch 10/20 | Step 400/827] Train Loss: 0.006686\n",
      "[Epoch 10/20 | Step 450/827] Train Loss: 0.003559\n",
      "[Epoch 10/20 | Step 500/827] Train Loss: 0.006754\n",
      "[Epoch 10/20 | Step 550/827] Train Loss: 0.007186\n",
      "[Epoch 10/20 | Step 600/827] Train Loss: 0.003727\n",
      "[Epoch 10/20 | Step 650/827] Train Loss: 0.011514\n",
      "[Epoch 10/20 | Step 700/827] Train Loss: 0.018115\n",
      "[Epoch 10/20 | Step 750/827] Train Loss: 0.008522\n",
      "[Epoch 10/20 | Step 800/827] Train Loss: 0.004706\n",
      "[Epoch 10/20 | Step 827/827] Train Loss: 0.007673\n"
     ]
    },
    {
     "name": "stderr",
     "output_type": "stream",
     "text": [
      "Sampling DDIM: 100%|██████████| 1000/1000 [00:22<00:00, 44.96it/s]"
     ]
    },
    {
     "name": "stdout",
     "output_type": "stream",
     "text": [
      "Sample saved to ./checkpoints/epoch_10.png\n",
      "Epoch 10 complete. Avg Train Loss: 0.010599\n"
     ]
    },
    {
     "name": "stderr",
     "output_type": "stream",
     "text": [
      "\n"
     ]
    },
    {
     "name": "stdout",
     "output_type": "stream",
     "text": [
      "Epoch 10 complete. Avg Validation Loss: 0.010562\n",
      "Checkpoint salvato in: ./checkpoints/ddim_unet_epoch10.pth\n",
      "[Epoch 11/20 | Step 50/827] Train Loss: 0.008187\n",
      "[Epoch 11/20 | Step 100/827] Train Loss: 0.004895\n",
      "[Epoch 11/20 | Step 150/827] Train Loss: 0.022340\n",
      "[Epoch 11/20 | Step 200/827] Train Loss: 0.014397\n",
      "[Epoch 11/20 | Step 250/827] Train Loss: 0.027375\n",
      "[Epoch 11/20 | Step 300/827] Train Loss: 0.004056\n",
      "[Epoch 11/20 | Step 350/827] Train Loss: 0.011131\n",
      "[Epoch 11/20 | Step 400/827] Train Loss: 0.020124\n",
      "[Epoch 11/20 | Step 450/827] Train Loss: 0.004263\n",
      "[Epoch 11/20 | Step 500/827] Train Loss: 0.042063\n",
      "[Epoch 11/20 | Step 550/827] Train Loss: 0.003190\n",
      "[Epoch 11/20 | Step 600/827] Train Loss: 0.004789\n",
      "[Epoch 11/20 | Step 650/827] Train Loss: 0.004248\n",
      "[Epoch 11/20 | Step 700/827] Train Loss: 0.008343\n",
      "[Epoch 11/20 | Step 750/827] Train Loss: 0.025637\n",
      "[Epoch 11/20 | Step 800/827] Train Loss: 0.006158\n",
      "[Epoch 11/20 | Step 827/827] Train Loss: 0.003940\n"
     ]
    },
    {
     "name": "stderr",
     "output_type": "stream",
     "text": [
      "Sampling DDIM: 100%|██████████| 1000/1000 [00:22<00:00, 44.81it/s]"
     ]
    },
    {
     "name": "stdout",
     "output_type": "stream",
     "text": [
      "Sample saved to ./checkpoints/epoch_11.png\n",
      "Epoch 11 complete. Avg Train Loss: 0.010456\n"
     ]
    },
    {
     "name": "stderr",
     "output_type": "stream",
     "text": [
      "\n"
     ]
    },
    {
     "name": "stdout",
     "output_type": "stream",
     "text": [
      "Epoch 11 complete. Avg Validation Loss: 0.009624\n",
      "Checkpoint salvato in: ./checkpoints/ddim_unet_epoch11.pth\n",
      "[Epoch 12/20 | Step 50/827] Train Loss: 0.010136\n",
      "[Epoch 12/20 | Step 100/827] Train Loss: 0.004061\n",
      "[Epoch 12/20 | Step 150/827] Train Loss: 0.006080\n",
      "[Epoch 12/20 | Step 200/827] Train Loss: 0.004566\n",
      "[Epoch 12/20 | Step 250/827] Train Loss: 0.005617\n",
      "[Epoch 12/20 | Step 300/827] Train Loss: 0.012947\n",
      "[Epoch 12/20 | Step 350/827] Train Loss: 0.005668\n",
      "[Epoch 12/20 | Step 400/827] Train Loss: 0.014670\n",
      "[Epoch 12/20 | Step 450/827] Train Loss: 0.004341\n",
      "[Epoch 12/20 | Step 500/827] Train Loss: 0.012800\n",
      "[Epoch 12/20 | Step 550/827] Train Loss: 0.010532\n",
      "[Epoch 12/20 | Step 600/827] Train Loss: 0.002567\n",
      "[Epoch 12/20 | Step 650/827] Train Loss: 0.028495\n",
      "[Epoch 12/20 | Step 700/827] Train Loss: 0.014827\n",
      "[Epoch 12/20 | Step 750/827] Train Loss: 0.007514\n",
      "[Epoch 12/20 | Step 800/827] Train Loss: 0.016324\n",
      "[Epoch 12/20 | Step 827/827] Train Loss: 0.006805\n"
     ]
    },
    {
     "name": "stderr",
     "output_type": "stream",
     "text": [
      "Sampling DDIM: 100%|██████████| 1000/1000 [00:22<00:00, 44.84it/s]"
     ]
    },
    {
     "name": "stdout",
     "output_type": "stream",
     "text": [
      "Sample saved to ./checkpoints/epoch_12.png\n",
      "Epoch 12 complete. Avg Train Loss: 0.010193\n"
     ]
    },
    {
     "name": "stderr",
     "output_type": "stream",
     "text": [
      "\n"
     ]
    },
    {
     "name": "stdout",
     "output_type": "stream",
     "text": [
      "Epoch 12 complete. Avg Validation Loss: 0.010493\n",
      "Checkpoint salvato in: ./checkpoints/ddim_unet_epoch12.pth\n",
      "[Epoch 13/20 | Step 50/827] Train Loss: 0.011034\n",
      "[Epoch 13/20 | Step 100/827] Train Loss: 0.006143\n",
      "[Epoch 13/20 | Step 150/827] Train Loss: 0.006422\n",
      "[Epoch 13/20 | Step 200/827] Train Loss: 0.002182\n",
      "[Epoch 13/20 | Step 250/827] Train Loss: 0.004559\n",
      "[Epoch 13/20 | Step 300/827] Train Loss: 0.018076\n",
      "[Epoch 13/20 | Step 350/827] Train Loss: 0.010841\n",
      "[Epoch 13/20 | Step 400/827] Train Loss: 0.002192\n",
      "[Epoch 13/20 | Step 450/827] Train Loss: 0.021491\n",
      "[Epoch 13/20 | Step 500/827] Train Loss: 0.007633\n",
      "[Epoch 13/20 | Step 550/827] Train Loss: 0.007064\n",
      "[Epoch 13/20 | Step 600/827] Train Loss: 0.001266\n",
      "[Epoch 13/20 | Step 650/827] Train Loss: 0.008719\n",
      "[Epoch 13/20 | Step 700/827] Train Loss: 0.011698\n",
      "[Epoch 13/20 | Step 750/827] Train Loss: 0.005211\n",
      "[Epoch 13/20 | Step 800/827] Train Loss: 0.010002\n",
      "[Epoch 13/20 | Step 827/827] Train Loss: 0.007552\n"
     ]
    },
    {
     "name": "stderr",
     "output_type": "stream",
     "text": [
      "Sampling DDIM: 100%|██████████| 1000/1000 [00:22<00:00, 44.92it/s]"
     ]
    },
    {
     "name": "stdout",
     "output_type": "stream",
     "text": [
      "Sample saved to ./checkpoints/epoch_13.png\n",
      "Epoch 13 complete. Avg Train Loss: 0.010061\n"
     ]
    },
    {
     "name": "stderr",
     "output_type": "stream",
     "text": [
      "\n"
     ]
    },
    {
     "name": "stdout",
     "output_type": "stream",
     "text": [
      "Epoch 13 complete. Avg Validation Loss: 0.011031\n",
      "Checkpoint salvato in: ./checkpoints/ddim_unet_epoch13.pth\n",
      "[Epoch 14/20 | Step 50/827] Train Loss: 0.009137\n",
      "[Epoch 14/20 | Step 100/827] Train Loss: 0.003703\n",
      "[Epoch 14/20 | Step 150/827] Train Loss: 0.031374\n",
      "[Epoch 14/20 | Step 200/827] Train Loss: 0.005931\n",
      "[Epoch 14/20 | Step 250/827] Train Loss: 0.005715\n",
      "[Epoch 14/20 | Step 300/827] Train Loss: 0.010104\n",
      "[Epoch 14/20 | Step 350/827] Train Loss: 0.015796\n",
      "[Epoch 14/20 | Step 400/827] Train Loss: 0.002513\n",
      "[Epoch 14/20 | Step 450/827] Train Loss: 0.013850\n",
      "[Epoch 14/20 | Step 500/827] Train Loss: 0.003121\n",
      "[Epoch 14/20 | Step 550/827] Train Loss: 0.014956\n",
      "[Epoch 14/20 | Step 600/827] Train Loss: 0.024809\n",
      "[Epoch 14/20 | Step 650/827] Train Loss: 0.020905\n",
      "[Epoch 14/20 | Step 700/827] Train Loss: 0.011395\n",
      "[Epoch 14/20 | Step 750/827] Train Loss: 0.022189\n",
      "[Epoch 14/20 | Step 800/827] Train Loss: 0.003905\n",
      "[Epoch 14/20 | Step 827/827] Train Loss: 0.019466\n"
     ]
    },
    {
     "name": "stderr",
     "output_type": "stream",
     "text": [
      "Sampling DDIM: 100%|██████████| 1000/1000 [00:22<00:00, 44.80it/s]\n"
     ]
    },
    {
     "name": "stdout",
     "output_type": "stream",
     "text": [
      "Sample saved to ./checkpoints/epoch_14.png\n",
      "Epoch 14 complete. Avg Train Loss: 0.009961\n",
      "Epoch 14 complete. Avg Validation Loss: 0.009317\n",
      "Checkpoint salvato in: ./checkpoints/ddim_unet_epoch14.pth\n",
      "[Epoch 15/20 | Step 50/827] Train Loss: 0.005367\n",
      "[Epoch 15/20 | Step 100/827] Train Loss: 0.004666\n",
      "[Epoch 15/20 | Step 150/827] Train Loss: 0.017730\n",
      "[Epoch 15/20 | Step 200/827] Train Loss: 0.009182\n",
      "[Epoch 15/20 | Step 250/827] Train Loss: 0.005974\n",
      "[Epoch 15/20 | Step 300/827] Train Loss: 0.005568\n",
      "[Epoch 15/20 | Step 350/827] Train Loss: 0.006464\n",
      "[Epoch 15/20 | Step 400/827] Train Loss: 0.007681\n",
      "[Epoch 15/20 | Step 450/827] Train Loss: 0.012008\n",
      "[Epoch 15/20 | Step 500/827] Train Loss: 0.005723\n",
      "[Epoch 15/20 | Step 550/827] Train Loss: 0.008028\n",
      "[Epoch 15/20 | Step 600/827] Train Loss: 0.001888\n",
      "[Epoch 15/20 | Step 650/827] Train Loss: 0.020714\n",
      "[Epoch 15/20 | Step 700/827] Train Loss: 0.003027\n",
      "[Epoch 15/20 | Step 750/827] Train Loss: 0.002185\n",
      "[Epoch 15/20 | Step 800/827] Train Loss: 0.015282\n",
      "[Epoch 15/20 | Step 827/827] Train Loss: 0.005545\n"
     ]
    },
    {
     "name": "stderr",
     "output_type": "stream",
     "text": [
      "Sampling DDIM: 100%|██████████| 1000/1000 [00:22<00:00, 44.95it/s]"
     ]
    },
    {
     "name": "stdout",
     "output_type": "stream",
     "text": [
      "Sample saved to ./checkpoints/epoch_15.png\n",
      "Epoch 15 complete. Avg Train Loss: 0.009705\n"
     ]
    },
    {
     "name": "stderr",
     "output_type": "stream",
     "text": [
      "\n"
     ]
    },
    {
     "name": "stdout",
     "output_type": "stream",
     "text": [
      "Epoch 15 complete. Avg Validation Loss: 0.009336\n",
      "Checkpoint salvato in: ./checkpoints/ddim_unet_epoch15.pth\n",
      "[Epoch 16/20 | Step 50/827] Train Loss: 0.007887\n",
      "[Epoch 16/20 | Step 100/827] Train Loss: 0.010462\n",
      "[Epoch 16/20 | Step 150/827] Train Loss: 0.005234\n",
      "[Epoch 16/20 | Step 200/827] Train Loss: 0.006494\n",
      "[Epoch 16/20 | Step 250/827] Train Loss: 0.003410\n",
      "[Epoch 16/20 | Step 300/827] Train Loss: 0.019332\n",
      "[Epoch 16/20 | Step 350/827] Train Loss: 0.007608\n",
      "[Epoch 16/20 | Step 400/827] Train Loss: 0.006393\n",
      "[Epoch 16/20 | Step 450/827] Train Loss: 0.009861\n",
      "[Epoch 16/20 | Step 500/827] Train Loss: 0.014572\n",
      "[Epoch 16/20 | Step 550/827] Train Loss: 0.010761\n",
      "[Epoch 16/20 | Step 600/827] Train Loss: 0.004169\n",
      "[Epoch 16/20 | Step 650/827] Train Loss: 0.003811\n",
      "[Epoch 16/20 | Step 700/827] Train Loss: 0.003032\n",
      "[Epoch 16/20 | Step 750/827] Train Loss: 0.011226\n",
      "[Epoch 16/20 | Step 800/827] Train Loss: 0.004435\n",
      "[Epoch 16/20 | Step 827/827] Train Loss: 0.013240\n"
     ]
    },
    {
     "name": "stderr",
     "output_type": "stream",
     "text": [
      "Sampling DDIM: 100%|██████████| 1000/1000 [00:22<00:00, 44.39it/s]"
     ]
    },
    {
     "name": "stdout",
     "output_type": "stream",
     "text": [
      "Sample saved to ./checkpoints/epoch_16.png\n",
      "Epoch 16 complete. Avg Train Loss: 0.009732\n"
     ]
    },
    {
     "name": "stderr",
     "output_type": "stream",
     "text": [
      "\n"
     ]
    },
    {
     "name": "stdout",
     "output_type": "stream",
     "text": [
      "Epoch 16 complete. Avg Validation Loss: 0.009744\n",
      "Checkpoint salvato in: ./checkpoints/ddim_unet_epoch16.pth\n",
      "[Epoch 17/20 | Step 50/827] Train Loss: 0.006662\n",
      "[Epoch 17/20 | Step 100/827] Train Loss: 0.010860\n",
      "[Epoch 17/20 | Step 150/827] Train Loss: 0.006208\n",
      "[Epoch 17/20 | Step 200/827] Train Loss: 0.002804\n",
      "[Epoch 17/20 | Step 250/827] Train Loss: 0.002402\n",
      "[Epoch 17/20 | Step 300/827] Train Loss: 0.011271\n",
      "[Epoch 17/20 | Step 350/827] Train Loss: 0.009262\n",
      "[Epoch 17/20 | Step 400/827] Train Loss: 0.005382\n",
      "[Epoch 17/20 | Step 450/827] Train Loss: 0.005148\n",
      "[Epoch 17/20 | Step 500/827] Train Loss: 0.009838\n",
      "[Epoch 17/20 | Step 550/827] Train Loss: 0.004526\n",
      "[Epoch 17/20 | Step 600/827] Train Loss: 0.003865\n",
      "[Epoch 17/20 | Step 650/827] Train Loss: 0.031964\n",
      "[Epoch 17/20 | Step 700/827] Train Loss: 0.004636\n",
      "[Epoch 17/20 | Step 750/827] Train Loss: 0.012295\n",
      "[Epoch 17/20 | Step 800/827] Train Loss: 0.008232\n",
      "[Epoch 17/20 | Step 827/827] Train Loss: 0.002533\n"
     ]
    },
    {
     "name": "stderr",
     "output_type": "stream",
     "text": [
      "Sampling DDIM: 100%|██████████| 1000/1000 [00:22<00:00, 44.91it/s]"
     ]
    },
    {
     "name": "stdout",
     "output_type": "stream",
     "text": [
      "Sample saved to ./checkpoints/epoch_17.png\n",
      "Epoch 17 complete. Avg Train Loss: 0.009557\n"
     ]
    },
    {
     "name": "stderr",
     "output_type": "stream",
     "text": [
      "\n"
     ]
    },
    {
     "name": "stdout",
     "output_type": "stream",
     "text": [
      "Epoch 17 complete. Avg Validation Loss: 0.009840\n",
      "Checkpoint salvato in: ./checkpoints/ddim_unet_epoch17.pth\n",
      "[Epoch 18/20 | Step 50/827] Train Loss: 0.010335\n",
      "[Epoch 18/20 | Step 100/827] Train Loss: 0.011117\n",
      "[Epoch 18/20 | Step 150/827] Train Loss: 0.015539\n",
      "[Epoch 18/20 | Step 200/827] Train Loss: 0.005580\n",
      "[Epoch 18/20 | Step 250/827] Train Loss: 0.004195\n",
      "[Epoch 18/20 | Step 300/827] Train Loss: 0.004296\n",
      "[Epoch 18/20 | Step 350/827] Train Loss: 0.004814\n",
      "[Epoch 18/20 | Step 400/827] Train Loss: 0.006405\n",
      "[Epoch 18/20 | Step 450/827] Train Loss: 0.010528\n",
      "[Epoch 18/20 | Step 500/827] Train Loss: 0.006138\n",
      "[Epoch 18/20 | Step 550/827] Train Loss: 0.004768\n",
      "[Epoch 18/20 | Step 600/827] Train Loss: 0.010230\n",
      "[Epoch 18/20 | Step 650/827] Train Loss: 0.003156\n",
      "[Epoch 18/20 | Step 700/827] Train Loss: 0.004320\n",
      "[Epoch 18/20 | Step 750/827] Train Loss: 0.005122\n",
      "[Epoch 18/20 | Step 800/827] Train Loss: 0.004945\n",
      "[Epoch 18/20 | Step 827/827] Train Loss: 0.019743\n"
     ]
    },
    {
     "name": "stderr",
     "output_type": "stream",
     "text": [
      "Sampling DDIM: 100%|██████████| 1000/1000 [00:22<00:00, 44.84it/s]"
     ]
    },
    {
     "name": "stdout",
     "output_type": "stream",
     "text": [
      "Sample saved to ./checkpoints/epoch_18.png\n",
      "Epoch 18 complete. Avg Train Loss: 0.009066\n"
     ]
    },
    {
     "name": "stderr",
     "output_type": "stream",
     "text": [
      "\n"
     ]
    },
    {
     "name": "stdout",
     "output_type": "stream",
     "text": [
      "Epoch 18 complete. Avg Validation Loss: 0.010212\n",
      "Checkpoint salvato in: ./checkpoints/ddim_unet_epoch18.pth\n",
      "[Epoch 19/20 | Step 50/827] Train Loss: 0.010425\n",
      "[Epoch 19/20 | Step 100/827] Train Loss: 0.002671\n",
      "[Epoch 19/20 | Step 150/827] Train Loss: 0.008159\n",
      "[Epoch 19/20 | Step 200/827] Train Loss: 0.002714\n",
      "[Epoch 19/20 | Step 250/827] Train Loss: 0.002956\n",
      "[Epoch 19/20 | Step 300/827] Train Loss: 0.002509\n",
      "[Epoch 19/20 | Step 350/827] Train Loss: 0.009741\n",
      "[Epoch 19/20 | Step 400/827] Train Loss: 0.006333\n",
      "[Epoch 19/20 | Step 450/827] Train Loss: 0.023014\n",
      "[Epoch 19/20 | Step 500/827] Train Loss: 0.004999\n",
      "[Epoch 19/20 | Step 550/827] Train Loss: 0.005769\n",
      "[Epoch 19/20 | Step 600/827] Train Loss: 0.026428\n",
      "[Epoch 19/20 | Step 650/827] Train Loss: 0.004364\n",
      "[Epoch 19/20 | Step 700/827] Train Loss: 0.009958\n",
      "[Epoch 19/20 | Step 750/827] Train Loss: 0.006600\n",
      "[Epoch 19/20 | Step 800/827] Train Loss: 0.011628\n",
      "[Epoch 19/20 | Step 827/827] Train Loss: 0.009943\n"
     ]
    },
    {
     "name": "stderr",
     "output_type": "stream",
     "text": [
      "Sampling DDIM: 100%|██████████| 1000/1000 [00:22<00:00, 44.74it/s]"
     ]
    },
    {
     "name": "stdout",
     "output_type": "stream",
     "text": [
      "Sample saved to ./checkpoints/epoch_19.png\n",
      "Epoch 19 complete. Avg Train Loss: 0.010338\n"
     ]
    },
    {
     "name": "stderr",
     "output_type": "stream",
     "text": [
      "\n"
     ]
    },
    {
     "name": "stdout",
     "output_type": "stream",
     "text": [
      "Epoch 19 complete. Avg Validation Loss: 0.011198\n",
      "Checkpoint salvato in: ./checkpoints/ddim_unet_epoch19.pth\n",
      "[Epoch 20/20 | Step 50/827] Train Loss: 0.005325\n",
      "[Epoch 20/20 | Step 100/827] Train Loss: 0.003205\n",
      "[Epoch 20/20 | Step 150/827] Train Loss: 0.004463\n",
      "[Epoch 20/20 | Step 200/827] Train Loss: 0.006886\n",
      "[Epoch 20/20 | Step 250/827] Train Loss: 0.006051\n",
      "[Epoch 20/20 | Step 300/827] Train Loss: 0.004635\n",
      "[Epoch 20/20 | Step 350/827] Train Loss: 0.034644\n",
      "[Epoch 20/20 | Step 400/827] Train Loss: 0.004480\n",
      "[Epoch 20/20 | Step 450/827] Train Loss: 0.006313\n",
      "[Epoch 20/20 | Step 500/827] Train Loss: 0.012545\n",
      "[Epoch 20/20 | Step 550/827] Train Loss: 0.002261\n",
      "[Epoch 20/20 | Step 600/827] Train Loss: 0.004731\n",
      "[Epoch 20/20 | Step 650/827] Train Loss: 0.015650\n",
      "[Epoch 20/20 | Step 700/827] Train Loss: 0.007762\n",
      "[Epoch 20/20 | Step 750/827] Train Loss: 0.037866\n",
      "[Epoch 20/20 | Step 800/827] Train Loss: 0.004439\n",
      "[Epoch 20/20 | Step 827/827] Train Loss: 0.001752\n"
     ]
    },
    {
     "name": "stderr",
     "output_type": "stream",
     "text": [
      "Sampling DDIM: 100%|██████████| 1000/1000 [00:22<00:00, 44.83it/s]"
     ]
    },
    {
     "name": "stdout",
     "output_type": "stream",
     "text": [
      "Sample saved to ./checkpoints/epoch_20.png\n",
      "Epoch 20 complete. Avg Train Loss: 0.009337\n"
     ]
    },
    {
     "name": "stderr",
     "output_type": "stream",
     "text": [
      "\n"
     ]
    },
    {
     "name": "stdout",
     "output_type": "stream",
     "text": [
      "Epoch 20 complete. Avg Validation Loss: 0.010129\n",
      "Checkpoint salvato in: ./checkpoints/ddim_unet_epoch20.pth\n"
     ]
    }
   ],
   "source": [
    "import os\n",
    "import torch\n",
    "import torch.nn.functional as F\n",
    "from torch.utils.data import DataLoader\n",
    "from torch.optim.lr_scheduler import CosineAnnealingLR\n",
    "from torch.amp import autocast, GradScaler\n",
    "from matplotlib import pyplot as plt\n",
    "from utils import NUM_TRAIN_TIMESTEPS, sample_images, AugmentedDataset, save_checkpoint\n",
    "\n",
    "# Config\n",
    "BATCH_SIZE = 16\n",
    "NUM_EPOCHS = 20\n",
    "IMAGE_EXTENSIONS = (\".png\", \".jpg\", \".jpeg\")\n",
    "\n",
    "\n",
    "# Dataset Preparation\n",
    "def count_images(root_dir, extensions=IMAGE_EXTENSIONS):\n",
    "    return sum(\n",
    "        fname.lower().endswith(extensions)\n",
    "        for _, _, filenames in os.walk(root_dir)\n",
    "        for fname in filenames\n",
    "    )\n",
    "\n",
    "\n",
    "print(f\"Training images before augmentation: {count_images(train_dir)}\")\n",
    "print(f\"Validation images before augmentation: {count_images(test_dir)}\")\n",
    "\n",
    "train_dataset = AugmentedDataset(root_dir=train_dir, image_size=IMAGE_SIZE)\n",
    "test_dataset = AugmentedDataset(root_dir=test_dir, image_size=IMAGE_SIZE)\n",
    "\n",
    "train_loader = DataLoader(\n",
    "    train_dataset, batch_size=BATCH_SIZE, shuffle=True, num_workers=4, pin_memory=True\n",
    ")\n",
    "test_loader = DataLoader(\n",
    "    test_dataset, batch_size=BATCH_SIZE, shuffle=False, num_workers=4, pin_memory=True\n",
    ")\n",
    "\n",
    "print(f\"Training samples: {len(train_loader.dataset)}\")\n",
    "print(f\"Validation samples: {len(test_loader.dataset)}\")\n",
    "\n",
    "# Scheduler and Model Setup\n",
    "noise_scheduler = DDPMScheduler(num_train_timesteps=NUM_TRAIN_TIMESTEPS)\n",
    "ddim_scheduler = DDIMScheduler(\n",
    "    beta_start=noise_scheduler.config.beta_start,\n",
    "    beta_end=noise_scheduler.config.beta_end,\n",
    "    beta_schedule=noise_scheduler.config.beta_schedule,\n",
    "    clip_sample=True,\n",
    ")\n",
    "ddim_scheduler.set_timesteps(NUM_TRAIN_TIMESTEPS)\n",
    "\n",
    "model = torch.compile(model)\n",
    "scaler = GradScaler(device=DEVICE)\n",
    "scheduler = CosineAnnealingLR(optimizer, T_max=NUM_EPOCHS, eta_min=1e-6)\n",
    "\n",
    "# Training Loop\n",
    "train_losses, val_losses = [], []\n",
    "\n",
    "print(\n",
    "    f\"Training on {DEVICE} | Batch Size: {BATCH_SIZE} | Epochs: {NUM_EPOCHS} | Starting at epoch {start_epoch}\"\n",
    ")\n",
    "\n",
    "for epoch in range(1, NUM_EPOCHS + 1):\n",
    "    model.train()\n",
    "    total_train_loss = 0.0\n",
    "\n",
    "    for step, (images, _) in enumerate(train_loader, 1):\n",
    "        images = images.to(DEVICE)\n",
    "        noise = torch.randn_like(images)\n",
    "        timesteps = torch.randint(\n",
    "            0, NUM_TRAIN_TIMESTEPS, (images.size(0),), device=DEVICE\n",
    "        )\n",
    "\n",
    "        optimizer.zero_grad()\n",
    "        with autocast(device_type=DEVICE.type, enabled=True):\n",
    "            noisy_images = noise_scheduler.add_noise(images, noise, timesteps)\n",
    "            noise_pred = model(noisy_images, timesteps).sample\n",
    "            loss = F.mse_loss(noise_pred, noise)\n",
    "\n",
    "        scaler.scale(loss).backward()\n",
    "        scaler.step(optimizer)\n",
    "        scaler.update()\n",
    "        scheduler.step()\n",
    "\n",
    "        total_train_loss += loss.item()\n",
    "\n",
    "        if step % 50 == 0 or step == len(train_loader):\n",
    "            print(\n",
    "                f\"[Epoch {epoch}/{NUM_EPOCHS} | Step {step}/{len(train_loader)}] Train Loss: {loss.item():.6f}\"\n",
    "            )\n",
    "\n",
    "        # if step % (len(train_loader) // 3) == 0:\n",
    "        #     print(f\"Reached step {step} of epoch {epoch}. Saving sample image and weights.\")\n",
    "        #     sample_images(\n",
    "        #         output_path=f\"{model_save_dir}/epoch_{epoch + start_epoch}_step_{step}.png\",\n",
    "        #         num_steps=NUM_TRAIN_TIMESTEPS,\n",
    "        #         DEVICE=DEVICE,\n",
    "        #         IMAGE_SIZE=IMAGE_SIZE,\n",
    "        #         model=model,\n",
    "        #         ddim_scheduler=ddim_scheduler,\n",
    "        #     )\n",
    "        #     ckpt_path = os.path.join(\n",
    "        #         model_save_dir, f\"ddim_unet_epoch{epoch + start_epoch}_step{step}.pth\"\n",
    "        #     )\n",
    "        #     save_checkpoint(\n",
    "        #         model=model,\n",
    "        #         optimizer=optimizer,\n",
    "        #         epoch=epoch + start_epoch,\n",
    "        #         path=ckpt_path,\n",
    "        #     )\n",
    "\n",
    "    sample_images(\n",
    "        output_path=f\"{model_save_dir}/epoch_{epoch + start_epoch}.png\",\n",
    "        num_steps=NUM_TRAIN_TIMESTEPS,\n",
    "        DEVICE=DEVICE,\n",
    "        IMAGE_SIZE=IMAGE_SIZE,\n",
    "        model=model,\n",
    "        ddim_scheduler=ddim_scheduler,\n",
    "    )\n",
    "\n",
    "    avg_train_loss = total_train_loss / len(train_loader)\n",
    "    train_losses.append(avg_train_loss)\n",
    "    print(f\"Epoch {epoch} complete. Avg Train Loss: {avg_train_loss:.6f}\")\n",
    "\n",
    "    # Validation\n",
    "    model.eval()\n",
    "    total_val_loss = 0.0\n",
    "\n",
    "    with torch.no_grad():\n",
    "        for images, _ in test_loader:\n",
    "            images = images.to(DEVICE)\n",
    "            noise = torch.randn_like(images)\n",
    "            timesteps = torch.randint(\n",
    "                0, NUM_TRAIN_TIMESTEPS, (images.size(0),), device=DEVICE\n",
    "            )\n",
    "\n",
    "            with autocast(device_type=DEVICE.type, enabled=True):\n",
    "                noisy_images = noise_scheduler.add_noise(images, noise, timesteps)\n",
    "                noise_pred = model(noisy_images, timesteps).sample\n",
    "                total_val_loss += F.mse_loss(noise_pred, noise).item()\n",
    "\n",
    "    avg_val_loss = total_val_loss / len(test_loader)\n",
    "    val_losses.append(avg_val_loss)\n",
    "    print(f\"Epoch {epoch} complete. Avg Validation Loss: {avg_val_loss:.6f}\")\n",
    "\n",
    "    ckpt_path = os.path.join(\n",
    "        model_save_dir, f\"ddim_unet_epoch{epoch + start_epoch}.pth\"\n",
    "    )\n",
    "    save_checkpoint(\n",
    "        model=model,\n",
    "        optimizer=optimizer,\n",
    "        epoch=epoch + start_epoch,\n",
    "        path=ckpt_path,\n",
    "    )"
   ]
  },
  {
   "cell_type": "code",
   "execution_count": 6,
   "id": "f3cb12c0",
   "metadata": {},
   "outputs": [
    {
     "data": {
      "image/png": "[encoded data removed]",
      "text/plain": [
       "<Figure size 800x500 with 1 Axes>"
      ]
     },
     "metadata": {},
     "output_type": "display_data"
    }
   ],
   "source": [
    "import os\n",
    "import numpy as np\n",
    "import matplotlib.pyplot as plt\n",
    "\n",
    "# Path to the loss history file\n",
    "history_file = os.path.join(model_save_dir, \"loss_history.txt\")\n",
    "\n",
    "# Load existing history if it exists\n",
    "all_train_losses = []\n",
    "all_val_losses = []\n",
    "\n",
    "if os.path.exists(history_file):\n",
    "    with open(history_file, \"r\") as f:\n",
    "        lines = f.readlines()[1:]  # Skip header\n",
    "        for line in lines:\n",
    "            _, train_loss, val_loss = line.strip().split(\"\\t\")\n",
    "            all_train_losses.append(float(train_loss))\n",
    "            all_val_losses.append(float(val_loss))\n",
    "\n",
    "# Append current session's losses\n",
    "all_train_losses.extend(train_losses)\n",
    "all_val_losses.extend(val_losses)\n",
    "\n",
    "# Save updated history\n",
    "with open(history_file, \"w\") as f:\n",
    "    f.write(\"Epoch\\tTrain Loss\\tValidation Loss\\n\")\n",
    "    for i, (tr, vl) in enumerate(zip(all_train_losses, all_val_losses), 1):\n",
    "        f.write(f\"{i}\\t{tr:.6f}\\t{vl:.6f}\\n\")\n",
    "\n",
    "# Plot full loss history\n",
    "plt.figure(figsize=(8, 5))\n",
    "plt.plot(range(1, len(all_train_losses) + 1), all_train_losses, label=\"Train Loss\")\n",
    "plt.plot(range(1, len(all_val_losses) + 1), all_val_losses, label=\"Validation Loss\")\n",
    "plt.xlabel(\"Epoch\")\n",
    "plt.ylabel(\"MSE Loss\")\n",
    "plt.title(\"Train vs Validation Loss Over Time\")\n",
    "plt.legend()\n",
    "plt.grid(True)\n",
    "plt.tight_layout()\n",
    "plt.show()"
   ]
  },
  {
   "cell_type": "code",
   "execution_count": 4,
   "id": "c7758062",
   "metadata": {},
   "outputs": [
    {
     "name": "stderr",
     "output_type": "stream",
     "text": [
      "Sampling DDIM: 100%|██████████| 1000/1000 [00:22<00:00, 44.72it/s]\n"
     ]
    },
    {
     "name": "stdout",
     "output_type": "stream",
     "text": [
      "Sample saved to result/ddim_sample_epoch20_0.png\n"
     ]
    },
    {
     "name": "stderr",
     "output_type": "stream",
     "text": [
      "Sampling DDIM: 100%|██████████| 1000/1000 [00:22<00:00, 44.86it/s]\n"
     ]
    },
    {
     "name": "stdout",
     "output_type": "stream",
     "text": [
      "Sample saved to result/ddim_sample_epoch20_1.png\n"
     ]
    },
    {
     "name": "stderr",
     "output_type": "stream",
     "text": [
      "Sampling DDIM: 100%|██████████| 1000/1000 [00:22<00:00, 44.59it/s]\n"
     ]
    },
    {
     "name": "stdout",
     "output_type": "stream",
     "text": [
      "Sample saved to result/ddim_sample_epoch20_2.png\n"
     ]
    },
    {
     "name": "stderr",
     "output_type": "stream",
     "text": [
      "Sampling DDIM: 100%|██████████| 1000/1000 [00:22<00:00, 44.60it/s]\n"
     ]
    },
    {
     "name": "stdout",
     "output_type": "stream",
     "text": [
      "Sample saved to result/ddim_sample_epoch20_3.png\n"
     ]
    },
    {
     "name": "stderr",
     "output_type": "stream",
     "text": [
      "Sampling DDIM: 100%|██████████| 1000/1000 [00:22<00:00, 44.58it/s]\n"
     ]
    },
    {
     "name": "stdout",
     "output_type": "stream",
     "text": [
      "Sample saved to result/ddim_sample_epoch20_4.png\n"
     ]
    },
    {
     "name": "stderr",
     "output_type": "stream",
     "text": [
      "Sampling DDIM: 100%|██████████| 1000/1000 [00:22<00:00, 44.24it/s]\n"
     ]
    },
    {
     "name": "stdout",
     "output_type": "stream",
     "text": [
      "Sample saved to result/ddim_sample_epoch20_5.png\n"
     ]
    },
    {
     "name": "stderr",
     "output_type": "stream",
     "text": [
      "Sampling DDIM: 100%|██████████| 1000/1000 [00:22<00:00, 44.26it/s]\n"
     ]
    },
    {
     "name": "stdout",
     "output_type": "stream",
     "text": [
      "Sample saved to result/ddim_sample_epoch20_6.png\n"
     ]
    },
    {
     "name": "stderr",
     "output_type": "stream",
     "text": [
      "Sampling DDIM: 100%|██████████| 1000/1000 [00:22<00:00, 44.94it/s]\n"
     ]
    },
    {
     "name": "stdout",
     "output_type": "stream",
     "text": [
      "Sample saved to result/ddim_sample_epoch20_7.png\n"
     ]
    },
    {
     "name": "stderr",
     "output_type": "stream",
     "text": [
      "Sampling DDIM: 100%|██████████| 1000/1000 [00:22<00:00, 44.74it/s]\n"
     ]
    },
    {
     "name": "stdout",
     "output_type": "stream",
     "text": [
      "Sample saved to result/ddim_sample_epoch20_8.png\n"
     ]
    },
    {
     "name": "stderr",
     "output_type": "stream",
     "text": [
      "Sampling DDIM: 100%|██████████| 1000/1000 [00:22<00:00, 44.64it/s]"
     ]
    },
    {
     "name": "stdout",
     "output_type": "stream",
     "text": [
      "Sample saved to result/ddim_sample_epoch20_9.png\n"
     ]
    },
    {
     "name": "stderr",
     "output_type": "stream",
     "text": [
      "\n"
     ]
    }
   ],
   "source": [
    "from diffusers import DDPMScheduler, DDIMScheduler\n",
    "from tqdm import tqdm\n",
    "from utils import sample_images\n",
    "\n",
    "# Imposta il numero di step di inferenza per DDIM (uguale a NUM_TRAIN_TIMESTEPS di default)\n",
    "# 6. Sampling example with DDIM\n",
    "noise_scheduler = DDPMScheduler(num_train_timesteps=NUM_TRAIN_TIMESTEPS)\n",
    "\n",
    "ddim_scheduler = DDIMScheduler(\n",
    "    beta_start=noise_scheduler.config.beta_start,\n",
    "    beta_end=noise_scheduler.config.beta_end,\n",
    "    beta_schedule=noise_scheduler.config.beta_schedule,\n",
    "    clip_sample=True,\n",
    ")\n",
    "\n",
    "ddim_scheduler.set_timesteps(NUM_TRAIN_TIMESTEPS)\n",
    "\n",
    "\n",
    "# Sample images\n",
    "for i in range(10):\n",
    "    sample_images(\n",
    "        output_path=f\"result/ddim_sample_epoch{epoch + start_epoch}_{i}.png\",\n",
    "        num_steps=NUM_TRAIN_TIMESTEPS,\n",
    "        DEVICE=DEVICE,\n",
    "        IMAGE_SIZE=IMAGE_SIZE,\n",
    "        model=model,\n",
    "        ddim_scheduler=ddim_scheduler,\n",
    "    )"
   ]
  }
 ],
 "metadata": {
  "kernelspec": {
   "display_name": ".venv",
   "language": "python",
   "name": "python3"
  },
  "language_info": {
   "codemirror_mode": {
    "name": "ipython",
    "version": 3
   },
   "file_extension": ".py",
   "mimetype": "text/x-python",
   "name": "python",
   "nbconvert_exporter": "python",
   "pygments_lexer": "ipython3",
   "version": "3.12.3"
  }
 },
 "nbformat": 4,
 "nbformat_minor": 5
}
