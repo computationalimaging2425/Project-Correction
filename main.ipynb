{
 "cells": [
  {
   "cell_type": "markdown",
   "id": "7e6b7f9f",
   "metadata": {},
   "source": [
    "# Model and Training"
   ]
  },
  {
   "cell_type": "markdown",
   "id": "0b5a3da1",
   "metadata": {},
   "source": [
    "## Load the model"
   ]
  },
  {
   "cell_type": "code",
   "execution_count": 1,
   "id": "fc529bf9",
   "metadata": {},
   "outputs": [
    {
     "name": "stderr",
     "output_type": "stream",
     "text": [
      "/home/enrico/Desktop/Project-Correction/.venv/lib/python3.12/site-packages/tqdm/auto.py:21: TqdmWarning: IProgress not found. Please update jupyter and ipywidgets. See https://ipywidgets.readthedocs.io/en/stable/user_install.html\n",
      "  from .autonotebook import tqdm as notebook_tqdm\n"
     ]
    },
    {
     "name": "stdout",
     "output_type": "stream",
     "text": [
      "Model Summary:\n",
      "Model Type: UNet2DModel\n",
      "Number of Parameters: 15722625\n",
      "Device: cuda:0\n",
      "No checkpoint found at checkpoints/ddim_unet_epoch1.pth, starting fresh.\n",
      "Model ddim_unet_epoch1.pth not found. Starting from scratch, loaded on cuda, starting from epoch 0.\n"
     ]
    }
   ],
   "source": [
    "import os\n",
    "import torch\n",
    "import torch.nn.functional as F\n",
    "from torch.utils.data import DataLoader\n",
    "from torchvision import transforms, datasets\n",
    "from diffusers import UNet2DModel, DDPMScheduler, DDIMScheduler\n",
    "ON_COLAB = False  # Set to True if running on Google Colab\n",
    "if ON_COLAB:\n",
    "    !pip install dotenv\n",
    "    \n",
    "from dotenv import load_dotenv\n",
    "\n",
    "# Load environment variables from .env file\n",
    "load_dotenv()\n",
    "\n",
    "\n",
    "# Configuration\n",
    "target_size_for_training = (128, 128)\n",
    "data_root = f\"./raw_data\"  # root directory containing 'train' and 'test' subfolders\n",
    "if ON_COLAB:\n",
    "    from google.colab import drive\n",
    "\n",
    "    drive.mount(os.getenv(\"GOOGLE_DRIVE_CONTENT_PATH\", \"/content/drive\"))\n",
    "    data_root = os.getenv(\"GOOGLE_DRIVE_PATH_RESIZED\", data_root)\n",
    "\n",
    "train_dir = os.path.join(data_root, \"train\")\n",
    "test_dir = os.path.join(data_root, \"test\")\n",
    "model_save_dir = os.getenv(\"MODEL_SAVE_DIR\", \"./checkpoints\")\n",
    "os.makedirs(model_save_dir, exist_ok=True)\n",
    "DEVICE = torch.device(\"cuda\" if torch.cuda.is_available() else \"cpu\")\n",
    "LEARNING_RATE = 1e-4\n",
    "IMAGE_SIZE = target_size_for_training[0]\n",
    "\n",
    "# 2. Define the UNet diffusion model\n",
    "from model_enrico import get_unet_model\n",
    "\n",
    "model = get_unet_model(\n",
    "    sample_size=IMAGE_SIZE,\n",
    "    in_channels=1,\n",
    "    out_channels=1,\n",
    "    layers_per_block=2,\n",
    "    block_out_channels=(64, 128, 256),\n",
    "    down_block_types=(\"DownBlock2D\", \"DownBlock2D\", \"AttnDownBlock2D\"),\n",
    "    up_block_types=(\"AttnUpBlock2D\", \"UpBlock2D\", \"UpBlock2D\"),\n",
    "    dropout=0.1,\n",
    ").to(DEVICE)\n",
    "\n",
    "# Print model summary\n",
    "def print_model_summary(model):\n",
    "    print(\"Model Summary:\")\n",
    "    print(f\"Model Type: {type(model).__name__}\")\n",
    "    print(f\"Number of Parameters: {sum(p.numel() for p in model.parameters())}\")\n",
    "    print(f\"Device: {next(model.parameters()).device}\")\n",
    "\n",
    "print_model_summary(model)\n",
    "\n",
    "\n",
    "# 5. Load the model checkpoint if available\n",
    "def load_checkpoint(ckpt_path, model, optimizer=None, device=torch.device(\"cpu\")):\n",
    "    loaded = False\n",
    "    if not os.path.exists(ckpt_path):\n",
    "        print(f\"No checkpoint found at {ckpt_path}, starting fresh.\")\n",
    "        return loaded, model, optimizer, 0\n",
    "\n",
    "    checkpoint = torch.load(ckpt_path, map_location=device)\n",
    "    \n",
    "    # Rimuovi il prefisso \"_orig_mod.\" dalle chiavi se presente\n",
    "    new_state_dict = {}\n",
    "    for k, v in checkpoint[\"model\"].items():\n",
    "        if k.startswith(\"_orig_mod.\"):\n",
    "            new_k = k.replace(\"_orig_mod.\", \"\")\n",
    "            new_state_dict[new_k] = v\n",
    "        else:\n",
    "            new_state_dict[k] = v\n",
    "    \n",
    "    model.load_state_dict(new_state_dict)\n",
    "    model.to(device)\n",
    "    loaded = True\n",
    "    start_epoch = checkpoint.get(\"epoch\", 0)\n",
    "    \n",
    "    if optimizer is not None and \"optimizer\" in checkpoint:\n",
    "        optimizer.load_state_dict(checkpoint[\"optimizer\"])\n",
    "        print(f\"Loaded optimizer state from checkpoint '{ckpt_path}'\")\n",
    "    else:\n",
    "        print(\"Optimizer state not found in checkpoint, starting with a new optimizer.\")\n",
    "    \n",
    "    print(f\"Loaded checkpoint '{ckpt_path}' (epoch {start_epoch})\")\n",
    "    return loaded, model, optimizer, start_epoch\n",
    "\n",
    "\n",
    "WEIGHT_DECAY = 1e-5  # weight decay for regularization\n",
    "optimizer = torch.optim.Adam(\n",
    "    model.parameters(), lr=LEARNING_RATE, weight_decay=WEIGHT_DECAY\n",
    ")\n",
    "\n",
    "# Load the model checkpoint\n",
    "ckpt = \"checkpoints/ddim_unet_epoch1.pth\"\n",
    "isModelLoadedFromCheckpoint, model, optimizer, start_epoch = load_checkpoint(\n",
    "    ckpt, model, optimizer, device=DEVICE\n",
    ")\n",
    "model.eval()\n",
    "if isModelLoadedFromCheckpoint:\n",
    "    print(f\"Model {ckpt.split('/')[-1]} loaded and moved to {DEVICE}, starting from epoch {start_epoch}.\")\n",
    "else:\n",
    "    print(f\"Model {ckpt.split('/')[-1]} not found. Starting from scratch, loaded on {DEVICE}, starting from epoch {start_epoch}.\")"
   ]
  },
  {
   "cell_type": "markdown",
   "id": "7803fcc0",
   "metadata": {},
   "source": [
    "## Training and validation"
   ]
  },
  {
   "cell_type": "code",
   "execution_count": 2,
   "id": "4efcde23",
   "metadata": {},
   "outputs": [
    {
     "name": "stdout",
     "output_type": "stream",
     "text": [
      "Training images before augmentation: 3306\n",
      "Validation images before augmentation: 327\n",
      "Training samples: 13224\n",
      "Validation samples: 1308\n",
      "Training on cuda | Batch Size: 16 | Epochs: 20 | Starting at epoch 0\n",
      "[Epoch 1/20 | Step 50/827] Train Loss: 0.044299\n",
      "[Epoch 1/20 | Step 100/827] Train Loss: 0.079445\n",
      "[Epoch 1/20 | Step 150/827] Train Loss: 0.102406\n",
      "[Epoch 1/20 | Step 200/827] Train Loss: 0.027396\n",
      "[Epoch 1/20 | Step 250/827] Train Loss: 0.027174\n",
      "[Epoch 1/20 | Step 300/827] Train Loss: 0.016116\n",
      "[Epoch 1/20 | Step 350/827] Train Loss: 0.028958\n",
      "[Epoch 1/20 | Step 400/827] Train Loss: 0.020110\n",
      "[Epoch 1/20 | Step 450/827] Train Loss: 0.024278\n",
      "[Epoch 1/20 | Step 500/827] Train Loss: 0.027964\n",
      "[Epoch 1/20 | Step 550/827] Train Loss: 0.012218\n",
      "[Epoch 1/20 | Step 600/827] Train Loss: 0.013063\n",
      "[Epoch 1/20 | Step 650/827] Train Loss: 0.019272\n",
      "[Epoch 1/20 | Step 700/827] Train Loss: 0.018045\n",
      "[Epoch 1/20 | Step 750/827] Train Loss: 0.012017\n",
      "[Epoch 1/20 | Step 800/827] Train Loss: 0.027028\n",
      "[Epoch 1/20 | Step 827/827] Train Loss: 0.083007\n"
     ]
    },
    {
     "name": "stderr",
     "output_type": "stream",
     "text": [
      "Sampling DDIM: 100%|██████████| 1000/1000 [00:25<00:00, 39.48it/s]\n"
     ]
    },
    {
     "name": "stdout",
     "output_type": "stream",
     "text": [
      "Sample saved to ./checkpoints/epoch_1.png\n",
      "Epoch 1 complete. Avg Train Loss: 0.041336\n",
      "Epoch 1 complete. Avg Validation Loss: 0.015513\n",
      "Checkpoint salvato in: ./checkpoints/ddim_unet_epoch1.pth\n",
      "[Epoch 2/20 | Step 50/827] Train Loss: 0.026884\n",
      "[Epoch 2/20 | Step 100/827] Train Loss: 0.012382\n",
      "[Epoch 2/20 | Step 150/827] Train Loss: 0.014294\n",
      "[Epoch 2/20 | Step 200/827] Train Loss: 0.009331\n",
      "[Epoch 2/20 | Step 250/827] Train Loss: 0.021569\n",
      "[Epoch 2/20 | Step 300/827] Train Loss: 0.013747\n",
      "[Epoch 2/20 | Step 350/827] Train Loss: 0.012275\n",
      "[Epoch 2/20 | Step 400/827] Train Loss: 0.010894\n",
      "[Epoch 2/20 | Step 450/827] Train Loss: 0.013149\n",
      "[Epoch 2/20 | Step 500/827] Train Loss: 0.015871\n",
      "[Epoch 2/20 | Step 550/827] Train Loss: 0.013021\n",
      "[Epoch 2/20 | Step 600/827] Train Loss: 0.007319\n",
      "[Epoch 2/20 | Step 650/827] Train Loss: 0.036182\n",
      "[Epoch 2/20 | Step 700/827] Train Loss: 0.009155\n",
      "[Epoch 2/20 | Step 750/827] Train Loss: 0.023938\n",
      "[Epoch 2/20 | Step 800/827] Train Loss: 0.013631\n",
      "[Epoch 2/20 | Step 827/827] Train Loss: 0.014938\n"
     ]
    },
    {
     "name": "stderr",
     "output_type": "stream",
     "text": [
      "Sampling DDIM: 100%|██████████| 1000/1000 [00:22<00:00, 44.88it/s]"
     ]
    },
    {
     "name": "stdout",
     "output_type": "stream",
     "text": [
      "Sample saved to ./checkpoints/epoch_2.png\n",
      "Epoch 2 complete. Avg Train Loss: 0.017869\n"
     ]
    },
    {
     "name": "stderr",
     "output_type": "stream",
     "text": [
      "\n"
     ]
    },
    {
     "name": "stdout",
     "output_type": "stream",
     "text": [
      "Epoch 2 complete. Avg Validation Loss: 0.015238\n",
      "Checkpoint salvato in: ./checkpoints/ddim_unet_epoch2.pth\n",
      "[Epoch 3/20 | Step 50/827] Train Loss: 0.005155\n",
      "[Epoch 3/20 | Step 100/827] Train Loss: 0.011852\n",
      "[Epoch 3/20 | Step 150/827] Train Loss: 0.028702\n",
      "[Epoch 3/20 | Step 200/827] Train Loss: 0.008809\n",
      "[Epoch 3/20 | Step 250/827] Train Loss: 0.006056\n",
      "[Epoch 3/20 | Step 300/827] Train Loss: 0.009292\n",
      "[Epoch 3/20 | Step 350/827] Train Loss: 0.014130\n",
      "[Epoch 3/20 | Step 400/827] Train Loss: 0.007280\n",
      "[Epoch 3/20 | Step 450/827] Train Loss: 0.013492\n",
      "[Epoch 3/20 | Step 500/827] Train Loss: 0.007067\n",
      "[Epoch 3/20 | Step 550/827] Train Loss: 0.015775\n",
      "[Epoch 3/20 | Step 600/827] Train Loss: 0.017182\n",
      "[Epoch 3/20 | Step 650/827] Train Loss: 0.011330\n",
      "[Epoch 3/20 | Step 700/827] Train Loss: 0.010486\n",
      "[Epoch 3/20 | Step 750/827] Train Loss: 0.020939\n",
      "[Epoch 3/20 | Step 800/827] Train Loss: 0.011223\n",
      "[Epoch 3/20 | Step 827/827] Train Loss: 0.002970\n"
     ]
    },
    {
     "name": "stderr",
     "output_type": "stream",
     "text": [
      "Sampling DDIM: 100%|██████████| 1000/1000 [00:22<00:00, 44.89it/s]"
     ]
    },
    {
     "name": "stdout",
     "output_type": "stream",
     "text": [
      "Sample saved to ./checkpoints/epoch_3.png\n",
      "Epoch 3 complete. Avg Train Loss: 0.014688\n"
     ]
    },
    {
     "name": "stderr",
     "output_type": "stream",
     "text": [
      "\n"
     ]
    },
    {
     "name": "stdout",
     "output_type": "stream",
     "text": [
      "Epoch 3 complete. Avg Validation Loss: 0.011597\n",
      "Checkpoint salvato in: ./checkpoints/ddim_unet_epoch3.pth\n",
      "[Epoch 4/20 | Step 50/827] Train Loss: 0.012143\n",
      "[Epoch 4/20 | Step 100/827] Train Loss: 0.004797\n",
      "[Epoch 4/20 | Step 150/827] Train Loss: 0.021708\n",
      "[Epoch 4/20 | Step 200/827] Train Loss: 0.036841\n",
      "[Epoch 4/20 | Step 250/827] Train Loss: 0.018636\n",
      "[Epoch 4/20 | Step 300/827] Train Loss: 0.004767\n",
      "[Epoch 4/20 | Step 350/827] Train Loss: 0.008176\n",
      "[Epoch 4/20 | Step 400/827] Train Loss: 0.008688\n",
      "[Epoch 4/20 | Step 450/827] Train Loss: 0.009602\n",
      "[Epoch 4/20 | Step 500/827] Train Loss: 0.007587\n",
      "[Epoch 4/20 | Step 550/827] Train Loss: 0.008468\n",
      "[Epoch 4/20 | Step 600/827] Train Loss: 0.007949\n",
      "[Epoch 4/20 | Step 650/827] Train Loss: 0.009252\n",
      "[Epoch 4/20 | Step 700/827] Train Loss: 0.011099\n",
      "[Epoch 4/20 | Step 750/827] Train Loss: 0.002472\n",
      "[Epoch 4/20 | Step 800/827] Train Loss: 0.037904\n",
      "[Epoch 4/20 | Step 827/827] Train Loss: 0.031480\n"
     ]
    },
    {
     "name": "stderr",
     "output_type": "stream",
     "text": [
      "Sampling DDIM: 100%|██████████| 1000/1000 [00:22<00:00, 44.50it/s]\n"
     ]
    },
    {
     "name": "stdout",
     "output_type": "stream",
     "text": [
      "Sample saved to ./checkpoints/epoch_4.png\n",
      "Epoch 4 complete. Avg Train Loss: 0.013540\n",
      "Epoch 4 complete. Avg Validation Loss: 0.010422\n",
      "Checkpoint salvato in: ./checkpoints/ddim_unet_epoch4.pth\n",
      "[Epoch 5/20 | Step 50/827] Train Loss: 0.005717\n",
      "[Epoch 5/20 | Step 100/827] Train Loss: 0.016114\n",
      "[Epoch 5/20 | Step 150/827] Train Loss: 0.011206\n",
      "[Epoch 5/20 | Step 200/827] Train Loss: 0.006258\n",
      "[Epoch 5/20 | Step 250/827] Train Loss: 0.013023\n",
      "[Epoch 5/20 | Step 300/827] Train Loss: 0.003986\n",
      "[Epoch 5/20 | Step 350/827] Train Loss: 0.013585\n",
      "[Epoch 5/20 | Step 400/827] Train Loss: 0.007959\n",
      "[Epoch 5/20 | Step 450/827] Train Loss: 0.004908\n",
      "[Epoch 5/20 | Step 500/827] Train Loss: 0.013637\n",
      "[Epoch 5/20 | Step 550/827] Train Loss: 0.019056\n",
      "[Epoch 5/20 | Step 600/827] Train Loss: 0.017475\n",
      "[Epoch 5/20 | Step 650/827] Train Loss: 0.028393\n",
      "[Epoch 5/20 | Step 700/827] Train Loss: 0.004613\n",
      "[Epoch 5/20 | Step 750/827] Train Loss: 0.008294\n",
      "[Epoch 5/20 | Step 800/827] Train Loss: 0.005014\n",
      "[Epoch 5/20 | Step 827/827] Train Loss: 0.002985\n"
     ]
    },
    {
     "name": "stderr",
     "output_type": "stream",
     "text": [
      "Sampling DDIM: 100%|██████████| 1000/1000 [00:22<00:00, 44.68it/s]"
     ]
    },
    {
     "name": "stdout",
     "output_type": "stream",
     "text": [
      "Sample saved to ./checkpoints/epoch_5.png\n",
      "Epoch 5 complete. Avg Train Loss: 0.012163\n"
     ]
    },
    {
     "name": "stderr",
     "output_type": "stream",
     "text": [
      "\n"
     ]
    },
    {
     "name": "stdout",
     "output_type": "stream",
     "text": [
      "Epoch 5 complete. Avg Validation Loss: 0.010088\n",
      "Checkpoint salvato in: ./checkpoints/ddim_unet_epoch5.pth\n",
      "[Epoch 6/20 | Step 50/827] Train Loss: 0.042883\n",
      "[Epoch 6/20 | Step 100/827] Train Loss: 0.006392\n",
      "[Epoch 6/20 | Step 150/827] Train Loss: 0.006550\n",
      "[Epoch 6/20 | Step 200/827] Train Loss: 0.006875\n",
      "[Epoch 6/20 | Step 250/827] Train Loss: 0.006362\n",
      "[Epoch 6/20 | Step 300/827] Train Loss: 0.006549\n",
      "[Epoch 6/20 | Step 350/827] Train Loss: 0.003083\n",
      "[Epoch 6/20 | Step 400/827] Train Loss: 0.004940\n",
      "[Epoch 6/20 | Step 450/827] Train Loss: 0.022765\n",
      "[Epoch 6/20 | Step 500/827] Train Loss: 0.023295\n",
      "[Epoch 6/20 | Step 550/827] Train Loss: 0.016567\n",
      "[Epoch 6/20 | Step 600/827] Train Loss: 0.020847\n",
      "[Epoch 6/20 | Step 650/827] Train Loss: 0.008924\n",
      "[Epoch 6/20 | Step 700/827] Train Loss: 0.012222\n",
      "[Epoch 6/20 | Step 750/827] Train Loss: 0.009879\n",
      "[Epoch 6/20 | Step 800/827] Train Loss: 0.026331\n",
      "[Epoch 6/20 | Step 827/827] Train Loss: 0.016572\n"
     ]
    },
    {
     "name": "stderr",
     "output_type": "stream",
     "text": [
      "Sampling DDIM: 100%|██████████| 1000/1000 [00:22<00:00, 44.75it/s]\n"
     ]
    },
    {
     "name": "stdout",
     "output_type": "stream",
     "text": [
      "Sample saved to ./checkpoints/epoch_6.png\n",
      "Epoch 6 complete. Avg Train Loss: 0.011738\n",
      "Epoch 6 complete. Avg Validation Loss: 0.011142\n",
      "Checkpoint salvato in: ./checkpoints/ddim_unet_epoch6.pth\n",
      "[Epoch 7/20 | Step 50/827] Train Loss: 0.022187\n",
      "[Epoch 7/20 | Step 100/827] Train Loss: 0.033084\n",
      "[Epoch 7/20 | Step 150/827] Train Loss: 0.004350\n",
      "[Epoch 7/20 | Step 200/827] Train Loss: 0.012982\n",
      "[Epoch 7/20 | Step 250/827] Train Loss: 0.006281\n",
      "[Epoch 7/20 | Step 300/827] Train Loss: 0.001867\n",
      "[Epoch 7/20 | Step 350/827] Train Loss: 0.022626\n",
      "[Epoch 7/20 | Step 400/827] Train Loss: 0.018246\n",
      "[Epoch 7/20 | Step 450/827] Train Loss: 0.021792\n",
      "[Epoch 7/20 | Step 500/827] Train Loss: 0.002843\n",
      "[Epoch 7/20 | Step 550/827] Train Loss: 0.010875\n",
      "[Epoch 7/20 | Step 600/827] Train Loss: 0.023508\n",
      "[Epoch 7/20 | Step 650/827] Train Loss: 0.015215\n",
      "[Epoch 7/20 | Step 700/827] Train Loss: 0.004953\n",
      "[Epoch 7/20 | Step 750/827] Train Loss: 0.002877\n",
      "[Epoch 7/20 | Step 800/827] Train Loss: 0.007176\n",
      "[Epoch 7/20 | Step 827/827] Train Loss: 0.005350\n"
     ]
    },
    {
     "name": "stderr",
     "output_type": "stream",
     "text": [
      "Sampling DDIM: 100%|██████████| 1000/1000 [00:22<00:00, 44.27it/s]\n"
     ]
    },
    {
     "name": "stdout",
     "output_type": "stream",
     "text": [
      "Sample saved to ./checkpoints/epoch_7.png\n",
      "Epoch 7 complete. Avg Train Loss: 0.010767\n",
      "Epoch 7 complete. Avg Validation Loss: 0.011846\n",
      "Checkpoint salvato in: ./checkpoints/ddim_unet_epoch7.pth\n",
      "[Epoch 8/20 | Step 50/827] Train Loss: 0.004430\n",
      "[Epoch 8/20 | Step 100/827] Train Loss: 0.009250\n",
      "[Epoch 8/20 | Step 150/827] Train Loss: 0.008223\n",
      "[Epoch 8/20 | Step 200/827] Train Loss: 0.005317\n",
      "[Epoch 8/20 | Step 250/827] Train Loss: 0.006697\n",
      "[Epoch 8/20 | Step 300/827] Train Loss: 0.004111\n",
      "[Epoch 8/20 | Step 350/827] Train Loss: 0.017865\n",
      "[Epoch 8/20 | Step 400/827] Train Loss: 0.006870\n",
      "[Epoch 8/20 | Step 450/827] Train Loss: 0.006357\n",
      "[Epoch 8/20 | Step 500/827] Train Loss: 0.032280\n",
      "[Epoch 8/20 | Step 550/827] Train Loss: 0.040827\n",
      "[Epoch 8/20 | Step 600/827] Train Loss: 0.011108\n",
      "[Epoch 8/20 | Step 650/827] Train Loss: 0.007982\n",
      "[Epoch 8/20 | Step 700/827] Train Loss: 0.009565\n",
      "[Epoch 8/20 | Step 750/827] Train Loss: 0.010863\n",
      "[Epoch 8/20 | Step 800/827] Train Loss: 0.005950\n",
      "[Epoch 8/20 | Step 827/827] Train Loss: 0.006889\n"
     ]
    },
    {
     "name": "stderr",
     "output_type": "stream",
     "text": [
      "Sampling DDIM: 100%|██████████| 1000/1000 [00:22<00:00, 44.69it/s]"
     ]
    },
    {
     "name": "stdout",
     "output_type": "stream",
     "text": [
      "Sample saved to ./checkpoints/epoch_8.png\n",
      "Epoch 8 complete. Avg Train Loss: 0.010896\n"
     ]
    },
    {
     "name": "stderr",
     "output_type": "stream",
     "text": [
      "\n"
     ]
    },
    {
     "name": "stdout",
     "output_type": "stream",
     "text": [
      "Epoch 8 complete. Avg Validation Loss: 0.010344\n",
      "Checkpoint salvato in: ./checkpoints/ddim_unet_epoch8.pth\n",
      "[Epoch 9/20 | Step 50/827] Train Loss: 0.014296\n",
      "[Epoch 9/20 | Step 100/827] Train Loss: 0.009028\n",
      "[Epoch 9/20 | Step 150/827] Train Loss: 0.005841\n",
      "[Epoch 9/20 | Step 200/827] Train Loss: 0.014113\n",
      "[Epoch 9/20 | Step 250/827] Train Loss: 0.009290\n",
      "[Epoch 9/20 | Step 300/827] Train Loss: 0.005479\n",
      "[Epoch 9/20 | Step 350/827] Train Loss: 0.011910\n",
      "[Epoch 9/20 | Step 400/827] Train Loss: 0.006073\n",
      "[Epoch 9/20 | Step 450/827] Train Loss: 0.002663\n",
      "[Epoch 9/20 | Step 500/827] Train Loss: 0.004202\n",
      "[Epoch 9/20 | Step 550/827] Train Loss: 0.006087\n",
      "[Epoch 9/20 | Step 600/827] Train Loss: 0.008326\n",
      "[Epoch 9/20 | Step 650/827] Train Loss: 0.006232\n",
      "[Epoch 9/20 | Step 700/827] Train Loss: 0.002247\n",
      "[Epoch 9/20 | Step 750/827] Train Loss: 0.034678\n",
      "[Epoch 9/20 | Step 800/827] Train Loss: 0.014261\n",
      "[Epoch 9/20 | Step 827/827] Train Loss: 0.001480\n"
     ]
    },
    {
     "name": "stderr",
     "output_type": "stream",
     "text": [
      "Sampling DDIM: 100%|██████████| 1000/1000 [00:22<00:00, 44.57it/s]"
     ]
    },
    {
     "name": "stdout",
     "output_type": "stream",
     "text": [
      "Sample saved to ./checkpoints/epoch_9.png\n",
      "Epoch 9 complete. Avg Train Loss: 0.010978\n"
     ]
    },
    {
     "name": "stderr",
     "output_type": "stream",
     "text": [
      "\n"
     ]
    },
    {
     "name": "stdout",
     "output_type": "stream",
     "text": [
      "Epoch 9 complete. Avg Validation Loss: 0.010817\n",
      "Checkpoint salvato in: ./checkpoints/ddim_unet_epoch9.pth\n",
      "[Epoch 10/20 | Step 50/827] Train Loss: 0.037822\n",
      "[Epoch 10/20 | Step 100/827] Train Loss: 0.007586\n",
      "[Epoch 10/20 | Step 150/827] Train Loss: 0.011962\n",
      "[Epoch 10/20 | Step 200/827] Train Loss: 0.008015\n",
      "[Epoch 10/20 | Step 250/827] Train Loss: 0.005014\n",
      "[Epoch 10/20 | Step 300/827] Train Loss: 0.004925\n",
      "[Epoch 10/20 | Step 350/827] Train Loss: 0.009753\n",
      "[Epoch 10/20 | Step 400/827] Train Loss: 0.011591\n",
      "[Epoch 10/20 | Step 450/827] Train Loss: 0.005758\n",
      "[Epoch 10/20 | Step 500/827] Train Loss: 0.013808\n",
      "[Epoch 10/20 | Step 550/827] Train Loss: 0.008920\n",
      "[Epoch 10/20 | Step 600/827] Train Loss: 0.011993\n",
      "[Epoch 10/20 | Step 650/827] Train Loss: 0.029052\n",
      "[Epoch 10/20 | Step 700/827] Train Loss: 0.006227\n",
      "[Epoch 10/20 | Step 750/827] Train Loss: 0.002925\n",
      "[Epoch 10/20 | Step 800/827] Train Loss: 0.006694\n",
      "[Epoch 10/20 | Step 827/827] Train Loss: 0.017554\n"
     ]
    },
    {
     "name": "stderr",
     "output_type": "stream",
     "text": [
      "Sampling DDIM: 100%|██████████| 1000/1000 [00:22<00:00, 44.80it/s]"
     ]
    },
    {
     "name": "stdout",
     "output_type": "stream",
     "text": [
      "Sample saved to ./checkpoints/epoch_10.png\n",
      "Epoch 10 complete. Avg Train Loss: 0.010569\n"
     ]
    },
    {
     "name": "stderr",
     "output_type": "stream",
     "text": [
      "\n"
     ]
    },
    {
     "name": "stdout",
     "output_type": "stream",
     "text": [
      "Epoch 10 complete. Avg Validation Loss: 0.009176\n",
      "Checkpoint salvato in: ./checkpoints/ddim_unet_epoch10.pth\n",
      "[Epoch 11/20 | Step 50/827] Train Loss: 0.003396\n",
      "[Epoch 11/20 | Step 100/827] Train Loss: 0.016744\n",
      "[Epoch 11/20 | Step 150/827] Train Loss: 0.011326\n",
      "[Epoch 11/20 | Step 200/827] Train Loss: 0.019653\n",
      "[Epoch 11/20 | Step 250/827] Train Loss: 0.002404\n",
      "[Epoch 11/20 | Step 300/827] Train Loss: 0.004202\n",
      "[Epoch 11/20 | Step 350/827] Train Loss: 0.016438\n",
      "[Epoch 11/20 | Step 400/827] Train Loss: 0.004563\n",
      "[Epoch 11/20 | Step 450/827] Train Loss: 0.007105\n",
      "[Epoch 11/20 | Step 500/827] Train Loss: 0.006058\n",
      "[Epoch 11/20 | Step 550/827] Train Loss: 0.004719\n",
      "[Epoch 11/20 | Step 600/827] Train Loss: 0.015472\n",
      "[Epoch 11/20 | Step 650/827] Train Loss: 0.011494\n",
      "[Epoch 11/20 | Step 700/827] Train Loss: 0.004998\n",
      "[Epoch 11/20 | Step 750/827] Train Loss: 0.007280\n",
      "[Epoch 11/20 | Step 800/827] Train Loss: 0.014173\n",
      "[Epoch 11/20 | Step 827/827] Train Loss: 0.004375\n"
     ]
    },
    {
     "name": "stderr",
     "output_type": "stream",
     "text": [
      "Sampling DDIM: 100%|██████████| 1000/1000 [00:22<00:00, 44.86it/s]"
     ]
    },
    {
     "name": "stdout",
     "output_type": "stream",
     "text": [
      "Sample saved to ./checkpoints/epoch_11.png\n",
      "Epoch 11 complete. Avg Train Loss: 0.010069\n"
     ]
    },
    {
     "name": "stderr",
     "output_type": "stream",
     "text": [
      "\n"
     ]
    },
    {
     "name": "stdout",
     "output_type": "stream",
     "text": [
      "Epoch 11 complete. Avg Validation Loss: 0.010312\n",
      "Checkpoint salvato in: ./checkpoints/ddim_unet_epoch11.pth\n",
      "[Epoch 12/20 | Step 50/827] Train Loss: 0.009427\n",
      "[Epoch 12/20 | Step 100/827] Train Loss: 0.002556\n",
      "[Epoch 12/20 | Step 150/827] Train Loss: 0.006182\n",
      "[Epoch 12/20 | Step 200/827] Train Loss: 0.002826\n",
      "[Epoch 12/20 | Step 250/827] Train Loss: 0.002027\n",
      "[Epoch 12/20 | Step 300/827] Train Loss: 0.004159\n",
      "[Epoch 12/20 | Step 350/827] Train Loss: 0.009188\n",
      "[Epoch 12/20 | Step 400/827] Train Loss: 0.016117\n",
      "[Epoch 12/20 | Step 450/827] Train Loss: 0.019697\n",
      "[Epoch 12/20 | Step 500/827] Train Loss: 0.009608\n",
      "[Epoch 12/20 | Step 550/827] Train Loss: 0.003314\n",
      "[Epoch 12/20 | Step 600/827] Train Loss: 0.003881\n",
      "[Epoch 12/20 | Step 650/827] Train Loss: 0.011943\n",
      "[Epoch 12/20 | Step 700/827] Train Loss: 0.032209\n",
      "[Epoch 12/20 | Step 750/827] Train Loss: 0.007597\n",
      "[Epoch 12/20 | Step 800/827] Train Loss: 0.003391\n",
      "[Epoch 12/20 | Step 827/827] Train Loss: 0.005968\n"
     ]
    },
    {
     "name": "stderr",
     "output_type": "stream",
     "text": [
      "Sampling DDIM: 100%|██████████| 1000/1000 [00:22<00:00, 44.79it/s]"
     ]
    },
    {
     "name": "stdout",
     "output_type": "stream",
     "text": [
      "Sample saved to ./checkpoints/epoch_12.png\n",
      "Epoch 12 complete. Avg Train Loss: 0.010445\n"
     ]
    },
    {
     "name": "stderr",
     "output_type": "stream",
     "text": [
      "\n"
     ]
    },
    {
     "name": "stdout",
     "output_type": "stream",
     "text": [
      "Epoch 12 complete. Avg Validation Loss: 0.010452\n",
      "Checkpoint salvato in: ./checkpoints/ddim_unet_epoch12.pth\n",
      "[Epoch 13/20 | Step 50/827] Train Loss: 0.004580\n",
      "[Epoch 13/20 | Step 100/827] Train Loss: 0.006070\n",
      "[Epoch 13/20 | Step 150/827] Train Loss: 0.006310\n",
      "[Epoch 13/20 | Step 200/827] Train Loss: 0.006475\n",
      "[Epoch 13/20 | Step 250/827] Train Loss: 0.026481\n",
      "[Epoch 13/20 | Step 300/827] Train Loss: 0.003183\n",
      "[Epoch 13/20 | Step 350/827] Train Loss: 0.007106\n",
      "[Epoch 13/20 | Step 400/827] Train Loss: 0.005945\n",
      "[Epoch 13/20 | Step 450/827] Train Loss: 0.006593\n",
      "[Epoch 13/20 | Step 500/827] Train Loss: 0.009535\n",
      "[Epoch 13/20 | Step 550/827] Train Loss: 0.014145\n",
      "[Epoch 13/20 | Step 600/827] Train Loss: 0.006059\n",
      "[Epoch 13/20 | Step 650/827] Train Loss: 0.004016\n",
      "[Epoch 13/20 | Step 700/827] Train Loss: 0.020784\n",
      "[Epoch 13/20 | Step 750/827] Train Loss: 0.006451\n",
      "[Epoch 13/20 | Step 800/827] Train Loss: 0.010457\n",
      "[Epoch 13/20 | Step 827/827] Train Loss: 0.003184\n"
     ]
    },
    {
     "name": "stderr",
     "output_type": "stream",
     "text": [
      "Sampling DDIM: 100%|██████████| 1000/1000 [00:22<00:00, 45.00it/s]"
     ]
    },
    {
     "name": "stdout",
     "output_type": "stream",
     "text": [
      "Sample saved to ./checkpoints/epoch_13.png\n",
      "Epoch 13 complete. Avg Train Loss: 0.009773\n"
     ]
    },
    {
     "name": "stderr",
     "output_type": "stream",
     "text": [
      "\n"
     ]
    },
    {
     "name": "stdout",
     "output_type": "stream",
     "text": [
      "Epoch 13 complete. Avg Validation Loss: 0.010478\n",
      "Checkpoint salvato in: ./checkpoints/ddim_unet_epoch13.pth\n",
      "[Epoch 14/20 | Step 50/827] Train Loss: 0.007441\n",
      "[Epoch 14/20 | Step 100/827] Train Loss: 0.006472\n",
      "[Epoch 14/20 | Step 150/827] Train Loss: 0.008785\n",
      "[Epoch 14/20 | Step 200/827] Train Loss: 0.010352\n",
      "[Epoch 14/20 | Step 250/827] Train Loss: 0.012988\n",
      "[Epoch 14/20 | Step 300/827] Train Loss: 0.005086\n",
      "[Epoch 14/20 | Step 350/827] Train Loss: 0.009728\n",
      "[Epoch 14/20 | Step 400/827] Train Loss: 0.011382\n",
      "[Epoch 14/20 | Step 450/827] Train Loss: 0.018540\n",
      "[Epoch 14/20 | Step 500/827] Train Loss: 0.006323\n",
      "[Epoch 14/20 | Step 550/827] Train Loss: 0.003190\n",
      "[Epoch 14/20 | Step 600/827] Train Loss: 0.007363\n",
      "[Epoch 14/20 | Step 650/827] Train Loss: 0.007675\n",
      "[Epoch 14/20 | Step 700/827] Train Loss: 0.005417\n",
      "[Epoch 14/20 | Step 750/827] Train Loss: 0.005597\n",
      "[Epoch 14/20 | Step 800/827] Train Loss: 0.017203\n",
      "[Epoch 14/20 | Step 827/827] Train Loss: 0.016113\n"
     ]
    },
    {
     "name": "stderr",
     "output_type": "stream",
     "text": [
      "Sampling DDIM: 100%|██████████| 1000/1000 [00:22<00:00, 44.77it/s]"
     ]
    },
    {
     "name": "stdout",
     "output_type": "stream",
     "text": [
      "Sample saved to ./checkpoints/epoch_14.png\n",
      "Epoch 14 complete. Avg Train Loss: 0.009646\n"
     ]
    },
    {
     "name": "stderr",
     "output_type": "stream",
     "text": [
      "\n"
     ]
    },
    {
     "name": "stdout",
     "output_type": "stream",
     "text": [
      "Epoch 14 complete. Avg Validation Loss: 0.010061\n",
      "Checkpoint salvato in: ./checkpoints/ddim_unet_epoch14.pth\n",
      "[Epoch 15/20 | Step 50/827] Train Loss: 0.010859\n",
      "[Epoch 15/20 | Step 100/827] Train Loss: 0.004151\n",
      "[Epoch 15/20 | Step 150/827] Train Loss: 0.004450\n",
      "[Epoch 15/20 | Step 200/827] Train Loss: 0.004425\n",
      "[Epoch 15/20 | Step 250/827] Train Loss: 0.007472\n",
      "[Epoch 15/20 | Step 300/827] Train Loss: 0.012123\n",
      "[Epoch 15/20 | Step 350/827] Train Loss: 0.006424\n",
      "[Epoch 15/20 | Step 400/827] Train Loss: 0.025791\n",
      "[Epoch 15/20 | Step 450/827] Train Loss: 0.004870\n",
      "[Epoch 15/20 | Step 500/827] Train Loss: 0.001971\n",
      "[Epoch 15/20 | Step 550/827] Train Loss: 0.009180\n",
      "[Epoch 15/20 | Step 600/827] Train Loss: 0.006697\n",
      "[Epoch 15/20 | Step 650/827] Train Loss: 0.003493\n",
      "[Epoch 15/20 | Step 700/827] Train Loss: 0.014420\n",
      "[Epoch 15/20 | Step 750/827] Train Loss: 0.045649\n",
      "[Epoch 15/20 | Step 800/827] Train Loss: 0.022520\n",
      "[Epoch 15/20 | Step 827/827] Train Loss: 0.006912\n"
     ]
    },
    {
     "name": "stderr",
     "output_type": "stream",
     "text": [
      "Sampling DDIM: 100%|██████████| 1000/1000 [00:22<00:00, 44.76it/s]"
     ]
    },
    {
     "name": "stdout",
     "output_type": "stream",
     "text": [
      "Sample saved to ./checkpoints/epoch_15.png\n",
      "Epoch 15 complete. Avg Train Loss: 0.009611\n"
     ]
    },
    {
     "name": "stderr",
     "output_type": "stream",
     "text": [
      "\n"
     ]
    },
    {
     "name": "stdout",
     "output_type": "stream",
     "text": [
      "Epoch 15 complete. Avg Validation Loss: 0.010006\n",
      "Checkpoint salvato in: ./checkpoints/ddim_unet_epoch15.pth\n",
      "[Epoch 16/20 | Step 50/827] Train Loss: 0.006642\n",
      "[Epoch 16/20 | Step 100/827] Train Loss: 0.009026\n",
      "[Epoch 16/20 | Step 150/827] Train Loss: 0.006493\n",
      "[Epoch 16/20 | Step 200/827] Train Loss: 0.011011\n",
      "[Epoch 16/20 | Step 250/827] Train Loss: 0.024351\n",
      "[Epoch 16/20 | Step 300/827] Train Loss: 0.006188\n",
      "[Epoch 16/20 | Step 350/827] Train Loss: 0.027524\n",
      "[Epoch 16/20 | Step 400/827] Train Loss: 0.002492\n",
      "[Epoch 16/20 | Step 450/827] Train Loss: 0.013759\n",
      "[Epoch 16/20 | Step 500/827] Train Loss: 0.009147\n",
      "[Epoch 16/20 | Step 550/827] Train Loss: 0.013251\n",
      "[Epoch 16/20 | Step 600/827] Train Loss: 0.010140\n",
      "[Epoch 16/20 | Step 650/827] Train Loss: 0.016389\n",
      "[Epoch 16/20 | Step 700/827] Train Loss: 0.004574\n",
      "[Epoch 16/20 | Step 750/827] Train Loss: 0.034891\n",
      "[Epoch 16/20 | Step 800/827] Train Loss: 0.009608\n",
      "[Epoch 16/20 | Step 827/827] Train Loss: 0.009059\n"
     ]
    },
    {
     "name": "stderr",
     "output_type": "stream",
     "text": [
      "Sampling DDIM: 100%|██████████| 1000/1000 [00:22<00:00, 44.81it/s]"
     ]
    },
    {
     "name": "stdout",
     "output_type": "stream",
     "text": [
      "Sample saved to ./checkpoints/epoch_16.png\n",
      "Epoch 16 complete. Avg Train Loss: 0.009824\n"
     ]
    },
    {
     "name": "stderr",
     "output_type": "stream",
     "text": [
      "\n"
     ]
    },
    {
     "name": "stdout",
     "output_type": "stream",
     "text": [
      "Epoch 16 complete. Avg Validation Loss: 0.009145\n",
      "Checkpoint salvato in: ./checkpoints/ddim_unet_epoch16.pth\n",
      "[Epoch 17/20 | Step 50/827] Train Loss: 0.004981\n",
      "[Epoch 17/20 | Step 100/827] Train Loss: 0.010228\n",
      "[Epoch 17/20 | Step 150/827] Train Loss: 0.004394\n",
      "[Epoch 17/20 | Step 200/827] Train Loss: 0.009186\n",
      "[Epoch 17/20 | Step 250/827] Train Loss: 0.005473\n",
      "[Epoch 17/20 | Step 300/827] Train Loss: 0.006140\n",
      "[Epoch 17/20 | Step 350/827] Train Loss: 0.009030\n",
      "[Epoch 17/20 | Step 400/827] Train Loss: 0.004029\n",
      "[Epoch 17/20 | Step 450/827] Train Loss: 0.011965\n",
      "[Epoch 17/20 | Step 500/827] Train Loss: 0.008828\n",
      "[Epoch 17/20 | Step 550/827] Train Loss: 0.015144\n",
      "[Epoch 17/20 | Step 600/827] Train Loss: 0.008130\n",
      "[Epoch 17/20 | Step 650/827] Train Loss: 0.010766\n",
      "[Epoch 17/20 | Step 700/827] Train Loss: 0.020214\n",
      "[Epoch 17/20 | Step 750/827] Train Loss: 0.002809\n",
      "[Epoch 17/20 | Step 800/827] Train Loss: 0.007950\n",
      "[Epoch 17/20 | Step 827/827] Train Loss: 0.026913\n"
     ]
    },
    {
     "name": "stderr",
     "output_type": "stream",
     "text": [
      "Sampling DDIM: 100%|██████████| 1000/1000 [00:22<00:00, 44.67it/s]"
     ]
    },
    {
     "name": "stdout",
     "output_type": "stream",
     "text": [
      "Sample saved to ./checkpoints/epoch_17.png\n",
      "Epoch 17 complete. Avg Train Loss: 0.009399\n"
     ]
    },
    {
     "name": "stderr",
     "output_type": "stream",
     "text": [
      "\n"
     ]
    },
    {
     "name": "stdout",
     "output_type": "stream",
     "text": [
      "Epoch 17 complete. Avg Validation Loss: 0.009110\n",
      "Checkpoint salvato in: ./checkpoints/ddim_unet_epoch17.pth\n",
      "[Epoch 18/20 | Step 50/827] Train Loss: 0.005989\n",
      "[Epoch 18/20 | Step 100/827] Train Loss: 0.004724\n",
      "[Epoch 18/20 | Step 150/827] Train Loss: 0.004723\n",
      "[Epoch 18/20 | Step 200/827] Train Loss: 0.014882\n",
      "[Epoch 18/20 | Step 250/827] Train Loss: 0.012701\n",
      "[Epoch 18/20 | Step 300/827] Train Loss: 0.010502\n",
      "[Epoch 18/20 | Step 350/827] Train Loss: 0.005909\n",
      "[Epoch 18/20 | Step 400/827] Train Loss: 0.006420\n",
      "[Epoch 18/20 | Step 450/827] Train Loss: 0.005299\n",
      "[Epoch 18/20 | Step 500/827] Train Loss: 0.008561\n",
      "[Epoch 18/20 | Step 550/827] Train Loss: 0.016400\n",
      "[Epoch 18/20 | Step 600/827] Train Loss: 0.039454\n",
      "[Epoch 18/20 | Step 650/827] Train Loss: 0.023751\n",
      "[Epoch 18/20 | Step 700/827] Train Loss: 0.009158\n",
      "[Epoch 18/20 | Step 750/827] Train Loss: 0.009918\n",
      "[Epoch 18/20 | Step 800/827] Train Loss: 0.002573\n",
      "[Epoch 18/20 | Step 827/827] Train Loss: 0.003574\n"
     ]
    },
    {
     "name": "stderr",
     "output_type": "stream",
     "text": [
      "Sampling DDIM: 100%|██████████| 1000/1000 [00:22<00:00, 44.82it/s]"
     ]
    },
    {
     "name": "stdout",
     "output_type": "stream",
     "text": [
      "Sample saved to ./checkpoints/epoch_18.png\n",
      "Epoch 18 complete. Avg Train Loss: 0.009763\n"
     ]
    },
    {
     "name": "stderr",
     "output_type": "stream",
     "text": [
      "\n"
     ]
    },
    {
     "name": "stdout",
     "output_type": "stream",
     "text": [
      "Epoch 18 complete. Avg Validation Loss: 0.010060\n",
      "Checkpoint salvato in: ./checkpoints/ddim_unet_epoch18.pth\n",
      "[Epoch 19/20 | Step 50/827] Train Loss: 0.004944\n",
      "[Epoch 19/20 | Step 100/827] Train Loss: 0.004843\n",
      "[Epoch 19/20 | Step 150/827] Train Loss: 0.003270\n",
      "[Epoch 19/20 | Step 200/827] Train Loss: 0.018140\n",
      "[Epoch 19/20 | Step 250/827] Train Loss: 0.003717\n",
      "[Epoch 19/20 | Step 300/827] Train Loss: 0.003810\n",
      "[Epoch 19/20 | Step 350/827] Train Loss: 0.008227\n",
      "[Epoch 19/20 | Step 400/827] Train Loss: 0.013516\n",
      "[Epoch 19/20 | Step 450/827] Train Loss: 0.019846\n",
      "[Epoch 19/20 | Step 500/827] Train Loss: 0.003001\n",
      "[Epoch 19/20 | Step 550/827] Train Loss: 0.013326\n",
      "[Epoch 19/20 | Step 600/827] Train Loss: 0.010691\n",
      "[Epoch 19/20 | Step 650/827] Train Loss: 0.004212\n",
      "[Epoch 19/20 | Step 700/827] Train Loss: 0.005122\n",
      "[Epoch 19/20 | Step 750/827] Train Loss: 0.006029\n",
      "[Epoch 19/20 | Step 800/827] Train Loss: 0.008945\n",
      "[Epoch 19/20 | Step 827/827] Train Loss: 0.010520\n"
     ]
    },
    {
     "name": "stderr",
     "output_type": "stream",
     "text": [
      "Sampling DDIM: 100%|██████████| 1000/1000 [00:22<00:00, 44.72it/s]"
     ]
    },
    {
     "name": "stdout",
     "output_type": "stream",
     "text": [
      "Sample saved to ./checkpoints/epoch_19.png\n",
      "Epoch 19 complete. Avg Train Loss: 0.009532\n"
     ]
    },
    {
     "name": "stderr",
     "output_type": "stream",
     "text": [
      "\n"
     ]
    },
    {
     "name": "stdout",
     "output_type": "stream",
     "text": [
      "Epoch 19 complete. Avg Validation Loss: 0.009097\n",
      "Checkpoint salvato in: ./checkpoints/ddim_unet_epoch19.pth\n",
      "[Epoch 20/20 | Step 50/827] Train Loss: 0.008147\n",
      "[Epoch 20/20 | Step 100/827] Train Loss: 0.006396\n",
      "[Epoch 20/20 | Step 150/827] Train Loss: 0.019803\n",
      "[Epoch 20/20 | Step 200/827] Train Loss: 0.001707\n",
      "[Epoch 20/20 | Step 250/827] Train Loss: 0.008853\n",
      "[Epoch 20/20 | Step 300/827] Train Loss: 0.005909\n",
      "[Epoch 20/20 | Step 350/827] Train Loss: 0.018692\n",
      "[Epoch 20/20 | Step 400/827] Train Loss: 0.008198\n",
      "[Epoch 20/20 | Step 450/827] Train Loss: 0.009122\n",
      "[Epoch 20/20 | Step 500/827] Train Loss: 0.003767\n",
      "[Epoch 20/20 | Step 550/827] Train Loss: 0.004092\n",
      "[Epoch 20/20 | Step 600/827] Train Loss: 0.005603\n",
      "[Epoch 20/20 | Step 650/827] Train Loss: 0.011484\n",
      "[Epoch 20/20 | Step 700/827] Train Loss: 0.006822\n",
      "[Epoch 20/20 | Step 750/827] Train Loss: 0.006386\n",
      "[Epoch 20/20 | Step 800/827] Train Loss: 0.041114\n",
      "[Epoch 20/20 | Step 827/827] Train Loss: 0.002949\n"
     ]
    },
    {
     "name": "stderr",
     "output_type": "stream",
     "text": [
      "Sampling DDIM: 100%|██████████| 1000/1000 [00:22<00:00, 44.75it/s]"
     ]
    },
    {
     "name": "stdout",
     "output_type": "stream",
     "text": [
      "Sample saved to ./checkpoints/epoch_20.png\n",
      "Epoch 20 complete. Avg Train Loss: 0.009763\n"
     ]
    },
    {
     "name": "stderr",
     "output_type": "stream",
     "text": [
      "\n"
     ]
    },
    {
     "name": "stdout",
     "output_type": "stream",
     "text": [
      "Epoch 20 complete. Avg Validation Loss: 0.010842\n",
      "Checkpoint salvato in: ./checkpoints/ddim_unet_epoch20.pth\n"
     ]
    }
   ],
   "source": [
    "import os\n",
    "import torch\n",
    "import torch.nn.functional as F\n",
    "from torch.utils.data import DataLoader\n",
    "from torch.optim.lr_scheduler import CosineAnnealingLR\n",
    "from torch.amp import autocast, GradScaler\n",
    "from matplotlib import pyplot as plt\n",
    "from utils import NUM_TRAIN_TIMESTEPS, sample_images, AugmentedDataset, save_checkpoint\n",
    "\n",
    "# Config\n",
    "BATCH_SIZE = 16\n",
    "NUM_EPOCHS = 20\n",
    "IMAGE_EXTENSIONS = (\".png\", \".jpg\", \".jpeg\")\n",
    "\n",
    "\n",
    "# Dataset Preparation\n",
    "def count_images(root_dir, extensions=IMAGE_EXTENSIONS):\n",
    "    return sum(\n",
    "        fname.lower().endswith(extensions)\n",
    "        for _, _, filenames in os.walk(root_dir)\n",
    "        for fname in filenames\n",
    "    )\n",
    "\n",
    "\n",
    "print(f\"Training images before augmentation: {count_images(train_dir)}\")\n",
    "print(f\"Validation images before augmentation: {count_images(test_dir)}\")\n",
    "\n",
    "train_dataset = AugmentedDataset(root_dir=train_dir, image_size=IMAGE_SIZE)\n",
    "test_dataset = AugmentedDataset(root_dir=test_dir, image_size=IMAGE_SIZE)\n",
    "\n",
    "train_loader = DataLoader(\n",
    "    train_dataset, batch_size=BATCH_SIZE, shuffle=True, num_workers=4, pin_memory=True\n",
    ")\n",
    "test_loader = DataLoader(\n",
    "    test_dataset, batch_size=BATCH_SIZE, shuffle=False, num_workers=4, pin_memory=True\n",
    ")\n",
    "\n",
    "print(f\"Training samples: {len(train_loader.dataset)}\")\n",
    "print(f\"Validation samples: {len(test_loader.dataset)}\")\n",
    "\n",
    "# Scheduler and Model Setup\n",
    "noise_scheduler = DDPMScheduler(num_train_timesteps=NUM_TRAIN_TIMESTEPS)\n",
    "ddim_scheduler = DDIMScheduler(\n",
    "    beta_start=noise_scheduler.config.beta_start,\n",
    "    beta_end=noise_scheduler.config.beta_end,\n",
    "    beta_schedule=noise_scheduler.config.beta_schedule,\n",
    "    clip_sample=False,\n",
    ")\n",
    "ddim_scheduler.set_timesteps(NUM_TRAIN_TIMESTEPS)\n",
    "\n",
    "model = torch.compile(model)\n",
    "scaler = GradScaler(device=DEVICE)\n",
    "scheduler = CosineAnnealingLR(optimizer, T_max=NUM_EPOCHS, eta_min=1e-6)\n",
    "\n",
    "# Training Loop\n",
    "train_losses, val_losses = [], []\n",
    "\n",
    "print(\n",
    "    f\"Training on {DEVICE} | Batch Size: {BATCH_SIZE} | Epochs: {NUM_EPOCHS} | Starting at epoch {start_epoch}\"\n",
    ")\n",
    "\n",
    "for epoch in range(1, NUM_EPOCHS + 1):\n",
    "    model.train()\n",
    "    total_train_loss = 0.0\n",
    "\n",
    "    for step, (images, _) in enumerate(train_loader, 1):\n",
    "        images = images.to(DEVICE)\n",
    "        noise = torch.randn_like(images)\n",
    "        timesteps = torch.randint(\n",
    "            0, NUM_TRAIN_TIMESTEPS, (images.size(0),), device=DEVICE\n",
    "        )\n",
    "\n",
    "        optimizer.zero_grad()\n",
    "        with autocast(device_type=DEVICE.type, enabled=True):\n",
    "            noisy_images = noise_scheduler.add_noise(images, noise, timesteps)\n",
    "            noise_pred = model(noisy_images, timesteps).sample\n",
    "            loss = F.mse_loss(noise_pred, noise)\n",
    "\n",
    "        scaler.scale(loss).backward()\n",
    "        scaler.step(optimizer)\n",
    "        scaler.update()\n",
    "        scheduler.step()\n",
    "\n",
    "        total_train_loss += loss.item()\n",
    "\n",
    "        if step % 50 == 0 or step == len(train_loader):\n",
    "            print(\n",
    "                f\"[Epoch {epoch}/{NUM_EPOCHS} | Step {step}/{len(train_loader)}] Train Loss: {loss.item():.6f}\"\n",
    "            )\n",
    "\n",
    "        # if step % (len(train_loader) // 3) == 0:\n",
    "        #     print(f\"Reached step {step} of epoch {epoch}. Saving sample image and weights.\")\n",
    "        #     sample_images(\n",
    "        #         output_path=f\"{model_save_dir}/epoch_{epoch + start_epoch}_step_{step}.png\",\n",
    "        #         num_steps=NUM_TRAIN_TIMESTEPS,\n",
    "        #         DEVICE=DEVICE,\n",
    "        #         IMAGE_SIZE=IMAGE_SIZE,\n",
    "        #         model=model,\n",
    "        #         ddim_scheduler=ddim_scheduler,\n",
    "        #     )\n",
    "        #     ckpt_path = os.path.join(\n",
    "        #         model_save_dir, f\"ddim_unet_epoch{epoch + start_epoch}_step{step}.pth\"\n",
    "        #     )\n",
    "        #     save_checkpoint(\n",
    "        #         model=model,\n",
    "        #         optimizer=optimizer,\n",
    "        #         epoch=epoch + start_epoch,\n",
    "        #         path=ckpt_path,\n",
    "        #     )\n",
    "\n",
    "    sample_images(\n",
    "        output_path=f\"{model_save_dir}/epoch_{epoch + start_epoch}.png\",\n",
    "        num_steps=NUM_TRAIN_TIMESTEPS,\n",
    "        DEVICE=DEVICE,\n",
    "        IMAGE_SIZE=IMAGE_SIZE,\n",
    "        model=model,\n",
    "        ddim_scheduler=ddim_scheduler,\n",
    "    )\n",
    "\n",
    "    avg_train_loss = total_train_loss / len(train_loader)\n",
    "    train_losses.append(avg_train_loss)\n",
    "    print(f\"Epoch {epoch} complete. Avg Train Loss: {avg_train_loss:.6f}\")\n",
    "\n",
    "    # Validation\n",
    "    model.eval()\n",
    "    total_val_loss = 0.0\n",
    "\n",
    "    with torch.no_grad():\n",
    "        for images, _ in test_loader:\n",
    "            images = images.to(DEVICE)\n",
    "            noise = torch.randn_like(images)\n",
    "            timesteps = torch.randint(\n",
    "                0, NUM_TRAIN_TIMESTEPS, (images.size(0),), device=DEVICE\n",
    "            )\n",
    "\n",
    "            with autocast(device_type=DEVICE.type, enabled=True):\n",
    "                noisy_images = noise_scheduler.add_noise(images, noise, timesteps)\n",
    "                noise_pred = model(noisy_images, timesteps).sample\n",
    "                total_val_loss += F.mse_loss(noise_pred, noise).item()\n",
    "\n",
    "    avg_val_loss = total_val_loss / len(test_loader)\n",
    "    val_losses.append(avg_val_loss)\n",
    "    print(f\"Epoch {epoch} complete. Avg Validation Loss: {avg_val_loss:.6f}\")\n",
    "\n",
    "    ckpt_path = os.path.join(\n",
    "        model_save_dir, f\"ddim_unet_epoch{epoch + start_epoch}.pth\"\n",
    "    )\n",
    "    save_checkpoint(\n",
    "        model=model,\n",
    "        optimizer=optimizer,\n",
    "        epoch=epoch + start_epoch,\n",
    "        path=ckpt_path,\n",
    "    )"
   ]
  },
  {
   "cell_type": "code",
   "execution_count": 3,
   "id": "f3cb12c0",
   "metadata": {},
   "outputs": [
    {
     "data": {
      "image/png": "[encoded data removed]",
      "text/plain": [
       "<Figure size 800x500 with 1 Axes>"
      ]
     },
     "metadata": {},
     "output_type": "display_data"
    }
   ],
   "source": [
    "import os\n",
    "import numpy as np\n",
    "\n",
    "# Path to the loss history file\n",
    "history_file = os.path.join(model_save_dir, \"loss_history.txt\")\n",
    "\n",
    "# Load existing history if it exists\n",
    "all_train_losses = []\n",
    "all_val_losses = []\n",
    "\n",
    "if os.path.exists(history_file):\n",
    "    with open(history_file, \"r\") as f:\n",
    "        lines = f.readlines()[1:]  # Skip header\n",
    "        for line in lines:\n",
    "            _, train_loss, val_loss = line.strip().split(\"\\t\")\n",
    "            all_train_losses.append(float(train_loss))\n",
    "            all_val_losses.append(float(val_loss))\n",
    "\n",
    "# Append current session's losses\n",
    "all_train_losses.extend(train_losses)\n",
    "all_val_losses.extend(val_losses)\n",
    "\n",
    "# Save updated history\n",
    "with open(history_file, \"w\") as f:\n",
    "    f.write(\"Epoch\\tTrain Loss\\tValidation Loss\\n\")\n",
    "    for i, (tr, vl) in enumerate(zip(all_train_losses, all_val_losses), 1):\n",
    "        f.write(f\"{i}\\t{tr:.6f}\\t{vl:.6f}\\n\")\n",
    "\n",
    "# Plot full loss history\n",
    "plt.figure(figsize=(8, 5))\n",
    "plt.plot(range(1, len(all_train_losses) + 1), all_train_losses, label=\"Train Loss\")\n",
    "plt.plot(range(1, len(all_val_losses) + 1), all_val_losses, label=\"Validation Loss\")\n",
    "plt.xlabel(\"Epoch\")\n",
    "plt.ylabel(\"MSE Loss\")\n",
    "plt.title(\"Train vs Validation Loss Over Time\")\n",
    "plt.legend()\n",
    "plt.grid(True)\n",
    "plt.tight_layout()\n",
    "plt.show()"
   ]
  },
  {
   "cell_type": "code",
   "execution_count": 4,
   "id": "c7758062",
   "metadata": {},
   "outputs": [
    {
     "name": "stderr",
     "output_type": "stream",
     "text": [
      "Sampling DDIM: 100%|██████████| 1000/1000 [00:22<00:00, 44.48it/s]\n"
     ]
    },
    {
     "name": "stdout",
     "output_type": "stream",
     "text": [
      "Sample saved to result/ddim_sample_epoch20_0.png\n"
     ]
    },
    {
     "name": "stderr",
     "output_type": "stream",
     "text": [
      "Sampling DDIM: 100%|██████████| 1000/1000 [00:22<00:00, 44.61it/s]\n"
     ]
    },
    {
     "name": "stdout",
     "output_type": "stream",
     "text": [
      "Sample saved to result/ddim_sample_epoch20_1.png\n"
     ]
    },
    {
     "name": "stderr",
     "output_type": "stream",
     "text": [
      "Sampling DDIM: 100%|██████████| 1000/1000 [00:22<00:00, 44.96it/s]\n"
     ]
    },
    {
     "name": "stdout",
     "output_type": "stream",
     "text": [
      "Sample saved to result/ddim_sample_epoch20_2.png\n"
     ]
    },
    {
     "name": "stderr",
     "output_type": "stream",
     "text": [
      "Sampling DDIM: 100%|██████████| 1000/1000 [00:22<00:00, 44.74it/s]\n"
     ]
    },
    {
     "name": "stdout",
     "output_type": "stream",
     "text": [
      "Sample saved to result/ddim_sample_epoch20_3.png\n"
     ]
    },
    {
     "name": "stderr",
     "output_type": "stream",
     "text": [
      "Sampling DDIM: 100%|██████████| 1000/1000 [00:22<00:00, 44.65it/s]\n"
     ]
    },
    {
     "name": "stdout",
     "output_type": "stream",
     "text": [
      "Sample saved to result/ddim_sample_epoch20_4.png\n"
     ]
    },
    {
     "name": "stderr",
     "output_type": "stream",
     "text": [
      "Sampling DDIM: 100%|██████████| 1000/1000 [00:22<00:00, 44.62it/s]\n"
     ]
    },
    {
     "name": "stdout",
     "output_type": "stream",
     "text": [
      "Sample saved to result/ddim_sample_epoch20_5.png\n"
     ]
    },
    {
     "name": "stderr",
     "output_type": "stream",
     "text": [
      "Sampling DDIM: 100%|██████████| 1000/1000 [00:22<00:00, 44.54it/s]\n"
     ]
    },
    {
     "name": "stdout",
     "output_type": "stream",
     "text": [
      "Sample saved to result/ddim_sample_epoch20_6.png\n"
     ]
    },
    {
     "name": "stderr",
     "output_type": "stream",
     "text": [
      "Sampling DDIM: 100%|██████████| 1000/1000 [00:22<00:00, 44.66it/s]\n"
     ]
    },
    {
     "name": "stdout",
     "output_type": "stream",
     "text": [
      "Sample saved to result/ddim_sample_epoch20_7.png\n"
     ]
    },
    {
     "name": "stderr",
     "output_type": "stream",
     "text": [
      "Sampling DDIM: 100%|██████████| 1000/1000 [00:22<00:00, 44.78it/s]\n"
     ]
    },
    {
     "name": "stdout",
     "output_type": "stream",
     "text": [
      "Sample saved to result/ddim_sample_epoch20_8.png\n"
     ]
    },
    {
     "name": "stderr",
     "output_type": "stream",
     "text": [
      "Sampling DDIM: 100%|██████████| 1000/1000 [00:22<00:00, 44.95it/s]"
     ]
    },
    {
     "name": "stdout",
     "output_type": "stream",
     "text": [
      "Sample saved to result/ddim_sample_epoch20_9.png\n"
     ]
    },
    {
     "name": "stderr",
     "output_type": "stream",
     "text": [
      "\n"
     ]
    }
   ],
   "source": [
    "from diffusers import DDPMScheduler, DDIMScheduler\n",
    "from tqdm import tqdm\n",
    "from utils import sample_images\n",
    "\n",
    "# Imposta il numero di step di inferenza per DDIM (uguale a NUM_TRAIN_TIMESTEPS di default)\n",
    "# 6. Sampling example with DDIM\n",
    "noise_scheduler = DDPMScheduler(num_train_timesteps=NUM_TRAIN_TIMESTEPS)\n",
    "\n",
    "ddim_scheduler = DDIMScheduler(\n",
    "    beta_start=noise_scheduler.config.beta_start,\n",
    "    beta_end=noise_scheduler.config.beta_end,\n",
    "    beta_schedule=noise_scheduler.config.beta_schedule,\n",
    "    clip_sample=False,\n",
    ")\n",
    "\n",
    "ddim_scheduler.set_timesteps(NUM_TRAIN_TIMESTEPS)\n",
    "\n",
    "\n",
    "# Sample images\n",
    "for i in range(10):\n",
    "    sample_images(\n",
    "        output_path=f\"result/ddim_sample_epoch{epoch + start_epoch}_{i}.png\",\n",
    "        num_steps=NUM_TRAIN_TIMESTEPS,\n",
    "        DEVICE=DEVICE,\n",
    "        IMAGE_SIZE=IMAGE_SIZE,\n",
    "        model=model,\n",
    "        ddim_scheduler=ddim_scheduler,\n",
    "    )"
   ]
  }
 ],
 "metadata": {
  "kernelspec": {
   "display_name": ".venv",
   "language": "python",
   "name": "python3"
  },
  "language_info": {
   "codemirror_mode": {
    "name": "ipython",
    "version": 3
   },
   "file_extension": ".py",
   "mimetype": "text/x-python",
   "name": "python",
   "nbconvert_exporter": "python",
   "pygments_lexer": "ipython3",
   "version": "3.12.3"
  }
 },
 "nbformat": 4,
 "nbformat_minor": 5
}
