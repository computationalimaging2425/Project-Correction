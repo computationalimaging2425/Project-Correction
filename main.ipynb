{
 "cells": [
  {
   "cell_type": "markdown",
   "id": "5c425a2e",
   "metadata": {},
   "source": [
    "# Downsample images"
   ]
  },
  {
   "cell_type": "code",
   "execution_count": 3,
   "id": "94c15364",
   "metadata": {},
   "outputs": [
    {
     "name": "stdout",
     "output_type": "stream",
     "text": [
      "\n",
      "=== Downsampling split 'train' ===\n"
     ]
    },
    {
     "name": "stderr",
     "output_type": "stream",
     "text": [
      "Processing .: 0it [00:00, ?it/s]\n",
      "Processing C002: 100%|██████████| 278/278 [00:03<00:00, 81.27it/s]\n",
      "Processing C004: 100%|██████████| 359/359 [00:04<00:00, 85.60it/s]\n",
      "Processing C012:   4%|▍         | 14/349 [00:00<00:03, 88.33it/s]\n"
     ]
    },
    {
     "ename": "KeyboardInterrupt",
     "evalue": "",
     "output_type": "error",
     "traceback": [
      "\u001b[31m---------------------------------------------------------------------------\u001b[39m",
      "\u001b[31mKeyboardInterrupt\u001b[39m                         Traceback (most recent call last)",
      "\u001b[36mCell\u001b[39m\u001b[36m \u001b[39m\u001b[32mIn[3]\u001b[39m\u001b[32m, line 41\u001b[39m\n\u001b[32m     39\u001b[39m output_dir = os.path.join(output_root, split)\n\u001b[32m     40\u001b[39m \u001b[38;5;28mprint\u001b[39m(\u001b[33mf\u001b[39m\u001b[33m\"\u001b[39m\u001b[38;5;130;01m\\n\u001b[39;00m\u001b[33m=== Downsampling split \u001b[39m\u001b[33m'\u001b[39m\u001b[38;5;132;01m{\u001b[39;00msplit\u001b[38;5;132;01m}\u001b[39;00m\u001b[33m'\u001b[39m\u001b[33m ===\u001b[39m\u001b[33m\"\u001b[39m)\n\u001b[32m---> \u001b[39m\u001b[32m41\u001b[39m \u001b[43mdownsample_images\u001b[49m\u001b[43m(\u001b[49m\u001b[43minput_dir\u001b[49m\u001b[43m,\u001b[49m\u001b[43m \u001b[49m\u001b[43moutput_dir\u001b[49m\u001b[43m,\u001b[49m\u001b[43m \u001b[49m\u001b[43mtarget_size\u001b[49m\u001b[43m=\u001b[49m\u001b[43m(\u001b[49m\u001b[32;43m128\u001b[39;49m\u001b[43m,\u001b[49m\u001b[43m \u001b[49m\u001b[32;43m128\u001b[39;49m\u001b[43m)\u001b[49m\u001b[43m,\u001b[49m\u001b[43m)\u001b[49m\n",
      "\u001b[36mCell\u001b[39m\u001b[36m \u001b[39m\u001b[32mIn[3]\u001b[39m\u001b[32m, line 23\u001b[39m, in \u001b[36mdownsample_images\u001b[39m\u001b[34m(input_dir, output_dir, target_size)\u001b[39m\n\u001b[32m     21\u001b[39m input_path = os.path.join(root, filename)\n\u001b[32m     22\u001b[39m output_path = os.path.join(target_dir, filename)\n\u001b[32m---> \u001b[39m\u001b[32m23\u001b[39m \u001b[38;5;28;01mwith\u001b[39;00m \u001b[43mImage\u001b[49m\u001b[43m.\u001b[49m\u001b[43mopen\u001b[49m\u001b[43m(\u001b[49m\u001b[43minput_path\u001b[49m\u001b[43m)\u001b[49m \u001b[38;5;28;01mas\u001b[39;00m img:\n\u001b[32m     24\u001b[39m     img_resized = img.resize(target_size, Image.LANCZOS)\n\u001b[32m     25\u001b[39m     img_resized.save(output_path)\n",
      "\u001b[36mFile \u001b[39m\u001b[32mc:\\Users\\FeN30\\Desktop\\Project-Correction\\.venv\\Lib\\site-packages\\PIL\\Image.py:3469\u001b[39m, in \u001b[36mopen\u001b[39m\u001b[34m(fp, mode, formats)\u001b[39m\n\u001b[32m   3466\u001b[39m     filename = os.path.realpath(os.fspath(fp))\n\u001b[32m   3468\u001b[39m \u001b[38;5;28;01mif\u001b[39;00m filename:\n\u001b[32m-> \u001b[39m\u001b[32m3469\u001b[39m     fp = \u001b[43mbuiltins\u001b[49m\u001b[43m.\u001b[49m\u001b[43mopen\u001b[49m\u001b[43m(\u001b[49m\u001b[43mfilename\u001b[49m\u001b[43m,\u001b[49m\u001b[43m \u001b[49m\u001b[33;43m\"\u001b[39;49m\u001b[33;43mrb\u001b[39;49m\u001b[33;43m\"\u001b[39;49m\u001b[43m)\u001b[49m\n\u001b[32m   3470\u001b[39m     exclusive_fp = \u001b[38;5;28;01mTrue\u001b[39;00m\n\u001b[32m   3471\u001b[39m \u001b[38;5;28;01melse\u001b[39;00m:\n",
      "\u001b[31mKeyboardInterrupt\u001b[39m: "
     ]
    }
   ],
   "source": [
    "# Cell 1: Imports\n",
    "from PIL import Image\n",
    "import os\n",
    "from tqdm import tqdm\n",
    "\n",
    "# Cell 2: Function Definition\n",
    "def downsample_images(input_dir, output_dir, target_size=(128, 128)):\n",
    "    \"\"\"\n",
    "    Downsamples all images in input_dir (e sue sottocartelle) a target_size\n",
    "    e ricrea la struttura di directory corrispondente in output_dir.\n",
    "    \"\"\"\n",
    "    os.makedirs(output_dir, exist_ok=True)\n",
    "    \n",
    "    for root, dirs, files in os.walk(input_dir):\n",
    "        rel_path = os.path.relpath(root, input_dir)\n",
    "        target_dir = os.path.join(output_dir, rel_path)\n",
    "        os.makedirs(target_dir, exist_ok=True)\n",
    "        \n",
    "        for filename in tqdm(files, desc=f\"Processing {rel_path}\"):\n",
    "            if filename.lower().endswith(('.png', '.jpg', '.jpeg', '.bmp', '.tiff')):\n",
    "                input_path = os.path.join(root, filename)\n",
    "                output_path = os.path.join(target_dir, filename)\n",
    "                with Image.open(input_path) as img:\n",
    "                    img_resized = img.resize(target_size, Image.LANCZOS)\n",
    "                    img_resized.save(output_path)\n",
    "    \n",
    "    print(f\"All images from '{input_dir}' have been downsampled to {target_size} and saved under '{output_dir}'.\")\n",
    "\n",
    "\n",
    "# Cell 3: Batch Processing per Split\n",
    "target_size = (128, 128)\n",
    "raw_data_root = \"./raw_data\"\n",
    "output_root   = \"./resized_data/\" + f\"{target_size[0]}x{target_size[1]}\"\n",
    "os.makedirs(output_root, exist_ok=True)\n",
    "splits = [\"train\", \"test\"]\n",
    "\n",
    "for split in splits:\n",
    "    input_dir  = os.path.join(raw_data_root, split)\n",
    "    output_dir = os.path.join(output_root, split)\n",
    "    print(f\"\\n=== Downsampling split '{split}' ===\")\n",
    "    downsample_images(input_dir, output_dir, target_size=(128, 128),)\n"
   ]
  },
  {
   "cell_type": "markdown",
   "id": "7e6b7f9f",
   "metadata": {},
   "source": [
    "# Model and Training"
   ]
  },
  {
   "cell_type": "markdown",
   "id": "0b5a3da1",
   "metadata": {},
   "source": [
    "## Load the model"
   ]
  },
  {
   "cell_type": "code",
   "execution_count": 1,
   "id": "fc529bf9",
   "metadata": {},
   "outputs": [
    {
     "name": "stdout",
     "output_type": "stream",
     "text": [
      "No checkpoint found at checkpoints/ddim_unet_epoch5.pth, starting fresh.\n",
      "Model ddim_unet_epoch5.pth not found. Starting from scratch, loaded on cuda.\n"
     ]
    }
   ],
   "source": [
    "import os\n",
    "import torch\n",
    "import torch.nn.functional as F\n",
    "from torch.utils.data import DataLoader\n",
    "from torchvision import transforms, datasets\n",
    "from diffusers import UNet2DModel, DDPMScheduler, DDIMScheduler\n",
    "\n",
    "ON_COLAB = False  # Set to True if running on Google Colab\n",
    "\n",
    "# Configuration\n",
    "target_size_for_training = (128, 128)\n",
    "data_root = f\"./resized_data/{target_size_for_training[0]}x{target_size_for_training[1]}\"  # root directory containing 'train' and 'test' subfolders\n",
    "if ON_COLAB:\n",
    "    from google.colab import drive\n",
    "\n",
    "    drive.mount(\"/content/drive\")\n",
    "    data_root = \"/content/drive/MyDrive/Colab Notebooks/128x128_images\"  # Adjust this path as needed\n",
    "\n",
    "train_dir = os.path.join(data_root, \"train\")\n",
    "test_dir = os.path.join(data_root, \"test\")\n",
    "model_save_dir = \"checkpoints\"\n",
    "os.makedirs(model_save_dir, exist_ok=True)\n",
    "DEVICE = torch.device(\"cuda\" if torch.cuda.is_available() else \"cpu\")\n",
    "LEARNING_RATE = 1e-4\n",
    "IMAGE_SIZE = target_size_for_training[0]\n",
    "\n",
    "\n",
    "# 2. Define the UNet diffusion model\n",
    "from model_enrico import get_unet_model\n",
    "\n",
    "model = get_unet_model(\n",
    "    sample_size=IMAGE_SIZE,\n",
    "    in_channels=1,\n",
    "    out_channels=1,\n",
    "    layers_per_block=2,\n",
    "    block_out_channels=(64, 128, 256, 512),\n",
    "    down_block_types=(\"DownBlock2D\", \"DownBlock2D\", \"DownBlock2D\", \"AttnDownBlock2D\"),\n",
    "    up_block_types=(\"AttnUpBlock2D\", \"UpBlock2D\", \"UpBlock2D\", \"UpBlock2D\"),\n",
    ").to(DEVICE)\n",
    "\n",
    "# 4. Optimizer\n",
    "optimizer = torch.optim.Adam(model.parameters(), lr=LEARNING_RATE)\n",
    "\n",
    "\n",
    "# 5. Load the model checkpoint if available\n",
    "def load_checkpoint(ckpt_path, model, optimizer=None, device=torch.device(\"cpu\")):\n",
    "    loaded = False\n",
    "    if not os.path.exists(ckpt_path):\n",
    "        print(f\"No checkpoint found at {ckpt_path}, starting fresh.\")\n",
    "        return loaded, model, optimizer, 0\n",
    "\n",
    "    checkpoint = torch.load(ckpt_path, map_location=device)\n",
    "    model.load_state_dict(checkpoint[\"model\"])\n",
    "    model.to(device)\n",
    "    loaded = True\n",
    "    start_epoch = checkpoint.get(\"epoch\", 0)\n",
    "    if optimizer is not None and \"optimizer\" in checkpoint:\n",
    "        optimizer.load_state_dict(checkpoint[\"optimizer\"])\n",
    "    print(f\"Loaded checkpoint '{ckpt_path}' (epoch {start_epoch})\")\n",
    "    return loaded, model, optimizer, start_epoch\n",
    "\n",
    "\n",
    "# Load the model checkpoint\n",
    "ckpt = \"checkpoints/ddim_unet_epoch5.pth\"\n",
    "isModelLoadedFromCheckpoint, model, optimizer, start_epoch = load_checkpoint(\n",
    "    ckpt, model, optimizer, device=DEVICE\n",
    ")\n",
    "model.eval()\n",
    "if isModelLoadedFromCheckpoint:\n",
    "    print(f\"Model {ckpt.split('/')[-1]} loaded and moved to {DEVICE}.\")\n",
    "else:\n",
    "    print(f\"Model {ckpt.split('/')[-1]} not found. Starting from scratch, loaded on {DEVICE}.\")"
   ]
  },
  {
   "cell_type": "markdown",
   "id": "7803fcc0",
   "metadata": {},
   "source": [
    "## Training and validation"
   ]
  },
  {
   "cell_type": "code",
   "execution_count": null,
   "id": "4efcde23",
   "metadata": {},
   "outputs": [
    {
     "name": "stdout",
     "output_type": "stream",
     "text": [
      "Training on cuda with batch size 16 for 5 epochs.\n"
     ]
    },
    {
     "name": "stderr",
     "output_type": "stream",
     "text": [
      "C:\\Users\\FeN30\\AppData\\Local\\Temp\\ipykernel_20608\\1271630266.py:59: UserWarning: Converting a tensor with requires_grad=True to a scalar may lead to unexpected behavior.\n",
      "Consider using tensor.detach() first. (Triggered internally at C:\\actions-runner\\_work\\pytorch\\pytorch\\pytorch\\aten\\src\\ATen\\native\\Scalar.cpp:23.)\n",
      "  train_loss += loss.item()\n"
     ]
    },
    {
     "name": "stdout",
     "output_type": "stream",
     "text": [
      "[Epoch 1/5 | Step 50/207] Train Loss: 0.042086\n"
     ]
    }
   ],
   "source": [
    "BATCH_SIZE = 16\n",
    "NUM_EPOCHS = 5\n",
    "NUM_TRAIN_TIMESTEPS = 1000\n",
    "\n",
    "# 1. Data transforms and datasets\n",
    "def get_transforms(image_size):\n",
    "    return transforms.Compose(\n",
    "        [\n",
    "            transforms.Grayscale(num_output_channels=1),\n",
    "            transforms.Resize((image_size, image_size)),\n",
    "            transforms.ToTensor(),\n",
    "            transforms.Normalize([0.5], [0.5]),  # scale to [-1,1]\n",
    "        ]\n",
    "    )\n",
    "\n",
    "\n",
    "train_dataset = datasets.ImageFolder(\n",
    "    root=train_dir, transform=get_transforms(IMAGE_SIZE)\n",
    ")\n",
    "test_dataset = datasets.ImageFolder(root=test_dir, transform=get_transforms(IMAGE_SIZE))\n",
    "\n",
    "train_loader = DataLoader(\n",
    "    train_dataset, batch_size=BATCH_SIZE, shuffle=True, num_workers=4, pin_memory=True\n",
    ")\n",
    "test_loader = DataLoader(\n",
    "    test_dataset, batch_size=BATCH_SIZE, shuffle=False, num_workers=4, pin_memory=True\n",
    ")\n",
    "\n",
    "# 3. Schedulers\n",
    "noise_scheduler = DDPMScheduler(num_train_timesteps=NUM_TRAIN_TIMESTEPS)\n",
    "ddim_scheduler = DDIMScheduler(\n",
    "    beta_start=noise_scheduler.config.beta_start,\n",
    "    beta_end=noise_scheduler.config.beta_end,\n",
    "    beta_schedule=noise_scheduler.config.beta_schedule,\n",
    "    clip_sample=False\n",
    ")\n",
    "\n",
    "# 5. Training + Validation Loop\n",
    "print(f\"Training on {DEVICE} with batch size {BATCH_SIZE} for {NUM_EPOCHS} epochs.\")\n",
    "for epoch in range(1, NUM_EPOCHS + 1):\n",
    "    model.train()\n",
    "    train_loss = 0.0\n",
    "    for step, (images, _) in enumerate(train_loader, 1):\n",
    "        images = images.to(DEVICE)\n",
    "        batch_size = images.size(0)\n",
    "\n",
    "        # sample random noise and timesteps\n",
    "        noise = torch.randn_like(images)\n",
    "        timesteps = torch.randint(0, NUM_TRAIN_TIMESTEPS, (batch_size,), device=DEVICE)\n",
    "\n",
    "        # add noise\n",
    "        noisy_images = noise_scheduler.add_noise(images, noise, timesteps)\n",
    "\n",
    "        # predict noise\n",
    "        noise_pred = model(noisy_images, timesteps).sample\n",
    "\n",
    "        # loss\n",
    "        loss = F.mse_loss(noise_pred, noise)\n",
    "        train_loss += loss.item()\n",
    "\n",
    "        optimizer.zero_grad()\n",
    "        loss.backward()\n",
    "        optimizer.step()\n",
    "\n",
    "        if step % 50 == 0 or step == len(train_loader):\n",
    "            print(f\"[Epoch {epoch}/{NUM_EPOCHS} | Step {step}/{len(train_loader)}] Train Loss: {loss.item():.6f}\")\n",
    "\n",
    "    avg_train_loss = train_loss / len(train_loader)\n",
    "    print(f\"==> Epoch {epoch} Done. Avg Train Loss: {avg_train_loss:.6f}\")\n",
    "\n",
    "    # Validation\n",
    "    model.eval()\n",
    "    val_loss = 0.0\n",
    "    with torch.no_grad():\n",
    "        for images, _ in test_loader:\n",
    "            images = images.to(DEVICE)\n",
    "            batch_size = images.size(0)\n",
    "            noise = torch.randn_like(images)\n",
    "            timesteps = torch.randint(0, NUM_TRAIN_TIMESTEPS, (batch_size,), device=DEVICE)\n",
    "            noisy_images = noise_scheduler.add_noise(images, noise, timesteps)\n",
    "            noise_pred = model(noisy_images, timesteps).sample\n",
    "            val_loss += F.mse_loss(noise_pred, noise).item()\n",
    "\n",
    "    avg_val_loss = val_loss / len(test_loader)\n",
    "    print(f\"==> Epoch {epoch} Done. Avg Validation Loss: {avg_val_loss:.6f}\")\n",
    "\n",
    "    # Save checkpoint\n",
    "    ckpt_path = os.path.join(model_save_dir, f\"ddim_unet_epoch{epoch}.pth\")\n",
    "    torch.save({\n",
    "        \"model\": model.state_dict(),\n",
    "        \"optimizer\": optimizer.state_dict(),\n",
    "        \"epoch\": epoch,\n",
    "    }, ckpt_path)\n",
    "\n",
    "    print(f\"Saved checkpoint: {ckpt_path}\\n\")\n"
   ]
  },
  {
   "cell_type": "code",
   "execution_count": 4,
   "id": "c7758062",
   "metadata": {},
   "outputs": [
    {
     "ename": "NameError",
     "evalue": "name 'NUM_TRAIN_TIMESTEPS' is not defined",
     "output_type": "error",
     "traceback": [
      "\u001b[1;31m---------------------------------------------------------------------------\u001b[0m",
      "\u001b[1;31mNameError\u001b[0m                                 Traceback (most recent call last)",
      "Cell \u001b[1;32mIn[4], line 5\u001b[0m\n\u001b[0;32m      1\u001b[0m \u001b[38;5;28;01mfrom\u001b[39;00m\u001b[38;5;250m \u001b[39m\u001b[38;5;21;01mdiffusers\u001b[39;00m\u001b[38;5;250m \u001b[39m\u001b[38;5;28;01mimport\u001b[39;00m DDPMScheduler, DDIMScheduler\n\u001b[0;32m      3\u001b[0m \u001b[38;5;66;03m# Imposta il numero di step di inferenza per DDIM (uguale a NUM_TRAIN_TIMESTEPS di default)\u001b[39;00m\n\u001b[0;32m      4\u001b[0m \u001b[38;5;66;03m# 6. Sampling example with DDIM\u001b[39;00m\n\u001b[1;32m----> 5\u001b[0m noise_scheduler \u001b[38;5;241m=\u001b[39m DDPMScheduler(num_train_timesteps\u001b[38;5;241m=\u001b[39m\u001b[43mNUM_TRAIN_TIMESTEPS\u001b[49m)\n\u001b[0;32m      7\u001b[0m ddim_scheduler \u001b[38;5;241m=\u001b[39m DDIMScheduler(\n\u001b[0;32m      8\u001b[0m     beta_start\u001b[38;5;241m=\u001b[39mnoise_scheduler\u001b[38;5;241m.\u001b[39mbeta_start,\n\u001b[0;32m      9\u001b[0m     beta_end\u001b[38;5;241m=\u001b[39mnoise_scheduler\u001b[38;5;241m.\u001b[39mbeta_end,\n\u001b[0;32m     10\u001b[0m     beta_schedule\u001b[38;5;241m=\u001b[39mnoise_scheduler\u001b[38;5;241m.\u001b[39mbeta_schedule,\n\u001b[0;32m     11\u001b[0m     clip_sample\u001b[38;5;241m=\u001b[39m\u001b[38;5;28;01mFalse\u001b[39;00m\n\u001b[0;32m     12\u001b[0m )\n\u001b[0;32m     14\u001b[0m ddim_scheduler\u001b[38;5;241m.\u001b[39mset_timesteps(NUM_TRAIN_TIMESTEPS)\n",
      "\u001b[1;31mNameError\u001b[0m: name 'NUM_TRAIN_TIMESTEPS' is not defined"
     ]
    }
   ],
   "source": [
    "\n",
    "from diffusers import DDPMScheduler, DDIMScheduler\n",
    "\n",
    "# Imposta il numero di step di inferenza per DDIM (uguale a NUM_TRAIN_TIMESTEPS di default)\n",
    "# 6. Sampling example with DDIM\n",
    "noise_scheduler = DDPMScheduler(num_train_timesteps=NUM_TRAIN_TIMESTEPS)\n",
    "\n",
    "ddim_scheduler = DDIMScheduler(\n",
    "    beta_start=noise_scheduler.beta_start,\n",
    "    beta_end=noise_scheduler.beta_end,\n",
    "    beta_schedule=noise_scheduler.beta_schedule,\n",
    "    clip_sample=False\n",
    ")\n",
    "\n",
    "ddim_scheduler.set_timesteps(NUM_TRAIN_TIMESTEPS)\n",
    "def sample_images(output_path=\"result/ddim_sample.png\", num_steps=NUM_TRAIN_TIMESTEPS):\n",
    "    os.makedirs(os.path.dirname(output_path), exist_ok=True)\n",
    "    model.eval()\n",
    "    with torch.no_grad():\n",
    "        sample = torch.randn((1, 3, IMAGE_SIZE, IMAGE_SIZE), device=DEVICE)\n",
    "        for t in reversed(range(0, num_steps)):\n",
    "            noise_pred = model(sample, torch.tensor([t], device=DEVICE)).sample\n",
    "            sample = ddim_scheduler.step(noise_pred, t, sample).prev_sample\n",
    "\n",
    "        # denormalize and save\n",
    "        final = (sample.clamp(-1, 1) + 1) / 2\n",
    "        transforms.ToPILImage()(final.squeeze(0).cpu()).save(output_path)\n",
    "        print(f\"Sample saved to {output_path}\")\n",
    "\n",
    "sample_images()"
   ]
  }
 ],
 "metadata": {
  "kernelspec": {
   "display_name": ".venv",
   "language": "python",
   "name": "python3"
  },
  "language_info": {
   "codemirror_mode": {
    "name": "ipython",
    "version": 3
   },
   "file_extension": ".py",
   "mimetype": "text/x-python",
   "name": "python",
   "nbconvert_exporter": "python",
   "pygments_lexer": "ipython3",
   "version": "3.12.10"
  }
 },
 "nbformat": 4,
 "nbformat_minor": 5
}
