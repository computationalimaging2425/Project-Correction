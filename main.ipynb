{
 "cells": [
  {
   "cell_type": "markdown",
   "id": "7e6b7f9f",
   "metadata": {},
   "source": [
    "# Model and Training"
   ]
  },
  {
   "cell_type": "markdown",
   "id": "0b5a3da1",
   "metadata": {},
   "source": [
    "## Load the model"
   ]
  },
  {
   "cell_type": "code",
   "execution_count": 1,
   "id": "fc529bf9",
   "metadata": {},
   "outputs": [
    {
     "name": "stderr",
     "output_type": "stream",
     "text": [
      "/home/enrico/Desktop/Project-Correction/.venv/lib/python3.12/site-packages/tqdm/auto.py:21: TqdmWarning: IProgress not found. Please update jupyter and ipywidgets. See https://ipywidgets.readthedocs.io/en/stable/user_install.html\n",
      "  from .autonotebook import tqdm as notebook_tqdm\n"
     ]
    },
    {
     "name": "stdout",
     "output_type": "stream",
     "text": [
      "Model Summary:\n",
      "Model Type: UNet2DModel\n",
      "Number of Parameters: 15722625\n",
      "Device: cuda:0\n",
      "Loaded optimizer state from checkpoint 'checkpoints/ddim_unet_epoch20.pth'\n",
      "Loaded checkpoint 'checkpoints/ddim_unet_epoch20.pth' (epoch 20)\n",
      "Model ddim_unet_epoch20.pth loaded and moved to cuda, starting from epoch 20.\n"
     ]
    }
   ],
   "source": [
    "import os\n",
    "import torch\n",
    "import torch.nn.functional as F\n",
    "from torch.utils.data import DataLoader\n",
    "from torchvision import transforms, datasets\n",
    "from diffusers import UNet2DModel, DDPMScheduler, DDIMScheduler\n",
    "ON_COLAB = False  # Set to True if running on Google Colab\n",
    "if ON_COLAB:\n",
    "    !pip install dotenv\n",
    "    \n",
    "from dotenv import load_dotenv\n",
    "\n",
    "# Load environment variables from .env file\n",
    "load_dotenv()\n",
    "\n",
    "\n",
    "# Configuration\n",
    "target_size_for_training = (128, 128)\n",
    "data_root = f\"./raw_data\"  # root directory containing 'train' and 'test' subfolders\n",
    "if ON_COLAB:\n",
    "    from google.colab import drive\n",
    "\n",
    "    drive.mount(os.getenv(\"GOOGLE_DRIVE_CONTENT_PATH\", \"/content/drive\"))\n",
    "    data_root = os.getenv(\"GOOGLE_DRIVE_PATH_RESIZED\", data_root)\n",
    "\n",
    "train_dir = os.path.join(data_root, \"train\")\n",
    "test_dir = os.path.join(data_root, \"test\")\n",
    "model_save_dir = os.getenv(\"MODEL_SAVE_DIR\", \"./checkpoints\")\n",
    "os.makedirs(model_save_dir, exist_ok=True)\n",
    "DEVICE = torch.device(\"cuda\" if torch.cuda.is_available() else \"cpu\")\n",
    "LEARNING_RATE = 1e-4\n",
    "IMAGE_SIZE = target_size_for_training[0]\n",
    "\n",
    "# 2. Define the UNet diffusion model\n",
    "from model import get_unet_model\n",
    "\n",
    "model = get_unet_model(\n",
    "    sample_size=IMAGE_SIZE,\n",
    "    in_channels=1,\n",
    "    out_channels=1,\n",
    "    layers_per_block=2,\n",
    "    block_out_channels=(64, 128, 256),\n",
    "    down_block_types=(\"DownBlock2D\", \"DownBlock2D\", \"AttnDownBlock2D\"),\n",
    "    up_block_types=(\"AttnUpBlock2D\", \"UpBlock2D\", \"UpBlock2D\"),\n",
    "    dropout=0.1,\n",
    ").to(DEVICE)\n",
    "\n",
    "# Print model summary\n",
    "def print_model_summary(model):\n",
    "    print(\"Model Summary:\")\n",
    "    print(f\"Model Type: {type(model).__name__}\")\n",
    "    print(f\"Number of Parameters: {sum(p.numel() for p in model.parameters())}\")\n",
    "    print(f\"Device: {next(model.parameters()).device}\")\n",
    "\n",
    "print_model_summary(model)\n",
    "\n",
    "\n",
    "# 5. Load the model checkpoint if available\n",
    "def load_checkpoint(ckpt_path, model, optimizer=None, device=torch.device(\"cpu\")):\n",
    "    loaded = False\n",
    "    if not os.path.exists(ckpt_path):\n",
    "        print(f\"No checkpoint found at {ckpt_path}, starting fresh.\")\n",
    "        return loaded, model, optimizer, 0\n",
    "\n",
    "    checkpoint = torch.load(ckpt_path, map_location=device)\n",
    "    \n",
    "    # Rimuovi il prefisso \"_orig_mod.\" dalle chiavi se presente\n",
    "    new_state_dict = {}\n",
    "    for k, v in checkpoint[\"model\"].items():\n",
    "        if k.startswith(\"_orig_mod.\"):\n",
    "            new_k = k.replace(\"_orig_mod.\", \"\")\n",
    "            new_state_dict[new_k] = v\n",
    "        else:\n",
    "            new_state_dict[k] = v\n",
    "    \n",
    "    model.load_state_dict(new_state_dict)\n",
    "    model.to(device)\n",
    "    loaded = True\n",
    "    start_epoch = checkpoint.get(\"epoch\", 0)\n",
    "    \n",
    "    if optimizer is not None and \"optimizer\" in checkpoint:\n",
    "        optimizer.load_state_dict(checkpoint[\"optimizer\"])\n",
    "        print(f\"Loaded optimizer state from checkpoint '{ckpt_path}'\")\n",
    "    else:\n",
    "        print(\"Optimizer state not found in checkpoint, starting with a new optimizer.\")\n",
    "    \n",
    "    print(f\"Loaded checkpoint '{ckpt_path}' (epoch {start_epoch})\")\n",
    "    return loaded, model, optimizer, start_epoch\n",
    "\n",
    "\n",
    "WEIGHT_DECAY = 1e-5  # weight decay for regularization\n",
    "optimizer = torch.optim.Adam(\n",
    "    model.parameters(), lr=LEARNING_RATE, weight_decay=WEIGHT_DECAY\n",
    ")\n",
    "\n",
    "# Load the model checkpoint\n",
    "ckpt = \"checkpoints/ddim_unet_epoch20.pth\"\n",
    "isModelLoadedFromCheckpoint, model, optimizer, start_epoch = load_checkpoint(\n",
    "    ckpt, model, optimizer, device=DEVICE\n",
    ")\n",
    "model.eval()\n",
    "if isModelLoadedFromCheckpoint:\n",
    "    print(f\"Model {ckpt.split('/')[-1]} loaded and moved to {DEVICE}, starting from epoch {start_epoch}.\")\n",
    "else:\n",
    "    print(f\"Model {ckpt.split('/')[-1]} not found. Starting from scratch, loaded on {DEVICE}, starting from epoch {start_epoch}.\")\n",
    "\n",
    "train_losses, val_losses = [], []"
   ]
  },
  {
   "cell_type": "markdown",
   "id": "7803fcc0",
   "metadata": {},
   "source": [
    "## Training and validation"
   ]
  },
  {
   "cell_type": "code",
   "execution_count": null,
   "id": "4efcde23",
   "metadata": {},
   "outputs": [
    {
     "name": "stdout",
     "output_type": "stream",
     "text": [
      "Training images before augmentation: 3306\n",
      "Validation images before augmentation: 327\n",
      "Training samples: 13224\n",
      "Validation samples: 1308\n",
      "Training on cuda | Batch Size: 16 | Epochs: 20 | Starting at epoch 20\n"
     ]
    },
    {
     "name": "stderr",
     "output_type": "stream",
     "text": [
      "W0514 18:01:22.155000 5825 torch/_inductor/utils.py:1250] [0/0] Not enough SMs to use max_autotune_gemm mode\n"
     ]
    },
    {
     "name": "stdout",
     "output_type": "stream",
     "text": [
      "[Epoch 1/20 | Step 50/827] Train Loss: 0.003319\n",
      "[Epoch 1/20 | Step 100/827] Train Loss: 0.007456\n",
      "[Epoch 1/20 | Step 150/827] Train Loss: 0.020998\n",
      "[Epoch 1/20 | Step 200/827] Train Loss: 0.015018\n",
      "[Epoch 1/20 | Step 250/827] Train Loss: 0.011233\n",
      "[Epoch 1/20 | Step 300/827] Train Loss: 0.010936\n",
      "[Epoch 1/20 | Step 350/827] Train Loss: 0.009657\n",
      "[Epoch 1/20 | Step 400/827] Train Loss: 0.002667\n",
      "[Epoch 1/20 | Step 450/827] Train Loss: 0.007183\n",
      "[Epoch 1/20 | Step 500/827] Train Loss: 0.017635\n",
      "[Epoch 1/20 | Step 550/827] Train Loss: 0.004476\n",
      "[Epoch 1/20 | Step 600/827] Train Loss: 0.004738\n",
      "[Epoch 1/20 | Step 650/827] Train Loss: 0.004791\n",
      "[Epoch 1/20 | Step 700/827] Train Loss: 0.002149\n",
      "[Epoch 1/20 | Step 750/827] Train Loss: 0.006342\n",
      "[Epoch 1/20 | Step 800/827] Train Loss: 0.009252\n",
      "[Epoch 1/20 | Step 827/827] Train Loss: 0.005874\n"
     ]
    },
    {
     "name": "stderr",
     "output_type": "stream",
     "text": [
      "Sampling DDIM:   0%|          | 0/1000 [00:00<?, ?it/s]/home/enrico/Desktop/Project-Correction/.venv/lib/python3.12/site-packages/torch/_inductor/compile_fx.py:236: UserWarning: TensorFloat32 tensor cores for float32 matrix multiplication available but not enabled. Consider setting `torch.set_float32_matmul_precision('high')` for better performance.\n",
      "  warnings.warn(\n",
      "Sampling DDIM: 100%|██████████| 1000/1000 [00:41<00:00, 24.07it/s]"
     ]
    },
    {
     "name": "stdout",
     "output_type": "stream",
     "text": [
      "Sample saved to ./checkpoints/epoch_21.png\n",
      "Epoch 1 complete. Avg Train Loss: 0.009116\n"
     ]
    },
    {
     "name": "stderr",
     "output_type": "stream",
     "text": [
      "\n"
     ]
    },
    {
     "name": "stdout",
     "output_type": "stream",
     "text": [
      "Epoch 1 complete. Avg Validation Loss: 0.009299\n",
      "Checkpoint salvato in: ./checkpoints/ddim_unet_epoch21.pth\n",
      "[Epoch 2/20 | Step 50/827] Train Loss: 0.007645\n",
      "[Epoch 2/20 | Step 100/827] Train Loss: 0.007604\n",
      "[Epoch 2/20 | Step 150/827] Train Loss: 0.011446\n",
      "[Epoch 2/20 | Step 200/827] Train Loss: 0.009895\n",
      "[Epoch 2/20 | Step 250/827] Train Loss: 0.018209\n",
      "[Epoch 2/20 | Step 300/827] Train Loss: 0.007563\n",
      "[Epoch 2/20 | Step 350/827] Train Loss: 0.011225\n",
      "[Epoch 2/20 | Step 400/827] Train Loss: 0.002435\n",
      "[Epoch 2/20 | Step 450/827] Train Loss: 0.003005\n",
      "[Epoch 2/20 | Step 500/827] Train Loss: 0.003537\n",
      "[Epoch 2/20 | Step 550/827] Train Loss: 0.006033\n",
      "[Epoch 2/20 | Step 600/827] Train Loss: 0.001758\n"
     ]
    },
    {
     "ename": "KeyboardInterrupt",
     "evalue": "",
     "output_type": "error",
     "traceback": [
      "\u001b[31m---------------------------------------------------------------------------\u001b[39m",
      "\u001b[31mKeyboardInterrupt\u001b[39m                         Traceback (most recent call last)",
      "\u001b[36mCell\u001b[39m\u001b[36m \u001b[39m\u001b[32mIn[2]\u001b[39m\u001b[32m, line 80\u001b[39m\n\u001b[32m     77\u001b[39m     loss = F.mse_loss(noise_pred, noise)\n\u001b[32m     79\u001b[39m scaler.scale(loss).backward()\n\u001b[32m---> \u001b[39m\u001b[32m80\u001b[39m \u001b[43mscaler\u001b[49m\u001b[43m.\u001b[49m\u001b[43mstep\u001b[49m\u001b[43m(\u001b[49m\u001b[43moptimizer\u001b[49m\u001b[43m)\u001b[49m\n\u001b[32m     81\u001b[39m scaler.update()\n\u001b[32m     82\u001b[39m scheduler.step()\n",
      "\u001b[36mFile \u001b[39m\u001b[32m~/Desktop/Project-Correction/.venv/lib/python3.12/site-packages/torch/amp/grad_scaler.py:461\u001b[39m, in \u001b[36mGradScaler.step\u001b[39m\u001b[34m(self, optimizer, *args, **kwargs)\u001b[39m\n\u001b[32m    455\u001b[39m     \u001b[38;5;28mself\u001b[39m.unscale_(optimizer)\n\u001b[32m    457\u001b[39m \u001b[38;5;28;01massert\u001b[39;00m (\n\u001b[32m    458\u001b[39m     \u001b[38;5;28mlen\u001b[39m(optimizer_state[\u001b[33m\"\u001b[39m\u001b[33mfound_inf_per_device\u001b[39m\u001b[33m\"\u001b[39m]) > \u001b[32m0\u001b[39m\n\u001b[32m    459\u001b[39m ), \u001b[33m\"\u001b[39m\u001b[33mNo inf checks were recorded for this optimizer.\u001b[39m\u001b[33m\"\u001b[39m\n\u001b[32m--> \u001b[39m\u001b[32m461\u001b[39m retval = \u001b[38;5;28;43mself\u001b[39;49m\u001b[43m.\u001b[49m\u001b[43m_maybe_opt_step\u001b[49m\u001b[43m(\u001b[49m\u001b[43moptimizer\u001b[49m\u001b[43m,\u001b[49m\u001b[43m \u001b[49m\u001b[43moptimizer_state\u001b[49m\u001b[43m,\u001b[49m\u001b[43m \u001b[49m\u001b[43m*\u001b[49m\u001b[43margs\u001b[49m\u001b[43m,\u001b[49m\u001b[43m \u001b[49m\u001b[43m*\u001b[49m\u001b[43m*\u001b[49m\u001b[43mkwargs\u001b[49m\u001b[43m)\u001b[49m\n\u001b[32m    463\u001b[39m optimizer_state[\u001b[33m\"\u001b[39m\u001b[33mstage\u001b[39m\u001b[33m\"\u001b[39m] = OptState.STEPPED\n\u001b[32m    465\u001b[39m \u001b[38;5;28;01mreturn\u001b[39;00m retval\n",
      "\u001b[36mFile \u001b[39m\u001b[32m~/Desktop/Project-Correction/.venv/lib/python3.12/site-packages/torch/amp/grad_scaler.py:355\u001b[39m, in \u001b[36mGradScaler._maybe_opt_step\u001b[39m\u001b[34m(self, optimizer, optimizer_state, *args, **kwargs)\u001b[39m\n\u001b[32m    347\u001b[39m \u001b[38;5;28;01mdef\u001b[39;00m\u001b[38;5;250m \u001b[39m\u001b[34m_maybe_opt_step\u001b[39m(\n\u001b[32m    348\u001b[39m     \u001b[38;5;28mself\u001b[39m,\n\u001b[32m    349\u001b[39m     optimizer: torch.optim.Optimizer,\n\u001b[32m   (...)\u001b[39m\u001b[32m    352\u001b[39m     **kwargs: Any,\n\u001b[32m    353\u001b[39m ) -> Optional[\u001b[38;5;28mfloat\u001b[39m]:\n\u001b[32m    354\u001b[39m     retval: Optional[\u001b[38;5;28mfloat\u001b[39m] = \u001b[38;5;28;01mNone\u001b[39;00m\n\u001b[32m--> \u001b[39m\u001b[32m355\u001b[39m     \u001b[38;5;28;01mif\u001b[39;00m \u001b[38;5;129;01mnot\u001b[39;00m \u001b[38;5;28;43msum\u001b[39;49m\u001b[43m(\u001b[49m\u001b[43mv\u001b[49m\u001b[43m.\u001b[49m\u001b[43mitem\u001b[49m\u001b[43m(\u001b[49m\u001b[43m)\u001b[49m\u001b[43m \u001b[49m\u001b[38;5;28;43;01mfor\u001b[39;49;00m\u001b[43m \u001b[49m\u001b[43mv\u001b[49m\u001b[43m \u001b[49m\u001b[38;5;129;43;01min\u001b[39;49;00m\u001b[43m \u001b[49m\u001b[43moptimizer_state\u001b[49m\u001b[43m[\u001b[49m\u001b[33;43m\"\u001b[39;49m\u001b[33;43mfound_inf_per_device\u001b[39;49m\u001b[33;43m\"\u001b[39;49m\u001b[43m]\u001b[49m\u001b[43m.\u001b[49m\u001b[43mvalues\u001b[49m\u001b[43m(\u001b[49m\u001b[43m)\u001b[49m\u001b[43m)\u001b[49m:\n\u001b[32m    356\u001b[39m         retval = optimizer.step(*args, **kwargs)\n\u001b[32m    357\u001b[39m     \u001b[38;5;28;01mreturn\u001b[39;00m retval\n",
      "\u001b[36mFile \u001b[39m\u001b[32m~/Desktop/Project-Correction/.venv/lib/python3.12/site-packages/torch/amp/grad_scaler.py:355\u001b[39m, in \u001b[36m<genexpr>\u001b[39m\u001b[34m(.0)\u001b[39m\n\u001b[32m    347\u001b[39m \u001b[38;5;28;01mdef\u001b[39;00m\u001b[38;5;250m \u001b[39m\u001b[34m_maybe_opt_step\u001b[39m(\n\u001b[32m    348\u001b[39m     \u001b[38;5;28mself\u001b[39m,\n\u001b[32m    349\u001b[39m     optimizer: torch.optim.Optimizer,\n\u001b[32m   (...)\u001b[39m\u001b[32m    352\u001b[39m     **kwargs: Any,\n\u001b[32m    353\u001b[39m ) -> Optional[\u001b[38;5;28mfloat\u001b[39m]:\n\u001b[32m    354\u001b[39m     retval: Optional[\u001b[38;5;28mfloat\u001b[39m] = \u001b[38;5;28;01mNone\u001b[39;00m\n\u001b[32m--> \u001b[39m\u001b[32m355\u001b[39m     \u001b[38;5;28;01mif\u001b[39;00m \u001b[38;5;129;01mnot\u001b[39;00m \u001b[38;5;28msum\u001b[39m(\u001b[43mv\u001b[49m\u001b[43m.\u001b[49m\u001b[43mitem\u001b[49m\u001b[43m(\u001b[49m\u001b[43m)\u001b[49m \u001b[38;5;28;01mfor\u001b[39;00m v \u001b[38;5;129;01min\u001b[39;00m optimizer_state[\u001b[33m\"\u001b[39m\u001b[33mfound_inf_per_device\u001b[39m\u001b[33m\"\u001b[39m].values()):\n\u001b[32m    356\u001b[39m         retval = optimizer.step(*args, **kwargs)\n\u001b[32m    357\u001b[39m     \u001b[38;5;28;01mreturn\u001b[39;00m retval\n",
      "\u001b[31mKeyboardInterrupt\u001b[39m: "
     ]
    }
   ],
   "source": [
    "import os\n",
    "import torch\n",
    "import torch.nn.functional as F\n",
    "from torch.utils.data import DataLoader\n",
    "from torch.optim.lr_scheduler import CosineAnnealingLR\n",
    "from torch.amp import autocast, GradScaler\n",
    "from matplotlib import pyplot as plt\n",
    "from utils import NUM_TRAIN_TIMESTEPS, sample_images, AugmentedDataset, save_checkpoint\n",
    "\n",
    "# Config\n",
    "BATCH_SIZE = 16\n",
    "NUM_EPOCHS = 20\n",
    "IMAGE_EXTENSIONS = (\".png\", \".jpg\", \".jpeg\")\n",
    "\n",
    "\n",
    "# Dataset Preparation\n",
    "def count_images(root_dir, extensions=IMAGE_EXTENSIONS):\n",
    "    return sum(\n",
    "        fname.lower().endswith(extensions)\n",
    "        for _, _, filenames in os.walk(root_dir)\n",
    "        for fname in filenames\n",
    "    )\n",
    "\n",
    "\n",
    "print(f\"Training images before augmentation: {count_images(train_dir)}\")\n",
    "print(f\"Validation images before augmentation: {count_images(test_dir)}\")\n",
    "\n",
    "train_dataset = AugmentedDataset(root_dir=train_dir, image_size=IMAGE_SIZE)\n",
    "test_dataset = AugmentedDataset(root_dir=test_dir, image_size=IMAGE_SIZE)\n",
    "\n",
    "train_loader = DataLoader(\n",
    "    train_dataset, batch_size=BATCH_SIZE, shuffle=True, num_workers=4, pin_memory=True\n",
    ")\n",
    "test_loader = DataLoader(\n",
    "    test_dataset, batch_size=BATCH_SIZE, shuffle=False, num_workers=4, pin_memory=True\n",
    ")\n",
    "\n",
    "print(f\"Training samples: {len(train_loader.dataset)}\")\n",
    "print(f\"Validation samples: {len(test_loader.dataset)}\")\n",
    "\n",
    "# Scheduler and Model Setup\n",
    "noise_scheduler = DDPMScheduler(num_train_timesteps=NUM_TRAIN_TIMESTEPS)\n",
    "ddim_scheduler = DDIMScheduler(\n",
    "    beta_start=noise_scheduler.config.beta_start,\n",
    "    beta_end=noise_scheduler.config.beta_end,\n",
    "    beta_schedule=noise_scheduler.config.beta_schedule,\n",
    "    clip_sample=True,\n",
    ")\n",
    "ddim_scheduler.set_timesteps(NUM_TRAIN_TIMESTEPS)\n",
    "\n",
    "model = torch.compile(model)\n",
    "scaler = GradScaler(device=DEVICE)\n",
    "scheduler = CosineAnnealingLR(optimizer, T_max=NUM_EPOCHS, eta_min=1e-6)\n",
    "\n",
    "# Training Loop\n",
    "train_losses, val_losses = [], []\n",
    "\n",
    "print(\n",
    "    f\"Training on {DEVICE} | Batch Size: {BATCH_SIZE} | Epochs: {NUM_EPOCHS} | Starting at epoch {start_epoch}\"\n",
    ")\n",
    "\n",
    "for epoch in range(1, NUM_EPOCHS + 1):\n",
    "    model.train()\n",
    "    total_train_loss = 0.0\n",
    "\n",
    "    for step, (images, _) in enumerate(train_loader, 1):\n",
    "        images = images.to(DEVICE)\n",
    "        noise = torch.randn_like(images)\n",
    "        timesteps = torch.randint(\n",
    "            0, NUM_TRAIN_TIMESTEPS, (images.size(0),), device=DEVICE\n",
    "        )\n",
    "\n",
    "        optimizer.zero_grad()\n",
    "        with autocast(device_type=DEVICE.type, enabled=True):\n",
    "            noisy_images = noise_scheduler.add_noise(images, noise, timesteps)\n",
    "            noise_pred = model(noisy_images, timesteps).sample\n",
    "            loss = F.mse_loss(noise_pred, noise)\n",
    "\n",
    "        scaler.scale(loss).backward()\n",
    "        scaler.step(optimizer)\n",
    "        scaler.update()\n",
    "        scheduler.step()\n",
    "\n",
    "        total_train_loss += loss.item()\n",
    "\n",
    "        if step % 50 == 0 or step == len(train_loader):\n",
    "            print(\n",
    "                f\"[Epoch {epoch}/{NUM_EPOCHS} | Step {step}/{len(train_loader)}] Train Loss: {loss.item():.6f}\"\n",
    "            )\n",
    "\n",
    "        # if step % (len(train_loader) // 3) == 0:\n",
    "        #     print(f\"Reached step {step} of epoch {epoch}. Saving sample image and weights.\")\n",
    "        #     sample_images(\n",
    "        #         output_path=f\"{model_save_dir}/epoch_{epoch + start_epoch}_step_{step}.png\",\n",
    "        #         num_steps=NUM_TRAIN_TIMESTEPS,\n",
    "        #         DEVICE=DEVICE,\n",
    "        #         IMAGE_SIZE=IMAGE_SIZE,\n",
    "        #         model=model,\n",
    "        #         ddim_scheduler=ddim_scheduler,\n",
    "        #     )\n",
    "        #     ckpt_path = os.path.join(\n",
    "        #         model_save_dir, f\"ddim_unet_epoch{epoch + start_epoch}_step{step}.pth\"\n",
    "        #     )\n",
    "        #     save_checkpoint(\n",
    "        #         model=model,\n",
    "        #         optimizer=optimizer,\n",
    "        #         epoch=epoch + start_epoch,\n",
    "        #         path=ckpt_path,\n",
    "        #     )\n",
    "\n",
    "    sample_images(\n",
    "        output_path=f\"{model_save_dir}/epoch_{epoch + start_epoch}.png\",\n",
    "        num_steps=NUM_TRAIN_TIMESTEPS,\n",
    "        DEVICE=DEVICE,\n",
    "        IMAGE_SIZE=IMAGE_SIZE,\n",
    "        model=model,\n",
    "        ddim_scheduler=ddim_scheduler,\n",
    "    )\n",
    "\n",
    "    avg_train_loss = total_train_loss / len(train_loader)\n",
    "    train_losses.append(avg_train_loss)\n",
    "    print(f\"Epoch {epoch} complete. Avg Train Loss: {avg_train_loss:.6f}\")\n",
    "\n",
    "    # Validation\n",
    "    model.eval()\n",
    "    total_val_loss = 0.0\n",
    "\n",
    "    with torch.no_grad():\n",
    "        for images, _ in test_loader:\n",
    "            images = images.to(DEVICE)\n",
    "            noise = torch.randn_like(images)\n",
    "            timesteps = torch.randint(\n",
    "                0, NUM_TRAIN_TIMESTEPS, (images.size(0),), device=DEVICE\n",
    "            )\n",
    "\n",
    "            with autocast(device_type=DEVICE.type, enabled=True):\n",
    "                noisy_images = noise_scheduler.add_noise(images, noise, timesteps)\n",
    "                noise_pred = model(noisy_images, timesteps).sample\n",
    "                total_val_loss += F.mse_loss(noise_pred, noise).item()\n",
    "\n",
    "    avg_val_loss = total_val_loss / len(test_loader)\n",
    "    val_losses.append(avg_val_loss)\n",
    "    print(f\"Epoch {epoch} complete. Avg Validation Loss: {avg_val_loss:.6f}\")\n",
    "\n",
    "    ckpt_path = os.path.join(\n",
    "        model_save_dir, f\"ddim_unet_epoch{epoch + start_epoch}.pth\"\n",
    "    )\n",
    "    save_checkpoint(\n",
    "        model=model,\n",
    "        optimizer=optimizer,\n",
    "        epoch=epoch + start_epoch,\n",
    "        path=ckpt_path,\n",
    "    )"
   ]
  },
  {
   "cell_type": "code",
   "execution_count": 6,
   "id": "f3cb12c0",
   "metadata": {},
   "outputs": [
    {
     "data": {
      "image/png": "[encoded data removed]",
      "text/plain": [
       "<Figure size 800x500 with 1 Axes>"
      ]
     },
     "metadata": {},
     "output_type": "display_data"
    }
   ],
   "source": [
    "import os\n",
    "import numpy as np\n",
    "import matplotlib.pyplot as plt\n",
    "\n",
    "# Path to the loss history file\n",
    "history_file = os.path.join(model_save_dir, \"loss_history.txt\")\n",
    "\n",
    "# Load existing history if it exists\n",
    "all_train_losses = []\n",
    "all_val_losses = []\n",
    "\n",
    "if os.path.exists(history_file):\n",
    "    with open(history_file, \"r\") as f:\n",
    "        lines = f.readlines()[1:]  # Skip header\n",
    "        for line in lines:\n",
    "            _, train_loss, val_loss = line.strip().split(\"\\t\")\n",
    "            all_train_losses.append(float(train_loss))\n",
    "            all_val_losses.append(float(val_loss))\n",
    "\n",
    "# Append current session's losses\n",
    "all_train_losses.extend(train_losses)\n",
    "all_val_losses.extend(val_losses)\n",
    "\n",
    "# Save updated history\n",
    "with open(history_file, \"w\") as f:\n",
    "    f.write(\"Epoch\\tTrain Loss\\tValidation Loss\\n\")\n",
    "    for i, (tr, vl) in enumerate(zip(all_train_losses, all_val_losses), 1):\n",
    "        f.write(f\"{i}\\t{tr:.6f}\\t{vl:.6f}\\n\")\n",
    "\n",
    "# Plot full loss history\n",
    "plt.figure(figsize=(8, 5))\n",
    "plt.plot(range(1, len(all_train_losses) + 1), all_train_losses, label=\"Train Loss\")\n",
    "plt.plot(range(1, len(all_val_losses) + 1), all_val_losses, label=\"Validation Loss\")\n",
    "plt.xlabel(\"Epoch\")\n",
    "plt.ylabel(\"MSE Loss\")\n",
    "plt.title(\"Train vs Validation Loss Over Time\")\n",
    "plt.legend()\n",
    "plt.grid(True)\n",
    "plt.tight_layout()\n",
    "plt.show()"
   ]
  },
  {
   "cell_type": "code",
   "execution_count": null,
   "id": "c7758062",
   "metadata": {},
   "outputs": [
    {
     "name": "stderr",
     "output_type": "stream",
     "text": [
      "Sampling DDIM: 100%|██████████| 1000/1000 [00:22<00:00, 44.48it/s]\n"
     ]
    },
    {
     "name": "stdout",
     "output_type": "stream",
     "text": [
      "Sample saved to result/ddim_sample_epoch20_0.png\n"
     ]
    },
    {
     "name": "stderr",
     "output_type": "stream",
     "text": [
      "Sampling DDIM: 100%|██████████| 1000/1000 [00:22<00:00, 44.61it/s]\n"
     ]
    },
    {
     "name": "stdout",
     "output_type": "stream",
     "text": [
      "Sample saved to result/ddim_sample_epoch20_1.png\n"
     ]
    },
    {
     "name": "stderr",
     "output_type": "stream",
     "text": [
      "Sampling DDIM: 100%|██████████| 1000/1000 [00:22<00:00, 44.96it/s]\n"
     ]
    },
    {
     "name": "stdout",
     "output_type": "stream",
     "text": [
      "Sample saved to result/ddim_sample_epoch20_2.png\n"
     ]
    },
    {
     "name": "stderr",
     "output_type": "stream",
     "text": [
      "Sampling DDIM: 100%|██████████| 1000/1000 [00:22<00:00, 44.74it/s]\n"
     ]
    },
    {
     "name": "stdout",
     "output_type": "stream",
     "text": [
      "Sample saved to result/ddim_sample_epoch20_3.png\n"
     ]
    },
    {
     "name": "stderr",
     "output_type": "stream",
     "text": [
      "Sampling DDIM: 100%|██████████| 1000/1000 [00:22<00:00, 44.65it/s]\n"
     ]
    },
    {
     "name": "stdout",
     "output_type": "stream",
     "text": [
      "Sample saved to result/ddim_sample_epoch20_4.png\n"
     ]
    },
    {
     "name": "stderr",
     "output_type": "stream",
     "text": [
      "Sampling DDIM: 100%|██████████| 1000/1000 [00:22<00:00, 44.62it/s]\n"
     ]
    },
    {
     "name": "stdout",
     "output_type": "stream",
     "text": [
      "Sample saved to result/ddim_sample_epoch20_5.png\n"
     ]
    },
    {
     "name": "stderr",
     "output_type": "stream",
     "text": [
      "Sampling DDIM: 100%|██████████| 1000/1000 [00:22<00:00, 44.54it/s]\n"
     ]
    },
    {
     "name": "stdout",
     "output_type": "stream",
     "text": [
      "Sample saved to result/ddim_sample_epoch20_6.png\n"
     ]
    },
    {
     "name": "stderr",
     "output_type": "stream",
     "text": [
      "Sampling DDIM: 100%|██████████| 1000/1000 [00:22<00:00, 44.66it/s]\n"
     ]
    },
    {
     "name": "stdout",
     "output_type": "stream",
     "text": [
      "Sample saved to result/ddim_sample_epoch20_7.png\n"
     ]
    },
    {
     "name": "stderr",
     "output_type": "stream",
     "text": [
      "Sampling DDIM: 100%|██████████| 1000/1000 [00:22<00:00, 44.78it/s]\n"
     ]
    },
    {
     "name": "stdout",
     "output_type": "stream",
     "text": [
      "Sample saved to result/ddim_sample_epoch20_8.png\n"
     ]
    },
    {
     "name": "stderr",
     "output_type": "stream",
     "text": [
      "Sampling DDIM: 100%|██████████| 1000/1000 [00:22<00:00, 44.95it/s]"
     ]
    },
    {
     "name": "stdout",
     "output_type": "stream",
     "text": [
      "Sample saved to result/ddim_sample_epoch20_9.png\n"
     ]
    },
    {
     "name": "stderr",
     "output_type": "stream",
     "text": [
      "\n"
     ]
    }
   ],
   "source": [
    "from diffusers import DDPMScheduler, DDIMScheduler\n",
    "from tqdm import tqdm\n",
    "from utils import sample_images\n",
    "\n",
    "# Imposta il numero di step di inferenza per DDIM (uguale a NUM_TRAIN_TIMESTEPS di default)\n",
    "# 6. Sampling example with DDIM\n",
    "noise_scheduler = DDPMScheduler(num_train_timesteps=NUM_TRAIN_TIMESTEPS)\n",
    "\n",
    "ddim_scheduler = DDIMScheduler(\n",
    "    beta_start=noise_scheduler.config.beta_start,\n",
    "    beta_end=noise_scheduler.config.beta_end,\n",
    "    beta_schedule=noise_scheduler.config.beta_schedule,\n",
    "    clip_sample=True,\n",
    ")\n",
    "\n",
    "ddim_scheduler.set_timesteps(NUM_TRAIN_TIMESTEPS)\n",
    "\n",
    "\n",
    "# Sample images\n",
    "for i in range(10):\n",
    "    sample_images(\n",
    "        output_path=f\"result/ddim_sample_epoch{epoch + start_epoch}_{i}.png\",\n",
    "        num_steps=NUM_TRAIN_TIMESTEPS,\n",
    "        DEVICE=DEVICE,\n",
    "        IMAGE_SIZE=IMAGE_SIZE,\n",
    "        model=model,\n",
    "        ddim_scheduler=ddim_scheduler,\n",
    "    )"
   ]
  }
 ],
 "metadata": {
  "kernelspec": {
   "display_name": ".venv",
   "language": "python",
   "name": "python3"
  },
  "language_info": {
   "codemirror_mode": {
    "name": "ipython",
    "version": 3
   },
   "file_extension": ".py",
   "mimetype": "text/x-python",
   "name": "python",
   "nbconvert_exporter": "python",
   "pygments_lexer": "ipython3",
   "version": "3.12.3"
  }
 },
 "nbformat": 4,
 "nbformat_minor": 5
}
